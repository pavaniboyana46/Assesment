{
 "cells": [
  {
   "cell_type": "markdown",
   "id": "6293cc50",
   "metadata": {},
   "source": [
    "# 100 numpy exercises\n",
    "\n",
    "This is a collection of exercises that have been collected in the numpy mailing list, on stack overflow\n",
    "and in the numpy documentation. The goal of this collection is to offer a quick reference for both old\n",
    "and new users but also to provide a set of exercises for those who teach.\n",
    "\n",
    "\n",
    "If you find an error or think you've a better way to solve some of them, feel\n",
    "free to open an issue at <https://github.com/rougier/numpy-100>."
   ]
  },
  {
   "cell_type": "markdown",
   "id": "a167c052",
   "metadata": {},
   "source": [
    "File automatically generated. See the documentation to update questions/answers/hints programmatically."
   ]
  },
  {
   "cell_type": "markdown",
   "id": "57fc0ee5",
   "metadata": {},
   "source": [
    "Run the `initialize.py` module, then for each question you can query the\n",
    "answer or an hint with `hint(n)` or `answer(n)` for `n` question number."
   ]
  },
  {
   "cell_type": "code",
   "execution_count": null,
   "id": "3d46fba2",
   "metadata": {},
   "outputs": [],
   "source": [
    "%run initialise.py"
   ]
  },
  {
   "cell_type": "markdown",
   "id": "3c1222ff",
   "metadata": {},
   "source": [
    "#### 1. Import the numpy package under the name `np` (★☆☆)"
   ]
  },
  {
   "cell_type": "code",
   "execution_count": null,
   "id": "f52e6a0b",
   "metadata": {},
   "outputs": [],
   "source": [
    "\n",
    "import numpy as np"
   ]
  },
  {
   "cell_type": "markdown",
   "id": "9d9f4753",
   "metadata": {},
   "source": [
    "#### 2. Print the numpy version and the configuration (★☆☆)"
   ]
  },
  {
   "cell_type": "code",
   "execution_count": 20,
   "id": "b7fa5fa1",
   "metadata": {},
   "outputs": [
    {
     "data": {
      "text/plain": [
       "'1.26.4'"
      ]
     },
     "execution_count": 20,
     "metadata": {},
     "output_type": "execute_result"
    }
   ],
   "source": [
    "np.__version__"
   ]
  },
  {
   "cell_type": "markdown",
   "id": "3e4c23c6",
   "metadata": {},
   "source": [
    "#### 3. Create a null vector of size 10 (★☆☆)"
   ]
  },
  {
   "cell_type": "code",
   "execution_count": 21,
   "id": "083c5c46",
   "metadata": {},
   "outputs": [
    {
     "name": "stdout",
     "output_type": "stream",
     "text": [
      "[0. 0. 0. 0. 0. 0. 0. 0. 0. 0.]\n"
     ]
    }
   ],
   "source": [
    "null_vector=np.zeros(10)\n",
    "print(null_vector)"
   ]
  },
  {
   "cell_type": "markdown",
   "id": "c38bbe82",
   "metadata": {},
   "source": [
    "#### 4. How to find the memory size of any array (★☆☆)"
   ]
  },
  {
   "cell_type": "code",
   "execution_count": 22,
   "id": "02b04021",
   "metadata": {},
   "outputs": [
    {
     "name": "stdout",
     "output_type": "stream",
     "text": [
      "size of array 5\n"
     ]
    }
   ],
   "source": [
    "arr = [1,2,3,4,5]\n",
    "print(\"size of array\",len(arr))"
   ]
  },
  {
   "cell_type": "markdown",
   "id": "67f893d4",
   "metadata": {},
   "source": [
    "#### 5. How to get the documentation of the numpy add function from the command line? (★☆☆)"
   ]
  },
  {
   "cell_type": "code",
   "execution_count": 23,
   "id": "40e6b70d",
   "metadata": {},
   "outputs": [
    {
     "name": "stdout",
     "output_type": "stream",
     "text": [
      "Help on ufunc:\n",
      "\n",
      "add = <ufunc 'add'>\n",
      "    add(x1, x2, /, out=None, *, where=True, casting='same_kind', order='K', dtype=None, subok=True[, signature, extobj])\n",
      "\n",
      "    Add arguments element-wise.\n",
      "\n",
      "    Parameters\n",
      "    ----------\n",
      "    x1, x2 : array_like\n",
      "        The arrays to be added.\n",
      "        If ``x1.shape != x2.shape``, they must be broadcastable to a common\n",
      "        shape (which becomes the shape of the output).\n",
      "    out : ndarray, None, or tuple of ndarray and None, optional\n",
      "        A location into which the result is stored. If provided, it must have\n",
      "        a shape that the inputs broadcast to. If not provided or None,\n",
      "        a freshly-allocated array is returned. A tuple (possible only as a\n",
      "        keyword argument) must have length equal to the number of outputs.\n",
      "    where : array_like, optional\n",
      "        This condition is broadcast over the input. At locations where the\n",
      "        condition is True, the `out` array will be set to the ufunc result.\n",
      "        Elsewhere, the `out` array will retain its original value.\n",
      "        Note that if an uninitialized `out` array is created via the default\n",
      "        ``out=None``, locations within it where the condition is False will\n",
      "        remain uninitialized.\n",
      "    **kwargs\n",
      "        For other keyword-only arguments, see the\n",
      "        :ref:`ufunc docs <ufuncs.kwargs>`.\n",
      "\n",
      "    Returns\n",
      "    -------\n",
      "    add : ndarray or scalar\n",
      "        The sum of `x1` and `x2`, element-wise.\n",
      "        This is a scalar if both `x1` and `x2` are scalars.\n",
      "\n",
      "    Notes\n",
      "    -----\n",
      "    Equivalent to `x1` + `x2` in terms of array broadcasting.\n",
      "\n",
      "    Examples\n",
      "    --------\n",
      "    >>> np.add(1.0, 4.0)\n",
      "    5.0\n",
      "    >>> x1 = np.arange(9.0).reshape((3, 3))\n",
      "    >>> x2 = np.arange(3.0)\n",
      "    >>> np.add(x1, x2)\n",
      "    array([[  0.,   2.,   4.],\n",
      "           [  3.,   5.,   7.],\n",
      "           [  6.,   8.,  10.]])\n",
      "\n",
      "    The ``+`` operator can be used as a shorthand for ``np.add`` on ndarrays.\n",
      "\n",
      "    >>> x1 = np.arange(9.0).reshape((3, 3))\n",
      "    >>> x2 = np.arange(3.0)\n",
      "    >>> x1 + x2\n",
      "    array([[ 0.,  2.,  4.],\n",
      "           [ 3.,  5.,  7.],\n",
      "           [ 6.,  8., 10.]])\n",
      "\n"
     ]
    }
   ],
   "source": [
    "help(np.add)"
   ]
  },
  {
   "cell_type": "markdown",
   "id": "e0c739c6",
   "metadata": {},
   "source": [
    "#### 6. Create a null vector of size 10 but the fifth value which is 1 (★☆☆)"
   ]
  },
  {
   "cell_type": "code",
   "execution_count": 24,
   "id": "bcceacf7",
   "metadata": {},
   "outputs": [
    {
     "name": "stdout",
     "output_type": "stream",
     "text": [
      "[0. 0. 0. 0. 1. 0. 0. 0. 0. 0.]\n"
     ]
    }
   ],
   "source": [
    "null_vector = np.zeros(10)\n",
    "null_vector[4] = 1\n",
    "print(null_vector)"
   ]
  },
  {
   "cell_type": "markdown",
   "id": "fbebedab",
   "metadata": {},
   "source": [
    "#### 7. Create a vector with values ranging from 10 to 49 (★☆☆)"
   ]
  },
  {
   "cell_type": "code",
   "execution_count": 25,
   "id": "3d117d54",
   "metadata": {},
   "outputs": [
    {
     "name": "stdout",
     "output_type": "stream",
     "text": [
      "[10 11 12 13 14 15 16 17 18 19 20 21 22 23 24 25 26 27 28 29 30 31 32 33\n",
      " 34 35 36 37 38 39 40 41 42 43 44 45 46 47 48 49]\n"
     ]
    }
   ],
   "source": [
    "vector = np.arange(10,50)\n",
    "print(vector)"
   ]
  },
  {
   "cell_type": "markdown",
   "id": "ad0bff02",
   "metadata": {},
   "source": [
    "#### 8. Reverse a vector (first element becomes last) (★☆☆)"
   ]
  },
  {
   "cell_type": "code",
   "execution_count": 26,
   "id": "22d23470",
   "metadata": {},
   "outputs": [
    {
     "name": "stdout",
     "output_type": "stream",
     "text": [
      "[49 48 47 46 45 44 43 42 41 40 39 38 37 36 35 34 33 32 31 30 29 28 27 26\n",
      " 25 24 23 22 21 20 19 18 17 16 15 14 13 12 11 10]\n"
     ]
    }
   ],
   "source": [
    "vector = np.arange(10,50)\n",
    "reversed_vector = vector[::-1]\n",
    "print(reversed_vector)"
   ]
  },
  {
   "cell_type": "markdown",
   "id": "9f59d7e1",
   "metadata": {},
   "source": [
    "#### 9. Create a 3x3 matrix with values ranging from 0 to 8 (★☆☆)"
   ]
  },
  {
   "cell_type": "code",
   "execution_count": 27,
   "id": "7449e82d",
   "metadata": {},
   "outputs": [
    {
     "name": "stdout",
     "output_type": "stream",
     "text": [
      "[[0 1 2]\n",
      " [3 4 5]\n",
      " [6 7 8]]\n"
     ]
    }
   ],
   "source": [
    "matrix = np.arange(9).reshape(3,3)\n",
    "print(matrix)"
   ]
  },
  {
   "cell_type": "markdown",
   "id": "f374c4cf",
   "metadata": {},
   "source": [
    "#### 10. Find indices of non-zero elements from [1,2,0,0,4,0] (★☆☆)"
   ]
  },
  {
   "cell_type": "code",
   "execution_count": 28,
   "id": "1a84bed8",
   "metadata": {},
   "outputs": [
    {
     "name": "stdout",
     "output_type": "stream",
     "text": [
      "(array([0, 1, 4], dtype=int64),)\n"
     ]
    }
   ],
   "source": [
    "array = np.array([1,2,0,0,4,0])\n",
    "non_zero_indices = np.nonzero(array)\n",
    "print(non_zero_indices)"
   ]
  },
  {
   "cell_type": "markdown",
   "id": "9c4707f5",
   "metadata": {},
   "source": [
    "#### 11. Create a 3x3 identity matrix (★☆☆)"
   ]
  },
  {
   "cell_type": "code",
   "execution_count": 29,
   "id": "29dc1fd3",
   "metadata": {},
   "outputs": [
    {
     "name": "stdout",
     "output_type": "stream",
     "text": [
      "[[1. 0. 0.]\n",
      " [0. 1. 0.]\n",
      " [0. 0. 1.]]\n"
     ]
    }
   ],
   "source": [
    "identity_matrix = np.eye(3)\n",
    "print(identity_matrix)"
   ]
  },
  {
   "cell_type": "markdown",
   "id": "3bac294a",
   "metadata": {},
   "source": [
    "#### 12. Create a 3x3x3 array with random values (★☆☆)"
   ]
  },
  {
   "cell_type": "code",
   "execution_count": 30,
   "id": "eadfae67",
   "metadata": {},
   "outputs": [
    {
     "name": "stdout",
     "output_type": "stream",
     "text": [
      "[[[0.12921826 0.260547   0.95846093]\n",
      "  [0.91868889 0.22342539 0.23259533]\n",
      "  [0.82204153 0.65158659 0.83407823]]\n",
      "\n",
      " [[0.34473128 0.28888088 0.18047477]\n",
      "  [0.66887358 0.33023414 0.12038533]\n",
      "  [0.34529031 0.06685055 0.22001712]]\n",
      "\n",
      " [[0.38359692 0.88518231 0.07001159]\n",
      "  [0.88641124 0.69519009 0.32219368]\n",
      "  [0.64649996 0.50080298 0.41696606]]]\n"
     ]
    }
   ],
   "source": [
    "random_array = np.random.random((3,3,3))\n",
    "print(random_array)\n"
   ]
  },
  {
   "cell_type": "markdown",
   "id": "466c2989",
   "metadata": {},
   "source": [
    "#### 13. Create a 10x10 array with random values and find the minimum and maximum values (★☆☆)"
   ]
  },
  {
   "cell_type": "code",
   "execution_count": 31,
   "id": "9a74dbfc",
   "metadata": {},
   "outputs": [
    {
     "name": "stdout",
     "output_type": "stream",
     "text": [
      "Random 10*10 array\n",
      "[[0.94247406 0.7183777  0.79314368 0.27759821 0.45071249 0.40778139\n",
      "  0.15117532 0.42097334 0.29975507 0.44049027]\n",
      " [0.46734938 0.95864477 0.05173321 0.63041987 0.30602136 0.395278\n",
      "  0.48853427 0.71220501 0.34418721 0.1257017 ]\n",
      " [0.7580119  0.88169974 0.89155983 0.83451276 0.41990263 0.34176313\n",
      "  0.58642449 0.18612683 0.10564082 0.44815691]\n",
      " [0.89195578 0.69333225 0.12827099 0.22908932 0.7113964  0.13256559\n",
      "  0.40701031 0.16915878 0.64054632 0.900101  ]\n",
      " [0.55561814 0.80190506 0.77007668 0.06576309 0.02179007 0.17754385\n",
      "  0.01769901 0.72394738 0.98011057 0.93747664]\n",
      " [0.58537085 0.27724425 0.21923408 0.3478947  0.16168016 0.91489577\n",
      "  0.86804553 0.14944487 0.04581032 0.77530922]\n",
      " [0.40015553 0.68909567 0.16300484 0.02229699 0.18579685 0.7072502\n",
      "  0.9270918  0.0735814  0.80683365 0.4720708 ]\n",
      " [0.87602014 0.06656621 0.25493023 0.51811549 0.1885905  0.09192404\n",
      "  0.22337918 0.06371094 0.81343977 0.41248938]\n",
      " [0.33717043 0.12439031 0.98698925 0.81931991 0.32732392 0.29439446\n",
      "  0.7757456  0.76265118 0.23788357 0.08822514]\n",
      " [0.93150508 0.03572168 0.06508662 0.43713212 0.86297072 0.40594161\n",
      "  0.48879064 0.04375033 0.02818553 0.31210682]]\n",
      "\n",
      " minimum values 0.017699007812490675\n",
      "maximum value 0.9869892474118303\n"
     ]
    }
   ],
   "source": [
    "random_array = np.random.random((10,10))\n",
    "min_value  = np.min(random_array)\n",
    "max_value  = np.max(random_array)\n",
    "print(\"Random 10*10 array\")\n",
    "print(random_array)\n",
    "print(\"\\n minimum values\",min_value)\n",
    "print(\"maximum value\",max_value)\n"
   ]
  },
  {
   "cell_type": "markdown",
   "id": "53a8edb2",
   "metadata": {},
   "source": [
    "#### 14. Create a random vector of size 30 and find the mean value (★☆☆)"
   ]
  },
  {
   "cell_type": "code",
   "execution_count": 32,
   "id": "6691530b",
   "metadata": {},
   "outputs": [
    {
     "name": "stdout",
     "output_type": "stream",
     "text": [
      "random vector: [0.21325808 0.3535179  0.41782887 0.63566135 0.32747117 0.44230296\n",
      " 0.76710806 0.09159952 0.12120441 0.55775665 0.82900698 0.06769434\n",
      " 0.87964504 0.76041829 0.64023132 0.4083195  0.57499656 0.99131361\n",
      " 0.25970054 0.11447598 0.23903518 0.97498833 0.67536971 0.65692849\n",
      " 0.22079539 0.84608668 0.36689881 0.75325241 0.72365369 0.10313162]\n",
      "\n",
      "mean value: 0.5004550472013582\n"
     ]
    }
   ],
   "source": [
    "random_vector = np.random.random((30))\n",
    "mean_value =np.mean(random_vector)\n",
    "print(\"random vector:\",random_vector)\n",
    "print(\"\\nmean value:\",mean_value)"
   ]
  },
  {
   "cell_type": "markdown",
   "id": "cbaad31c",
   "metadata": {},
   "source": [
    "#### 15. Create a 2d array with 1 on the border and 0 inside (★☆☆)"
   ]
  },
  {
   "cell_type": "code",
   "execution_count": 33,
   "id": "ad8308e3",
   "metadata": {},
   "outputs": [
    {
     "name": "stdout",
     "output_type": "stream",
     "text": [
      "[[1. 1. 1. 1. 1.]\n",
      " [1. 0. 0. 0. 1.]\n",
      " [1. 0. 0. 0. 1.]\n",
      " [1. 0. 0. 0. 1.]\n",
      " [1. 1. 1. 1. 1.]]\n"
     ]
    }
   ],
   "source": [
    "size = 5\n",
    "array = np.ones((size, size))\n",
    "array[1:-1, 1:-1] = 0\n",
    "print(array)"
   ]
  },
  {
   "cell_type": "markdown",
   "id": "c5ecc267",
   "metadata": {},
   "source": [
    "#### 16. How to add a border (filled with 0's) around an existing array? (★☆☆)"
   ]
  },
  {
   "cell_type": "code",
   "execution_count": 34,
   "id": "9d5c78c4",
   "metadata": {},
   "outputs": [
    {
     "name": "stdout",
     "output_type": "stream",
     "text": [
      "[[0 0 0 0 0]\n",
      " [0 1 2 3 0]\n",
      " [0 4 5 6 0]\n",
      " [0 7 8 9 0]\n",
      " [0 0 0 0 0]]\n"
     ]
    }
   ],
   "source": [
    "array = np.array([[1,2,3], [4,5,6], [7,8,9]])\n",
    "array_with_border = np.pad(array,pad_width=1,mode='constant',constant_values=0)\n",
    "print(array_with_border)"
   ]
  },
  {
   "cell_type": "markdown",
   "id": "ef909b72",
   "metadata": {},
   "source": [
    "#### 17. What is the result of the following expression? (★☆☆)\n",
    "```python\n",
    "0 * np.nan\n",
    "np.nan == np.nan\n",
    "np.inf > np.nan\n",
    "np.nan - np.nan\n",
    "np.nan in set([np.nan])\n",
    "0.3 == 3 * 0.1\n",
    "```"
   ]
  },
  {
   "cell_type": "code",
   "execution_count": 2,
   "id": "3b4985f2",
   "metadata": {},
   "outputs": [
    {
     "ename": "SyntaxError",
     "evalue": "invalid character '→' (U+2192) (1395678989.py, line 1)",
     "output_type": "error",
     "traceback": [
      "\u001b[1;36m  Cell \u001b[1;32mIn[2], line 1\u001b[1;36m\u001b[0m\n\u001b[1;33m    0.3 == 3 * 0.1    → False\u001b[0m\n\u001b[1;37m                      ^\u001b[0m\n\u001b[1;31mSyntaxError\u001b[0m\u001b[1;31m:\u001b[0m invalid character '→' (U+2192)\n"
     ]
    }
   ],
   "source": [
    "\n",
    "0.3 == 3 * 0.1    → False\n"
   ]
  },
  {
   "cell_type": "markdown",
   "id": "502738ac",
   "metadata": {},
   "source": [
    "#### 18. Create a 5x5 matrix with values 1,2,3,4 just below the diagonal (★☆☆)"
   ]
  },
  {
   "cell_type": "code",
   "execution_count": 35,
   "id": "faed6e2b",
   "metadata": {},
   "outputs": [
    {
     "name": "stdout",
     "output_type": "stream",
     "text": [
      "[[0. 0. 0. 0. 0.]\n",
      " [1. 0. 0. 0. 0.]\n",
      " [0. 0. 0. 0. 0.]\n",
      " [0. 0. 0. 0. 0.]\n",
      " [0. 0. 0. 0. 0.]]\n",
      "[[0. 0. 0. 0. 0.]\n",
      " [1. 0. 0. 0. 0.]\n",
      " [0. 2. 0. 0. 0.]\n",
      " [0. 0. 0. 0. 0.]\n",
      " [0. 0. 0. 0. 0.]]\n",
      "[[0. 0. 0. 0. 0.]\n",
      " [1. 0. 0. 0. 0.]\n",
      " [0. 2. 0. 0. 0.]\n",
      " [0. 0. 3. 0. 0.]\n",
      " [0. 0. 0. 0. 0.]]\n",
      "[[0. 0. 0. 0. 0.]\n",
      " [1. 0. 0. 0. 0.]\n",
      " [0. 2. 0. 0. 0.]\n",
      " [0. 0. 3. 0. 0.]\n",
      " [0. 0. 0. 4. 0.]]\n"
     ]
    }
   ],
   "source": [
    "matrix = np.zeros((5,5))\n",
    "for i in range(1,5):\n",
    "    matrix[i, i-1]= i\n",
    "    print(matrix)"
   ]
  },
  {
   "cell_type": "markdown",
   "id": "a65da660",
   "metadata": {},
   "source": [
    "#### 19. Create a 8x8 matrix and fill it with a checkerboard pattern (★☆☆)"
   ]
  },
  {
   "cell_type": "code",
   "execution_count": 36,
   "id": "ed150400",
   "metadata": {},
   "outputs": [
    {
     "name": "stdout",
     "output_type": "stream",
     "text": [
      "[[0. 1. 0. 1. 0. 1. 0. 1.]\n",
      " [1. 0. 1. 0. 1. 0. 1. 0.]\n",
      " [0. 1. 0. 1. 0. 1. 0. 1.]\n",
      " [1. 0. 1. 0. 1. 0. 1. 0.]\n",
      " [0. 1. 0. 1. 0. 1. 0. 1.]\n",
      " [1. 0. 1. 0. 1. 0. 1. 0.]\n",
      " [0. 1. 0. 1. 0. 1. 0. 1.]\n",
      " [1. 0. 1. 0. 1. 0. 1. 0.]]\n"
     ]
    }
   ],
   "source": [
    "matrix = np.zeros((8,8))\n",
    "matrix[::2,1::2] = 1\n",
    "matrix[1::2,::2] = 1\n",
    "print(matrix)"
   ]
  },
  {
   "cell_type": "markdown",
   "id": "9f7f9c49",
   "metadata": {},
   "source": [
    "#### 20. Consider a (6,7,8) shape array, what is the index (x,y,z) of the 100th element? (★☆☆)"
   ]
  },
  {
   "cell_type": "code",
   "execution_count": 37,
   "id": "3782b5a9",
   "metadata": {},
   "outputs": [
    {
     "name": "stdout",
     "output_type": "stream",
     "text": [
      "The index (x,y,z) of the 100th element is:(1,5,3)\n"
     ]
    }
   ],
   "source": [
    "shape = (6,7,8)\n",
    "index_1d = 99\n",
    "x = index_1d // (shape[1]*shape[2])\n",
    "y=(index_1d // shape[2]) % shape[1]\n",
    "z=index_1d % shape[2]\n",
    "print(f\"The index (x,y,z) of the 100th element is:({x},{y},{z})\")"
   ]
  },
  {
   "cell_type": "markdown",
   "id": "66bfda35",
   "metadata": {},
   "source": [
    "#### 21. Create a checkerboard 8x8 matrix using the tile function (★☆☆)"
   ]
  },
  {
   "cell_type": "code",
   "execution_count": 38,
   "id": "4c07477c",
   "metadata": {},
   "outputs": [
    {
     "name": "stdout",
     "output_type": "stream",
     "text": [
      "[[0 1 0 1 0 1 0 1]\n",
      " [1 0 1 0 1 0 1 0]\n",
      " [0 1 0 1 0 1 0 1]\n",
      " [1 0 1 0 1 0 1 0]\n",
      " [0 1 0 1 0 1 0 1]\n",
      " [1 0 1 0 1 0 1 0]\n",
      " [0 1 0 1 0 1 0 1]\n",
      " [1 0 1 0 1 0 1 0]]\n"
     ]
    }
   ],
   "source": [
    "import numpy as np\n",
    "\n",
    "# Create a 2x2 base pattern for the checkerboard\n",
    "checkerboard_pattern = np.array([[0, 1], [1, 0]])\n",
    "\n",
    "# Use the tile function to extend the pattern to an 8x8 matrix\n",
    "checkerboard = np.tile(checkerboard_pattern, (4, 4))\n",
    "\n",
    "# Print the checkerboard matrix\n",
    "print(checkerboard)\n"
   ]
  },
  {
   "cell_type": "markdown",
   "id": "d5bcfc08",
   "metadata": {},
   "source": [
    "#### 22. Normalize a 5x5 random matrix (★☆☆)"
   ]
  },
  {
   "cell_type": "code",
   "execution_count": 39,
   "id": "cea6c993",
   "metadata": {},
   "outputs": [
    {
     "name": "stdout",
     "output_type": "stream",
     "text": [
      "Original Matrix:\n",
      "[[0.68473716 0.92793874 0.95047676 0.12665107 0.0626503 ]\n",
      " [0.97193653 0.68790166 0.69010343 0.3375842  0.26186972]\n",
      " [0.20418088 0.51458263 0.60351481 0.3006572  0.69471589]\n",
      " [0.15301267 0.33654322 0.95668639 0.03768817 0.09422975]\n",
      " [0.54522244 0.23158802 0.13892609 0.68878798 0.58409587]]\n",
      "\n",
      "Normalized Matrix:\n",
      "[[0.69258778 0.95290568 0.97702991 0.09522404 0.02671895]\n",
      " [1.         0.69597499 0.69833171 0.32100246 0.23995927]\n",
      " [0.17821033 0.5104579  0.60564907 0.28147657 0.7032688 ]\n",
      " [0.12344095 0.31988823 0.98367657 0.         0.06052093]\n",
      " [0.54325412 0.20754636 0.10836296 0.69692369 0.58486343]]\n"
     ]
    }
   ],
   "source": [
    "import numpy as np\n",
    "\n",
    "# Generate a 5x5 random matrix\n",
    "random_matrix = np.random.rand(5, 5)\n",
    "\n",
    "# Normalize the matrix (scaling values between 0 and 1)\n",
    "normalized_matrix = (random_matrix - random_matrix.min()) / (random_matrix.max() - random_matrix.min())\n",
    "\n",
    "# Print the original and normalized matrices\n",
    "print(\"Original Matrix:\")\n",
    "print(random_matrix)\n",
    "\n",
    "print(\"\\nNormalized Matrix:\")\n",
    "print(normalized_matrix)\n"
   ]
  },
  {
   "cell_type": "markdown",
   "id": "f9a0911e",
   "metadata": {},
   "source": [
    "#### 23. Create a custom dtype that describes a color as four unsigned bytes (RGBA) (★☆☆)"
   ]
  },
  {
   "cell_type": "code",
   "execution_count": 40,
   "id": "d165044b",
   "metadata": {},
   "outputs": [
    {
     "name": "stdout",
     "output_type": "stream",
     "text": [
      "Custom RGBA dtype: [('red', 'u1'), ('green', 'u1'), ('blue', 'u1'), ('alpha', 'u1')]\n",
      "Color array with custom dtype:\n",
      "[(255,   0,   0, 255) (  0, 255,   0, 255) (  0,   0, 255, 255)\n",
      " (255, 255,   0, 128)]\n"
     ]
    }
   ],
   "source": [
    "import numpy as np\n",
    "\n",
    "# Define a custom dtype for a color (RGBA format)\n",
    "color_dtype = np.dtype([\n",
    "    ('red', np.uint8),    # Red component (0-255)\n",
    "    ('green', np.uint8),  # Green component (0-255)\n",
    "    ('blue', np.uint8),   # Blue component (0-255)\n",
    "    ('alpha', np.uint8)   # Alpha component (transparency, 0-255)\n",
    "])\n",
    "\n",
    "# Create an example array with the custom dtype\n",
    "color_array = np.array([\n",
    "    (255, 0, 0, 255),  # Red color\n",
    "    (0, 255, 0, 255),  # Green color\n",
    "    (0, 0, 255, 255),  # Blue color\n",
    "    (255, 255, 0, 128) # Yellow color with 50% transparency\n",
    "], dtype=color_dtype)\n",
    "\n",
    "# Display the custom dtype and the color array\n",
    "print(\"Custom RGBA dtype:\", color_dtype)\n",
    "print(\"Color array with custom dtype:\")\n",
    "print(color_array)\n"
   ]
  },
  {
   "cell_type": "markdown",
   "id": "654805b1",
   "metadata": {},
   "source": [
    "#### 24. Multiply a 5x3 matrix by a 3x2 matrix (real matrix product) (★☆☆)"
   ]
  },
  {
   "cell_type": "code",
   "execution_count": 41,
   "id": "6a42619f",
   "metadata": {},
   "outputs": [
    {
     "name": "stdout",
     "output_type": "stream",
     "text": [
      "5x3 Matrix:\n",
      "[[0.32035323 0.21496111 0.98768351]\n",
      " [0.29142358 0.36963058 0.25376347]\n",
      " [0.79481032 0.87609851 0.79671665]\n",
      " [0.08720782 0.26494163 0.84908114]\n",
      " [0.82048143 0.1634307  0.51724534]]\n",
      "\n",
      "3x2 Matrix:\n",
      "[[0.85030065 0.82230529]\n",
      " [0.3125925  0.79969637]\n",
      " [0.99566914 0.87222606]]\n",
      "\n",
      "Result of Multiplying 5x3 by 3x2 Matrix:\n",
      "[[1.32299778 1.29681507]\n",
      " [0.61600586 0.75657049]\n",
      " [1.74295574 2.04910655]\n",
      " [1.00237552 1.02417501]\n",
      " [1.26374832 1.25653602]]\n"
     ]
    }
   ],
   "source": [
    "import numpy as np\n",
    "\n",
    "# Create a 5x3 matrix\n",
    "matrix_5x3 = np.random.rand(5, 3)\n",
    "\n",
    "# Create a 3x2 matrix\n",
    "matrix_3x2 = np.random.rand(3, 2)\n",
    "\n",
    "# Perform matrix multiplication\n",
    "result = np.dot(matrix_5x3, matrix_3x2)\n",
    "\n",
    "# Display the matrices and result\n",
    "print(\"5x3 Matrix:\")\n",
    "print(matrix_5x3)\n",
    "\n",
    "print(\"\\n3x2 Matrix:\")\n",
    "print(matrix_3x2)\n",
    "\n",
    "print(\"\\nResult of Multiplying 5x3 by 3x2 Matrix:\")\n",
    "print(result)\n"
   ]
  },
  {
   "cell_type": "markdown",
   "id": "994c25df",
   "metadata": {},
   "source": [
    "#### 25. Given a 1D array, negate all elements which are between 3 and 8, in place. (★☆☆)"
   ]
  },
  {
   "cell_type": "code",
   "execution_count": 42,
   "id": "e4b39c03",
   "metadata": {},
   "outputs": [
    {
     "name": "stdout",
     "output_type": "stream",
     "text": [
      "[ 1 -4 -7  9 -3 -8  2 -6 10]\n"
     ]
    }
   ],
   "source": [
    "import numpy as np\n",
    "\n",
    "# Create a 1D array\n",
    "array = np.array([1, 4, 7, 9, 3, 8, 2, 6, 10])\n",
    "\n",
    "# Negate all elements between 3 and 8 (inclusive) in place\n",
    "array[(array >= 3) & (array <= 8)] *= -1\n",
    "\n",
    "# Display the updated array\n",
    "print(array)\n"
   ]
  },
  {
   "cell_type": "markdown",
   "id": "b7d15d1a",
   "metadata": {},
   "source": [
    "#### 26. What is the output of the following script? (★☆☆)\n",
    "```python\n",
    "# Author: Jake VanderPlas\n",
    "\n",
    "print(sum(range(5),-1))\n",
    "from numpy import *\n",
    "print(sum(range(5),-1))\n",
    "```"
   ]
  },
  {
   "cell_type": "code",
   "execution_count": 43,
   "id": "4c95bc3f",
   "metadata": {},
   "outputs": [
    {
     "name": "stdout",
     "output_type": "stream",
     "text": [
      "10\n",
      "10\n"
     ]
    }
   ],
   "source": [
    "# Author: Jake VanderPlas\n",
    "\n",
    "print(sum(range(5), -1))\n",
    "from numpy import *\n",
    "print(sum(range(5), -1))\n"
   ]
  },
  {
   "cell_type": "markdown",
   "id": "a34f0d08",
   "metadata": {},
   "source": [
    "#### 27. Consider an integer vector Z, which of these expressions are legal? (★☆☆)\n",
    "```python\n",
    "Z**Z\n",
    "2 << Z >> 2\n",
    "Z <- Z\n",
    "1j*Z\n",
    "Z/1/1\n",
    "Z<Z>Z\n",
    "```"
   ]
  },
  {
   "cell_type": "code",
   "execution_count": 44,
   "id": "564658fc",
   "metadata": {},
   "outputs": [
    {
     "name": "stdout",
     "output_type": "stream",
     "text": [
      "[ 1  4 27]\n"
     ]
    }
   ],
   "source": [
    "import numpy as np\n",
    "Z = np.array([1, 2, 3])\n",
    "print(Z**Z)  # Output: [1 4 27]\n"
   ]
  },
  {
   "cell_type": "markdown",
   "id": "c34e94bf",
   "metadata": {},
   "source": [
    "#### 28. What are the result of the following expressions? (★☆☆)\n",
    "```python\n",
    "np.array(0) / np.array(0)\n",
    "np.array(0) // np.array(0)\n",
    "np.array([np.nan]).astype(int).astype(float)\n",
    "```"
   ]
  },
  {
   "cell_type": "code",
   "execution_count": 45,
   "id": "56663562",
   "metadata": {},
   "outputs": [
    {
     "name": "stdout",
     "output_type": "stream",
     "text": [
      "nan\n"
     ]
    },
    {
     "name": "stderr",
     "output_type": "stream",
     "text": [
      "C:\\Users\\fUJITSU\\AppData\\Local\\Temp\\ipykernel_12648\\1500671180.py:2: RuntimeWarning: invalid value encountered in divide\n",
      "  result = np.array(0) / np.array(0)\n"
     ]
    }
   ],
   "source": [
    "import numpy as np\n",
    "result = np.array(0) / np.array(0)\n",
    "print(result)  # Output: nan\n"
   ]
  },
  {
   "cell_type": "markdown",
   "id": "546f5e7b",
   "metadata": {},
   "source": [
    "#### 29. How to round away from zero a float array ? (★☆☆)"
   ]
  },
  {
   "cell_type": "code",
   "execution_count": 46,
   "id": "f725a6d2",
   "metadata": {},
   "outputs": [
    {
     "name": "stdout",
     "output_type": "stream",
     "text": [
      "[-2. -2.  4.  4.]\n"
     ]
    }
   ],
   "source": [
    "import numpy as np\n",
    "\n",
    "# Example float array\n",
    "arr = np.array([-1.7, -2.3, 3.6, 4.2])\n",
    "\n",
    "# Round away from zero\n",
    "rounded_arr = np.copysign(np.floor(np.abs(arr) + 0.5), arr)\n",
    "\n",
    "print(rounded_arr)\n"
   ]
  },
  {
   "cell_type": "markdown",
   "id": "eadca856",
   "metadata": {},
   "source": [
    "#### 30. How to find common values between two arrays? (★☆☆)"
   ]
  },
  {
   "cell_type": "code",
   "execution_count": 47,
   "id": "e0270b5b",
   "metadata": {},
   "outputs": [
    {
     "name": "stdout",
     "output_type": "stream",
     "text": [
      "[4, 5]\n"
     ]
    }
   ],
   "source": [
    "# Example lists\n",
    "list1 = [1, 2, 3, 4, 5]\n",
    "list2 = [4, 5, 6, 7, 8]\n",
    "\n",
    "# Find common values using list comprehension\n",
    "common_values = [value for value in list1 if value in list2]\n",
    "\n",
    "print(common_values)\n"
   ]
  },
  {
   "cell_type": "markdown",
   "id": "ca16ca22",
   "metadata": {},
   "source": [
    "#### 31. How to ignore all numpy warnings (not recommended)? (★☆☆)"
   ]
  },
  {
   "cell_type": "code",
   "execution_count": 48,
   "id": "7d7208ef",
   "metadata": {},
   "outputs": [
    {
     "data": {
      "text/plain": [
       "array([1, 2, 3], dtype=object)"
      ]
     },
     "execution_count": 48,
     "metadata": {},
     "output_type": "execute_result"
    }
   ],
   "source": [
    "import numpy as np\n",
    "\n",
    "# This might trigger a DeprecationWarning in newer versions of NumPy\n",
    "np.array([1, 2, 3], dtype=object)\n"
   ]
  },
  {
   "cell_type": "markdown",
   "id": "c7871d0d",
   "metadata": {},
   "source": [
    "\n",
    "```"
   ]
  },
  {
   "cell_type": "code",
   "execution_count": 49,
   "id": "acc3701a",
   "metadata": {},
   "outputs": [
    {
     "name": "stderr",
     "output_type": "stream",
     "text": [
      "C:\\Users\\fUJITSU\\AppData\\Local\\Temp\\ipykernel_12648\\2452297689.py:2: RuntimeWarning: invalid value encountered in sqrt\n",
      "  np.sqrt(-1) == np.emath.sqrt(-1)  # Output: False\n"
     ]
    },
    {
     "data": {
      "text/plain": [
       "False"
      ]
     },
     "execution_count": 49,
     "metadata": {},
     "output_type": "execute_result"
    }
   ],
   "source": [
    "import numpy as np\n",
    "np.sqrt(-1) == np.emath.sqrt(-1)  # Output: False\n"
   ]
  },
  {
   "cell_type": "markdown",
   "id": "e0433e30",
   "metadata": {},
   "source": [
    "#### 33. How to get the dates of yesterday, today and tomorrow? (★☆☆)"
   ]
  },
  {
   "cell_type": "code",
   "execution_count": 50,
   "id": "9c4d2152",
   "metadata": {},
   "outputs": [
    {
     "name": "stdout",
     "output_type": "stream",
     "text": [
      "Yesterday: 2024-12-06\n",
      "Today: 2024-12-07\n",
      "Tomorrow: 2024-12-08\n"
     ]
    }
   ],
   "source": [
    "from datetime import datetime, timedelta\n",
    "\n",
    "# Get today's date\n",
    "today = datetime.today().date()\n",
    "\n",
    "# Get yesterday's date (today - 1 day)\n",
    "yesterday = today - timedelta(days=1)\n",
    "\n",
    "# Get tomorrow's date (today + 1 day)\n",
    "tomorrow = today + timedelta(days=1)\n",
    "\n",
    "# Print the results\n",
    "print(\"Yesterday:\", yesterday)\n",
    "print(\"Today:\", today)\n",
    "print(\"Tomorrow:\", tomorrow)\n"
   ]
  },
  {
   "cell_type": "markdown",
   "id": "9f52a2ef",
   "metadata": {},
   "source": [
    "#### 34. How to get all the dates corresponding to the month of July 2016? (★★☆)"
   ]
  },
  {
   "cell_type": "code",
   "execution_count": 51,
   "id": "d6c34dec",
   "metadata": {},
   "outputs": [
    {
     "name": "stdout",
     "output_type": "stream",
     "text": [
      "2016-07-01\n",
      "2016-07-02\n",
      "2016-07-03\n",
      "2016-07-04\n",
      "2016-07-05\n",
      "2016-07-06\n",
      "2016-07-07\n",
      "2016-07-08\n",
      "2016-07-09\n",
      "2016-07-10\n",
      "2016-07-11\n",
      "2016-07-12\n",
      "2016-07-13\n",
      "2016-07-14\n",
      "2016-07-15\n",
      "2016-07-16\n",
      "2016-07-17\n",
      "2016-07-18\n",
      "2016-07-19\n",
      "2016-07-20\n",
      "2016-07-21\n",
      "2016-07-22\n",
      "2016-07-23\n",
      "2016-07-24\n",
      "2016-07-25\n",
      "2016-07-26\n",
      "2016-07-27\n",
      "2016-07-28\n",
      "2016-07-29\n",
      "2016-07-30\n",
      "2016-07-31\n"
     ]
    }
   ],
   "source": [
    "from datetime import datetime, timedelta\n",
    "\n",
    "# Define the starting date for July 2016\n",
    "start_date = datetime(2016, 7, 1)\n",
    "\n",
    "# Initialize an empty list to store the dates\n",
    "dates_in_july_2016 = []\n",
    "\n",
    "# Loop through all the days in July 2016\n",
    "for day in range(31):\n",
    "    # Calculate the current date by adding `day` days to the start date\n",
    "    current_date = start_date + timedelta(days=day)\n",
    "    \n",
    "    # Check if the current date is still in July 2016\n",
    "    if current_date.month == 7 and current_date.year == 2016:\n",
    "        dates_in_july_2016.append(current_date.date())\n",
    "\n",
    "# Print all the dates\n",
    "for date in dates_in_july_2016:\n",
    "    print(date)\n"
   ]
  },
  {
   "cell_type": "markdown",
   "id": "4a64e059",
   "metadata": {},
   "source": [
    "#### 35. How to compute ((A+B)*(-A/2)) in place (without copy)? (★★☆)"
   ]
  },
  {
   "cell_type": "code",
   "execution_count": 52,
   "id": "49267f60",
   "metadata": {},
   "outputs": [
    {
     "ename": "UFuncTypeError",
     "evalue": "Cannot cast ufunc 'multiply' output from dtype('float64') to dtype('int32') with casting rule 'same_kind'",
     "output_type": "error",
     "traceback": [
      "\u001b[1;31m---------------------------------------------------------------------------\u001b[0m",
      "\u001b[1;31mUFuncTypeError\u001b[0m                            Traceback (most recent call last)",
      "Cell \u001b[1;32mIn[52], line 9\u001b[0m\n\u001b[0;32m      7\u001b[0m \u001b[38;5;66;03m# Compute ((A + B) * (-A / 2)) in place\u001b[39;00m\n\u001b[0;32m      8\u001b[0m A \u001b[38;5;241m+\u001b[39m\u001b[38;5;241m=\u001b[39m B  \u001b[38;5;66;03m# A = A + B\u001b[39;00m\n\u001b[1;32m----> 9\u001b[0m \u001b[43mA\u001b[49m\u001b[43m \u001b[49m\u001b[38;5;241;43m*\u001b[39;49m\u001b[38;5;241;43m=\u001b[39;49m\u001b[43m \u001b[49m\u001b[38;5;241;43m-\u001b[39;49m\u001b[38;5;241;43m0.5\u001b[39;49m\u001b[43m \u001b[49m\u001b[38;5;241;43m*\u001b[39;49m\u001b[43m \u001b[49m\u001b[43mA\u001b[49m  \u001b[38;5;66;03m# A = A * (-A / 2)\u001b[39;00m\n\u001b[0;32m     11\u001b[0m \u001b[38;5;28mprint\u001b[39m(A)\n",
      "\u001b[1;31mUFuncTypeError\u001b[0m: Cannot cast ufunc 'multiply' output from dtype('float64') to dtype('int32') with casting rule 'same_kind'"
     ]
    }
   ],
   "source": [
    "import numpy as np\n",
    "\n",
    "# Example arrays A and B\n",
    "A = np.array([1, 2, 3])\n",
    "B = np.array([4, 5, 6])\n",
    "\n",
    "# Compute ((A + B) * (-A / 2)) in place\n",
    "A += B  # A = A + B\n",
    "A *= -0.5 * A  # A = A * (-A / 2)\n",
    "\n",
    "print(A)\n"
   ]
  },
  {
   "cell_type": "markdown",
   "id": "8a98c2a8",
   "metadata": {},
   "source": [
    "#### 36. Extract the integer part of a random array of positive numbers using 4 different methods (★★☆)"
   ]
  },
  {
   "cell_type": "code",
   "execution_count": 53,
   "id": "368130b3",
   "metadata": {},
   "outputs": [
    {
     "name": "stdout",
     "output_type": "stream",
     "text": [
      "Original Array: [5.17104071 8.36712054 8.14775927 1.91260477 7.16708762]\n",
      "Method 1 (np.floor()): [5. 8. 8. 1. 7.]\n",
      "Method 2 (astype(int)): [5 8 8 1 7]\n",
      "Method 3 (np.trunc()): [5. 8. 8. 1. 7.]\n",
      "Method 4 (integer division // 1): [5. 8. 8. 1. 7.]\n"
     ]
    }
   ],
   "source": [
    "import numpy as np\n",
    "\n",
    "# Generate a random array of positive numbers\n",
    "arr = np.random.rand(5) * 10  # Random numbers between 0 and 10\n",
    "\n",
    "print(\"Original Array:\", arr)\n",
    "\n",
    "# 1. Using np.floor()\n",
    "int_part1 = np.floor(arr)\n",
    "print(\"Method 1 (np.floor()):\", int_part1)\n",
    "\n",
    "# 2. Using np.astype(int)\n",
    "int_part2 = arr.astype(int)\n",
    "print(\"Method 2 (astype(int)):\", int_part2)\n",
    "\n",
    "# 3. Using np.trunc() (truncates towards zero)\n",
    "int_part3 = np.trunc(arr)\n",
    "print(\"Method 3 (np.trunc()):\", int_part3)\n",
    "\n",
    "# 4. Using integer division (//) with 1\n",
    "int_part4 = arr // 1\n",
    "print(\"Method 4 (integer division // 1):\", int_part4)\n"
   ]
  },
  {
   "cell_type": "markdown",
   "id": "5a2e3d85",
   "metadata": {},
   "source": [
    "#### 37. Create a 5x5 matrix with row values ranging from 0 to 4 (★★☆)"
   ]
  },
  {
   "cell_type": "code",
   "execution_count": 54,
   "id": "1d974e8f",
   "metadata": {},
   "outputs": [
    {
     "name": "stdout",
     "output_type": "stream",
     "text": [
      "[[0 1 2 3 4]\n",
      " [0 1 2 3 4]\n",
      " [0 1 2 3 4]\n",
      " [0 1 2 3 4]\n",
      " [0 1 2 3 4]]\n"
     ]
    }
   ],
   "source": [
    "import numpy as np\n",
    "\n",
    "# Create a 5x5 matrix where each row contains values from 0 to 4\n",
    "matrix = np.tile(np.arange(5), (5, 1))\n",
    "\n",
    "print(matrix)\n"
   ]
  },
  {
   "cell_type": "markdown",
   "id": "9720e2d5",
   "metadata": {},
   "source": [
    "#### 38. Consider a generator function that generates 10 integers and use it to build an array (★☆☆)"
   ]
  },
  {
   "cell_type": "code",
   "execution_count": 55,
   "id": "e5dd8fc9",
   "metadata": {},
   "outputs": [
    {
     "name": "stdout",
     "output_type": "stream",
     "text": [
      "[0 1 2 3 4 5 6 7 8 9]\n"
     ]
    }
   ],
   "source": [
    "import numpy as np\n",
    "\n",
    "# Generator function to generate 10 integers\n",
    "def generate_integers():\n",
    "    for i in range(10):\n",
    "        yield i  # Yield integers from 0 to 9\n",
    "\n",
    "# Create a NumPy array from the generator function\n",
    "arr = np.fromiter(generate_integers(), dtype=int)\n",
    "\n",
    "print(arr)\n"
   ]
  },
  {
   "cell_type": "markdown",
   "id": "c6f2c912",
   "metadata": {},
   "source": [
    "#### 39. Create a vector of size 10 with values ranging from 0 to 1, both excluded (★★☆)"
   ]
  },
  {
   "cell_type": "code",
   "execution_count": 56,
   "id": "6aaa27d3",
   "metadata": {},
   "outputs": [
    {
     "name": "stdout",
     "output_type": "stream",
     "text": [
      "[0.24578002 0.17148459 0.62078454 0.54068077 0.37602297 0.87619838\n",
      " 0.66315979 0.64526246 0.69258107 0.20384159]\n"
     ]
    }
   ],
   "source": [
    "import numpy as np\n",
    "\n",
    "# Create a vector of size 10 with random values between 0 and 1 (both excluded)\n",
    "vector = np.random.uniform(0, 1, 10)\n",
    "\n",
    "print(vector)\n"
   ]
  },
  {
   "cell_type": "markdown",
   "id": "a36d6ee4",
   "metadata": {},
   "source": [
    "#### 40. Create a random vector of size 10 and sort it (★★☆)"
   ]
  },
  {
   "cell_type": "code",
   "execution_count": 57,
   "id": "e589d216",
   "metadata": {},
   "outputs": [
    {
     "name": "stdout",
     "output_type": "stream",
     "text": [
      "Original Vector: [0.00683367 0.36417834 0.68016623 0.20131064 0.3588604  0.78206945\n",
      " 0.1220033  0.63680897 0.99610777 0.9069222 ]\n",
      "Sorted Vector: [0.00683367 0.1220033  0.20131064 0.3588604  0.36417834 0.63680897\n",
      " 0.68016623 0.78206945 0.9069222  0.99610777]\n"
     ]
    }
   ],
   "source": [
    "import numpy as np\n",
    "\n",
    "# Create a random vector of size 10\n",
    "vector = np.random.rand(10)\n",
    "\n",
    "# Sort the vector\n",
    "sorted_vector = np.sort(vector)\n",
    "\n",
    "print(\"Original Vector:\", vector)\n",
    "print(\"Sorted Vector:\", sorted_vector)\n"
   ]
  },
  {
   "cell_type": "markdown",
   "id": "0fb4ad68",
   "metadata": {},
   "source": [
    "#### 41. How to sum a small array faster than np.sum? (★★☆)"
   ]
  },
  {
   "cell_type": "code",
   "execution_count": 58,
   "id": "8f99cdc1",
   "metadata": {},
   "outputs": [
    {
     "name": "stdout",
     "output_type": "stream",
     "text": [
      "15\n"
     ]
    }
   ],
   "source": [
    "import numpy as np\n",
    "\n",
    "# Create a small array\n",
    "arr = np.array([1, 2, 3, 4, 5])\n",
    "\n",
    "# Sum using np.add.reduce\n",
    "result = np.add.reduce(arr)\n",
    "\n",
    "print(result)\n",
    "\n",
    "\n"
   ]
  },
  {
   "cell_type": "markdown",
   "id": "024ac365",
   "metadata": {},
   "source": [
    "#### 42. Consider two random array A and B, check if they are equal (★★☆)"
   ]
  },
  {
   "cell_type": "code",
   "execution_count": 59,
   "id": "7db3846d",
   "metadata": {},
   "outputs": [
    {
     "name": "stdout",
     "output_type": "stream",
     "text": [
      "Array A: [0.90066664 0.58409213 0.99315001 0.15989476 0.45437653]\n",
      "Array B: [0.91406043 0.36645075 0.87037432 0.76742522 0.97297839]\n",
      "Are the arrays equal? False\n"
     ]
    }
   ],
   "source": [
    "import numpy as np\n",
    "\n",
    "# Create two random arrays\n",
    "A = np.random.rand(5)  # Array A\n",
    "B = np.random.rand(5)  # Array B\n",
    "\n",
    "# Check if all elements are equal\n",
    "are_equal = np.all(np.equal(A, B))\n",
    "\n",
    "print(\"Array A:\", A)\n",
    "print(\"Array B:\", B)\n",
    "print(\"Are the arrays equal?\", are_equal)\n"
   ]
  },
  {
   "cell_type": "markdown",
   "id": "c68d2401",
   "metadata": {},
   "source": [
    "#### 43. Make an array immutable (read-only) (★★☆)"
   ]
  },
  {
   "cell_type": "code",
   "execution_count": 60,
   "id": "7828539d",
   "metadata": {},
   "outputs": [
    {
     "name": "stdout",
     "output_type": "stream",
     "text": [
      "Error: assignment destination is read-only\n",
      "Immutable Array: [0.84363923 0.65927786 0.89464178 0.56479468 0.46886871]\n"
     ]
    }
   ],
   "source": [
    "import numpy as np\n",
    "\n",
    "# Create a random array\n",
    "arr = np.random.rand(5)\n",
    "\n",
    "# Make the array immutable (read-only)\n",
    "arr.flags.writeable = False\n",
    "\n",
    "# Try modifying the array (this will raise an error)\n",
    "try:\n",
    "    arr[0] = 10  # Attempting to modify the array\n",
    "except ValueError as e:\n",
    "    print(f\"Error: {e}\")\n",
    "\n",
    "print(\"Immutable Array:\", arr)\n"
   ]
  },
  {
   "cell_type": "markdown",
   "id": "55df6280",
   "metadata": {},
   "source": [
    "#### 44. Consider a random 10x2 matrix representing cartesian coordinates, convert them to polar coordinates (★★☆)"
   ]
  },
  {
   "cell_type": "code",
   "execution_count": 61,
   "id": "f1c86ea0",
   "metadata": {},
   "outputs": [
    {
     "name": "stdout",
     "output_type": "stream",
     "text": [
      "Cartesian Coordinates:\n",
      " [[0.23919114 0.25895913]\n",
      " [0.82537928 0.02965811]\n",
      " [0.82595609 0.75796008]\n",
      " [0.93028559 0.86618251]\n",
      " [0.90218801 0.75372464]\n",
      " [0.34374176 0.4774579 ]\n",
      " [0.62308877 0.88500904]\n",
      " [0.64220849 0.58960541]\n",
      " [0.03397763 0.96939827]\n",
      " [0.96208197 0.04969205]]\n",
      "\n",
      "Polar Coordinates (r, θ):\n",
      " [[0.35252267 0.82506015]\n",
      " [0.82591195 0.03591725]\n",
      " [1.12102941 0.74249546]\n",
      " [1.27110323 0.74973046]\n",
      " [1.17560369 0.69598072]\n",
      " [0.58832342 0.9468118 ]\n",
      " [1.08234958 0.9573588 ]\n",
      " [0.87181781 0.74272034]\n",
      " [0.96999355 1.53576044]\n",
      " [0.96336443 0.05160468]]\n"
     ]
    }
   ],
   "source": [
    "import numpy as np\n",
    "\n",
    "# Generate a random 10x2 matrix representing Cartesian coordinates (x, y)\n",
    "cartesian_coords = np.random.rand(10, 2)\n",
    "\n",
    "# Convert Cartesian coordinates to polar coordinates\n",
    "r = np.sqrt(cartesian_coords[:, 0]**2 + cartesian_coords[:, 1]**2)  # Radial distance\n",
    "theta = np.arctan2(cartesian_coords[:, 1], cartesian_coords[:, 0])  # Angle in radians\n",
    "\n",
    "# Stack the polar coordinates together\n",
    "polar_coords = np.column_stack((r, theta))\n",
    "\n",
    "print(\"Cartesian Coordinates:\\n\", cartesian_coords)\n",
    "print(\"\\nPolar Coordinates (r, θ):\\n\", polar_coords)\n"
   ]
  },
  {
   "cell_type": "markdown",
   "id": "2f60f1ec",
   "metadata": {},
   "source": [
    "#### 45. Create random vector of size 10 and replace the maximum value by 0 (★★☆)"
   ]
  },
  {
   "cell_type": "code",
   "execution_count": 62,
   "id": "d9f48f1c",
   "metadata": {},
   "outputs": [
    {
     "name": "stdout",
     "output_type": "stream",
     "text": [
      "Modified Vector: [0.51782943 0.71142329 0.06060076 0.08333489 0.         0.44811372\n",
      " 0.90295696 0.11874354 0.69313639 0.42206364]\n"
     ]
    }
   ],
   "source": [
    "import numpy as np\n",
    "\n",
    "# Create a random vector of size 10\n",
    "vector = np.random.rand(10)\n",
    "\n",
    "# Find the index of the maximum value\n",
    "max_index = np.argmax(vector)\n",
    "\n",
    "# Replace the maximum value with 0\n",
    "vector[max_index] = 0\n",
    "\n",
    "print(\"Modified Vector:\", vector)\n"
   ]
  },
  {
   "cell_type": "markdown",
   "id": "084e8ad4",
   "metadata": {},
   "source": [
    "#### 46. Create a structured array with `x` and `y` coordinates covering the [0,1]x[0,1] area (★★☆)"
   ]
  },
  {
   "cell_type": "code",
   "execution_count": 63,
   "id": "58b47c13",
   "metadata": {},
   "outputs": [
    {
     "name": "stdout",
     "output_type": "stream",
     "text": [
      "Structured Array:\n",
      "[(0.  , 0.  ) (0.25, 0.  ) (0.5 , 0.  ) (0.75, 0.  ) (1.  , 0.  )\n",
      " (0.  , 0.25) (0.25, 0.25) (0.5 , 0.25) (0.75, 0.25) (1.  , 0.25)\n",
      " (0.  , 0.5 ) (0.25, 0.5 ) (0.5 , 0.5 ) (0.75, 0.5 ) (1.  , 0.5 )\n",
      " (0.  , 0.75) (0.25, 0.75) (0.5 , 0.75) (0.75, 0.75) (1.  , 0.75)\n",
      " (0.  , 1.  ) (0.25, 1.  ) (0.5 , 1.  ) (0.75, 1.  ) (1.  , 1.  )]\n"
     ]
    }
   ],
   "source": [
    "import numpy as np\n",
    "\n",
    "# Number of points in each direction\n",
    "n_points = 5\n",
    "\n",
    "# Create a grid of x and y coordinates between 0 and 1\n",
    "x = np.linspace(0, 1, n_points)\n",
    "y = np.linspace(0, 1, n_points)\n",
    "\n",
    "# Create a meshgrid for the coordinates\n",
    "X, Y = np.meshgrid(x, y)\n",
    "\n",
    "# Flatten the meshgrid arrays to create 1D arrays\n",
    "x_coords = X.flatten()\n",
    "y_coords = Y.flatten()\n",
    "\n",
    "# Define a structured data type with 'x' and 'y'\n",
    "dtype = [('x', float), ('y', float)]\n",
    "\n",
    "# Create the structured array\n",
    "structured_array = np.core.records.fromarrays([x_coords, y_coords], dtype=dtype)\n",
    "\n",
    "print(\"Structured Array:\")\n",
    "print(structured_array)\n"
   ]
  },
  {
   "cell_type": "markdown",
   "id": "d7b9bc42",
   "metadata": {},
   "source": [
    "#### 47. Given two arrays, X and Y, construct the Cauchy matrix C (Cij =1/(xi - yj)) (★★☆)"
   ]
  },
  {
   "cell_type": "code",
   "execution_count": 64,
   "id": "a24824fb",
   "metadata": {},
   "outputs": [
    {
     "name": "stdout",
     "output_type": "stream",
     "text": [
      "Cauchy Matrix C:\n",
      "[[-0.33333333 -0.25       -0.2       ]\n",
      " [-0.5        -0.33333333 -0.25      ]\n",
      " [-1.         -0.5        -0.33333333]]\n"
     ]
    }
   ],
   "source": [
    "import numpy as np\n",
    "\n",
    "# Example input arrays X and Y\n",
    "X = np.array([1, 2, 3])\n",
    "Y = np.array([4, 5, 6])\n",
    "\n",
    "# Constructing the Cauchy matrix using broadcasting\n",
    "C = 1 / (X[:, None] - Y)\n",
    "\n",
    "print(\"Cauchy Matrix C:\")\n",
    "print(C)\n"
   ]
  },
  {
   "cell_type": "markdown",
   "id": "65ebc11b",
   "metadata": {},
   "source": [
    "#### 48. Print the minimum and maximum representable value for each numpy scalar type (★★☆)"
   ]
  },
  {
   "cell_type": "code",
   "execution_count": 65,
   "id": "e45d38fb",
   "metadata": {},
   "outputs": [
    {
     "name": "stdout",
     "output_type": "stream",
     "text": [
      "Integer Types:\n",
      "<class 'numpy.int8'>: min=-128, max=127\n",
      "<class 'numpy.int16'>: min=-32768, max=32767\n",
      "<class 'numpy.int32'>: min=-2147483648, max=2147483647\n",
      "<class 'numpy.int64'>: min=-9223372036854775808, max=9223372036854775807\n",
      "\n",
      "Floating-point Types:\n",
      "<class 'numpy.float16'>: min=-65504.0, max=65504.0, eps=0.0009765625\n",
      "<class 'numpy.float32'>: min=-3.4028234663852886e+38, max=3.4028234663852886e+38, eps=1.1920928955078125e-07\n",
      "<class 'numpy.float64'>: min=-1.7976931348623157e+308, max=1.7976931348623157e+308, eps=2.220446049250313e-16\n"
     ]
    }
   ],
   "source": [
    "import numpy as np\n",
    "\n",
    "# Integer types\n",
    "int_types = [np.int8, np.int16, np.int32, np.int64]\n",
    "print(\"Integer Types:\")\n",
    "for dtype in int_types:\n",
    "    info = np.iinfo(dtype)\n",
    "    print(f\"{dtype}: min={info.min}, max={info.max}\")\n",
    "\n",
    "# Floating-point types\n",
    "float_types = [np.float16, np.float32, np.float64]\n",
    "print(\"\\nFloating-point Types:\")\n",
    "for dtype in float_types:\n",
    "    info = np.finfo(dtype)\n",
    "    print(f\"{dtype}: min={info.min}, max={info.max}, eps={info.eps}\")\n"
   ]
  },
  {
   "cell_type": "markdown",
   "id": "9b317a98",
   "metadata": {},
   "source": [
    "#### 49. How to print all the values of an array? (★★☆)"
   ]
  },
  {
   "cell_type": "code",
   "execution_count": 66,
   "id": "309cdeb9",
   "metadata": {},
   "outputs": [
    {
     "name": "stdout",
     "output_type": "stream",
     "text": [
      "[[0.89377549 0.78960898 0.00972266 0.80768015 0.57498052 0.88483004\n",
      "  0.92285202 0.07765268 0.05227682 0.02892254]\n",
      " [0.93096103 0.84900631 0.86583738 0.79893375 0.83037625 0.21507258\n",
      "  0.15671485 0.42867589 0.37351049 0.05432779]\n",
      " [0.74009462 0.56509568 0.69124703 0.36567431 0.58848813 0.00878442\n",
      "  0.51245073 0.71699273 0.59706291 0.21023014]\n",
      " [0.71606436 0.9684896  0.75912585 0.82617366 0.45502017 0.09199744\n",
      "  0.57602561 0.7472713  0.86696628 0.51637147]\n",
      " [0.40893695 0.7141097  0.19695936 0.3470597  0.38677457 0.17760493\n",
      "  0.21512429 0.72022784 0.17879826 0.77816943]\n",
      " [0.56765491 0.22167762 0.42496899 0.76645336 0.40960792 0.63860177\n",
      "  0.35520052 0.69057727 0.51978821 0.8197089 ]\n",
      " [0.74621967 0.55531791 0.30952866 0.71372431 0.88495288 0.58437253\n",
      "  0.97602188 0.57458482 0.98884568 0.87560002]\n",
      " [0.09253672 0.76121223 0.6485641  0.047006   0.83192241 0.17627846\n",
      "  0.44378237 0.09425576 0.37760562 0.36728573]\n",
      " [0.14343379 0.53456656 0.9071366  0.65586924 0.02629798 0.3440394\n",
      "  0.41610789 0.68371582 0.7673737  0.53627536]\n",
      " [0.81452571 0.06316932 0.37506195 0.2806667  0.15193912 0.45586956\n",
      "  0.71144556 0.31104636 0.86841221 0.90611867]]\n"
     ]
    }
   ],
   "source": [
    "import numpy as np\n",
    "\n",
    "# Create a large array\n",
    "arr = np.random.rand(10, 10)\n",
    "\n",
    "# Set print options to display all elements\n",
    "np.set_printoptions(threshold=np.inf)\n",
    "\n",
    "# Print the entire array\n",
    "print(arr)\n"
   ]
  },
  {
   "cell_type": "markdown",
   "id": "b580f9d0",
   "metadata": {},
   "source": [
    "#### 50. How to find the closest value (to a given scalar) in a vector? (★★☆)"
   ]
  },
  {
   "cell_type": "code",
   "execution_count": 67,
   "id": "ebfb6714",
   "metadata": {},
   "outputs": [
    {
     "name": "stdout",
     "output_type": "stream",
     "text": [
      "Closest value to 6 is 7\n"
     ]
    }
   ],
   "source": [
    "import numpy as np\n",
    "\n",
    "# Given vector and scalar\n",
    "vector = np.array([1, 3, 7, 8, 10])\n",
    "scalar = 6\n",
    "\n",
    "# Find the index of the closest value\n",
    "index = np.abs(vector - scalar).argmin()\n",
    "\n",
    "# Retrieve the closest value\n",
    "closest_value = vector[index]\n",
    "\n",
    "print(\"Closest value to\", scalar, \"is\", closest_value)\n"
   ]
  },
  {
   "cell_type": "markdown",
   "id": "602e6252",
   "metadata": {},
   "source": [
    "#### 51. Create a structured array representing a position (x,y) and a color (r,g,b) (★★☆)"
   ]
  },
  {
   "cell_type": "code",
   "execution_count": 68,
   "id": "cf002b3a",
   "metadata": {},
   "outputs": [
    {
     "name": "stdout",
     "output_type": "stream",
     "text": [
      "Structured Array:\n",
      "[([1., 2.], [255,   0,   0]) ([3., 4.], [  0, 255,   0])\n",
      " ([5., 6.], [  0,   0, 255])]\n"
     ]
    }
   ],
   "source": [
    "import numpy as np\n",
    "\n",
    "# Define the structured dtype with fields for 'position' (x, y) and 'color' (r, g, b)\n",
    "dtype = np.dtype([('position', '2f4'), ('color', '3u1')])\n",
    "\n",
    "# Create an array with the defined dtype\n",
    "arr = np.array([((1.0, 2.0), (255, 0, 0)),\n",
    "                ((3.0, 4.0), (0, 255, 0)),\n",
    "                ((5.0, 6.0), (0, 0, 255))], dtype=dtype)\n",
    "\n",
    "print(\"Structured Array:\")\n",
    "print(arr)\n"
   ]
  },
  {
   "cell_type": "markdown",
   "id": "78bcd92f",
   "metadata": {},
   "source": [
    "#### 52. Consider a random vector with shape (100,2) representing coordinates, find point by point distances (★★☆)"
   ]
  },
  {
   "cell_type": "code",
   "execution_count": 69,
   "id": "fea7f9a6",
   "metadata": {},
   "outputs": [
    {
     "name": "stdout",
     "output_type": "stream",
     "text": [
      "Pairwise distances:\n",
      "[[0.         0.33294048 1.04581783 0.44096005 0.36400477 0.64813699\n",
      "  0.75533308 0.83449363 0.13814334 0.53555885 0.45649263 0.71626747\n",
      "  0.11753849 0.41317088 0.4439385  0.85957457 0.86981732 0.85710984\n",
      "  0.30042626 0.54270126 0.50787024 0.67223969 0.63060929 0.37078518\n",
      "  0.70626217 0.7081279  0.6956457  0.64193709 0.67962896 0.65657917\n",
      "  0.68750177 0.5792963  0.46132082 0.65217372 0.47802663 0.1501611\n",
      "  0.50920701 0.1881898  0.16284592 0.46294137 0.82365386 0.80610704\n",
      "  0.2954078  0.82452993 0.70416042 0.59215381 0.2326845  0.2379496\n",
      "  0.36873177 0.91288703 0.14267426 0.34844716 0.14501989 0.49801257\n",
      "  0.68172714 0.76090706 0.49346459 0.88503624 0.86828691 0.77548915\n",
      "  0.19062048 1.11057029 0.78120844 0.05068571 0.49914822 0.69989266\n",
      "  0.86395402 0.06651442 0.26309614 0.15429176 0.8641714  0.53634808\n",
      "  0.5256831  0.42555815 0.68162681 0.83877794 0.96809156 0.11447571\n",
      "  0.78981664 0.09652972 0.58635078 0.14245563 0.46803196 0.81557685\n",
      "  0.64934696 0.30561932 0.80387298 0.16904527 0.5403573  0.80262248\n",
      "  0.77703148 0.58609431 0.25548321 0.83201724 0.5647954  0.51968567\n",
      "  1.0391629  0.87116066 0.59986568 0.56815333]\n",
      " [0.33294048 0.         0.78158332 0.4102441  0.32856709 0.34113748\n",
      "  0.71051269 0.81657035 0.43044562 0.48705163 0.24908887 0.38651206\n",
      "  0.21634739 0.16413674 0.2389977  0.84044713 0.63542863 0.76278723\n",
      "  0.34573032 0.21945844 0.40700133 0.76007568 0.37986832 0.21820342\n",
      "  0.45645825 0.6023127  0.44037843 0.30993164 0.52427596 0.53206496\n",
      "  0.35712082 0.66260178 0.35673111 0.70451788 0.58531661 0.4114464\n",
      "  0.5726372  0.49614333 0.47238541 0.29743667 0.6256156  0.50966275\n",
      "  0.20357286 0.49170346 0.6972099  0.68599765 0.46721669 0.10734494\n",
      "  0.14055851 0.62869272 0.2192672  0.28413627 0.1949426  0.45354538\n",
      "  0.65799855 0.5192219  0.16600536 0.63454587 0.78410213 0.66870941\n",
      "  0.43210189 0.88045993 0.454731   0.29904269 0.49744517 0.79308579\n",
      "  0.71257361 0.28749982 0.2018792  0.21780807 0.61646334 0.36277421\n",
      "  0.65336082 0.10621933 0.35578147 0.51052499 0.79565141 0.25532432\n",
      "  0.71841758 0.35556514 0.36645851 0.19066825 0.3897645  0.48269895\n",
      "  0.31641225 0.0330874  0.87755615 0.37116052 0.37999484 0.85713648\n",
      "  0.7338238  0.49674712 0.09769546 0.80157555 0.51744469 0.24214009\n",
      "  0.82627791 0.6002383  0.70249839 0.45505793]\n",
      " [1.04581783 0.78158332 0.         0.70352441 0.73048029 0.77503222\n",
      "  0.64676186 0.72896431 1.06791035 0.65422874 0.58938575 0.64448416\n",
      "  0.94124334 0.86814112 0.60190282 0.73414236 0.19693737 0.539752\n",
      "  0.8158804  0.58468556 0.6031627  0.92262976 0.41587741 0.67650469\n",
      "  0.33955795 0.51974829 0.35081898 0.63177957 0.44564375 0.50318437\n",
      "  0.52755624 0.88112035 0.62675102 0.83812989 0.89909863 1.02916796\n",
      "  0.82923317 1.23323769 1.11403502 0.59157669 0.29482693 0.29222976\n",
      "  0.75243954 0.53417087 0.72302623 0.90641897 1.02556184 0.82867757\n",
      "  0.68427955 0.16850188 0.98335451 0.72172729 0.9489508  0.66986347\n",
      "  0.68483896 0.28745902 0.71992856 0.16418521 0.56778376 0.50768998\n",
      "  1.01877638 0.16693747 0.4461027  1.03490278 0.72668194 0.94638709\n",
      "  0.39243357 1.02956238 0.78452883 0.89153047 0.18592931 0.52634979\n",
      "  0.95153121 0.67755981 0.4959393  0.44135592 0.33130534 1.01448472\n",
      "  0.58904438 1.10672327 0.46174695 0.93067771 0.64509549 0.53981254\n",
      "  0.59543119 0.81401364 0.94677057 0.96595917 0.53162346 0.89812521\n",
      "  0.65356077 0.58203015 0.81005974 0.69675471 0.64924194 0.54207213\n",
      "  0.20462956 0.18141774 0.9273588  0.55891698]\n",
      " [0.44096005 0.4102441  0.70352441 0.         0.08813491 0.70637433\n",
      "  0.322759   0.4174086  0.40207559 0.09503482 0.23260315 0.68619205\n",
      "  0.38832745 0.57437576 0.23077891 0.44225283 0.50783342 0.41616217\n",
      "  0.14253334 0.45185167 0.10060568 0.36264198 0.34963868 0.1986745\n",
      "  0.39752474 0.27019655 0.39838754 0.60728637 0.27049378 0.22987057\n",
      "  0.58099114 0.27141419 0.09596315 0.29762196 0.22823362 0.36033983\n",
      "  0.18311146 0.61662021 0.44301648 0.17649248 0.42984894 0.55563084\n",
      "  0.21345811 0.72256395 0.29149318 0.29820736 0.33331069 0.34908655\n",
      "  0.28397351 0.61867647 0.46617269 0.12802526 0.42892138 0.05710658\n",
      "  0.25731352 0.42680728 0.52548515 0.54137493 0.42798473 0.3359955\n",
      "  0.33750073 0.72310587 0.62918182 0.45825484 0.08769295 0.39601836\n",
      "  0.43542304 0.46240095 0.23052707 0.31740006 0.5197346  0.19799032\n",
      "  0.29647776 0.39542256 0.55044521 0.68595173 0.54529215 0.4776155\n",
      "  0.35046719 0.53157458 0.28079029 0.40053927 0.06183579 0.71733855\n",
      "  0.58892316 0.41982558 0.47100304 0.30023956 0.18292241 0.44769647\n",
      "  0.34563502 0.1501197  0.34104792 0.40781943 0.12541754 0.34314782\n",
      "  0.64030538 0.56002104 0.31815533 0.14939082]\n",
      " [0.36400477 0.32856709 0.73048029 0.08813491 0.         0.63894728\n",
      "  0.41003295 0.50553542 0.34461585 0.18033691 0.19206973 0.63210887\n",
      "  0.30253442 0.49216165 0.18581497 0.53038656 0.53958397 0.49708893\n",
      "  0.08540594 0.399096   0.14556857 0.43340514 0.34384883 0.13046614\n",
      "  0.40480414 0.34458345 0.40136916 0.55140904 0.3217559  0.29325795\n",
      "  0.5382342  0.33738471 0.10574725 0.37596765 0.27266609 0.30386652\n",
      "  0.24680875 0.54546425 0.38890933 0.15222746 0.4749677  0.54904621\n",
      "  0.12737491 0.68341479 0.37920439 0.36225369 0.29540167 0.26164948\n",
      "  0.2122785  0.62758693 0.37920986 0.04511203 0.34164039 0.14231448\n",
      "  0.34544738 0.44514743 0.4555079  0.56634177 0.51087258 0.41247038\n",
      "  0.2891242  0.76813915 0.59850041 0.37675336 0.17121165 0.4666652\n",
      "  0.50108977 0.37970436 0.14252042 0.23194179 0.5445728  0.20487962\n",
      "  0.34306869 0.32676674 0.51192133 0.6571522  0.60739649 0.39210573\n",
      "  0.43479404 0.45127809 0.27976793 0.31338003 0.10421545 0.67727142\n",
      "  0.53710315 0.33559825 0.54900542 0.24081684 0.19907114 0.52910839\n",
      "  0.43304687 0.22257454 0.25438794 0.49582544 0.21155647 0.30245336\n",
      "  0.68996377 0.57337125 0.38031281 0.2053817 ]\n",
      " [0.64813699 0.34113748 0.77503222 0.70637433 0.63894728 0.\n",
      "  0.95679281 1.07000881 0.76317885 0.76111533 0.48504009 0.14037711\n",
      "  0.5409534  0.24135939 0.48257178 1.09126976 0.70539412 0.9673575\n",
      "  0.67578775 0.27615556 0.66675138 1.06872358 0.49983437 0.50997775\n",
      "  0.54885763 0.81949488 0.52930349 0.14801999 0.71373539 0.74692796\n",
      "  0.2494017  0.97500905 0.6272985  1.0025194  0.90937606 0.7485104\n",
      "  0.88462033 0.7754526  0.80181882 0.54654985 0.74759931 0.48754435\n",
      "  0.52799307 0.28194965 0.96733942 1.00057762 0.80786989 0.44751904\n",
      "  0.42668504 0.60686486 0.5099954  0.5943693  0.50330874 0.7354844\n",
      "  0.92272895 0.60539104 0.18429014 0.67851556 0.99441828 0.87507299\n",
      "  0.77177144 0.91933684 0.33262355 0.60409963 0.79252335 1.10212166\n",
      "  0.87197918 0.58931531 0.53507583 0.55695964 0.66898436 0.58061805\n",
      "  0.97924783 0.31225946 0.28581886 0.35715161 0.92106224 0.54499299\n",
      "  0.94564081 0.63754982 0.53447633 0.51103623 0.6669488  0.27247297\n",
      "  0.18487046 0.35658789 1.17490292 0.71167284 0.60361222 1.14688007\n",
      "  0.97872679 0.74452335 0.43883257 1.04839737 0.78721191 0.39461591\n",
      "  0.89691535 0.61357618 1.01906061 0.69515749]\n",
      " [0.75533308 0.71051269 0.64676186 0.322759   0.41003295 0.95679281\n",
      "  0.         0.11387057 0.69109706 0.23025411 0.47949553 0.89905976\n",
      "  0.71090287 0.87170476 0.48529347 0.13447756 0.46958222 0.14109116\n",
      "  0.45584473 0.68147487 0.30385873 0.28977303 0.48396669 0.49269218\n",
      "  0.4783954  0.15274008 0.49199962 0.83060561 0.26734127 0.21681912\n",
      "  0.77032845 0.28449605 0.35382564 0.21330719 0.35420649 0.6506948\n",
      "  0.28549243 0.91990129 0.72418457 0.42050301 0.36077443 0.64156634\n",
      "  0.52949026 0.88863541 0.08820683 0.3016894  0.5983828  0.66588935\n",
      "  0.57199325 0.64198103 0.78892081 0.44498496 0.75157671 0.26787018\n",
      "  0.07875267 0.46212695 0.79154659 0.52117505 0.13371841 0.13932282\n",
      "  0.61814868 0.58938362 0.77855224 0.77744348 0.25631332 0.30773728\n",
      "  0.26058969 0.78270551 0.55059345 0.6399371  0.5051443  0.37623416\n",
      "  0.37372679 0.66719601 0.73142176 0.82368011 0.35964988 0.79998699\n",
      "  0.06402948 0.84895628 0.43024146 0.723237   0.32308055 0.88659833\n",
      "  0.80254309 0.72624399 0.30058987 0.59890142 0.35339121 0.2529687\n",
      "  0.02336436 0.21606582 0.65555895 0.09220673 0.19881512 0.56237158\n",
      "  0.49772615 0.57837691 0.3184141  0.26321769]\n",
      " [0.83449363 0.81657035 0.72896431 0.4174086  0.50553542 1.07000881\n",
      "  0.11387057 0.         0.75654207 0.33048184 0.59070087 1.01289974\n",
      "  0.80094579 0.97904719 0.5959493  0.02515914 0.5634557  0.19094905\n",
      "  0.540368   0.79497761 0.41224967 0.2698796  0.59711433 0.59837081\n",
      "  0.58849556 0.26360747 0.60280771 0.94444063 0.37864957 0.33023602\n",
      "  0.88388361 0.30332172 0.46043362 0.21859668 0.39377816 0.71787353\n",
      "  0.33623548 0.98921942 0.78509521 0.53087661 0.45527374 0.74901059\n",
      "  0.62925133 1.00079444 0.13038076 0.31117894 0.65687055 0.76565505\n",
      "  0.67963615 0.74086613 0.88069258 0.54378188 0.84428297 0.36618717\n",
      "  0.16023661 0.56809198 0.90328428 0.61621717 0.16627128 0.23484373\n",
      "  0.68208939 0.65103176 0.89016714 0.86099742 0.34032793 0.27576033\n",
      "  0.33653254 0.86764219 0.64787948 0.73023514 0.60190071 0.48939678\n",
      "  0.39301924 0.77779624 0.84482854 0.93412885 0.41765019 0.88882148\n",
      "  0.14722508 0.92994528 0.54407265 0.81575501 0.42694365 0.99895509\n",
      "  0.91641324 0.83063163 0.23053069 0.67153269 0.46640769 0.18040107\n",
      "  0.0936314  0.32704414 0.75653741 0.03221299 0.29952748 0.67580078\n",
      "  0.5612535  0.67818416 0.32185286 0.37538902]\n",
      " [0.13814334 0.43044562 1.06791035 0.40207559 0.34461585 0.76317885\n",
      "  0.69109706 0.75654207 0.         0.49032813 0.48783869 0.81645258\n",
      "  0.22291686 0.53656457 0.47637546 0.78109425 0.88113272 0.80733655\n",
      "  0.26300751 0.62021553 0.48798347 0.56479492 0.66214051 0.39878674\n",
      "  0.73267973 0.67099191 0.72535833 0.73831665 0.66516499 0.63090555\n",
      "  0.76945589 0.47822842 0.45018204 0.55771827 0.37590331 0.04175173\n",
      "  0.42121878 0.23373616 0.04693786 0.47649285 0.81958297 0.85440868\n",
      "  0.32565073 0.91230717 0.62838751 0.48664305 0.1081912  0.32457318\n",
      "  0.42516841 0.95025491 0.27465715 0.34655668 0.26655397 0.45592315\n",
      "  0.61370107 0.78049909 0.59626451 0.90405451 0.81402402 0.73469676\n",
      "  0.07468789 1.11264492 0.85559122 0.18843919 0.43896523 0.58966881\n",
      "  0.83745203 0.20391375 0.29644998 0.21602646 0.88247184 0.54291123\n",
      "  0.41262818 0.50725989 0.75730325 0.9147474  0.94679315 0.25089841\n",
      "  0.73411412 0.21917807 0.60738208 0.25347435 0.44473948 0.90395643\n",
      "  0.74033591 0.40884281 0.69620342 0.10380865 0.54095044 0.70098809\n",
      "  0.71106002 0.552179   0.33837068 0.75875256 0.51583201 0.57259248\n",
      "  1.03443469 0.90182472 0.49098743 0.54593301]\n",
      " [0.53555885 0.48705163 0.65422874 0.09503482 0.18033691 0.76111533\n",
      "  0.23025411 0.33048184 0.49032813 0.         0.2762521  0.72514421\n",
      "  0.48251534 0.65036327 0.27860314 0.3548145  0.45737434 0.32168086\n",
      "  0.23587631 0.49421789 0.09657614 0.32690498 0.34739867 0.26924953\n",
      "  0.37806793 0.18141965 0.38357514 0.64953857 0.20906025 0.15627481\n",
      "  0.6089868  0.25103348 0.13486609 0.2491985  0.245825   0.44864107\n",
      "  0.17958201 0.70938401 0.52927523 0.21477126 0.36738364 0.54493652\n",
      "  0.29972022 0.74394338 0.21086305 0.27886183 0.41297085 0.43624086\n",
      "  0.35245051 0.58978081 0.55954658 0.21483247 0.52193515 0.03817967\n",
      "  0.17101544 0.39374786 0.58567263 0.49724285 0.3329971  0.24441571\n",
      "  0.42248071 0.6556164  0.64282404 0.55328965 0.07246031 0.3589962\n",
      "  0.35192157 0.55739044 0.32034168 0.41169816 0.47631751 0.20106467\n",
      "  0.30377092 0.45681985 0.57451021 0.69642949 0.4637202  0.57196843\n",
      "  0.25546632 0.62655451 0.27956394 0.49370505 0.0977065  0.73982895\n",
      "  0.62688531 0.50028959 0.41681857 0.39052163 0.17922974 0.38609848\n",
      "  0.25343352 0.07305481 0.42650522 0.31801472 0.03145202 0.37765052\n",
      "  0.56925952 0.52778944 0.30049026 0.10198646]\n",
      " [0.45649263 0.24908887 0.58938575 0.23260315 0.19206973 0.48504009\n",
      "  0.47949553 0.59070087 0.48783869 0.2762521  0.         0.45416559\n",
      "  0.3550271  0.39985265 0.01271096 0.61316241 0.41642052 0.51695316\n",
      "  0.26554639 0.22032811 0.18185217 0.59219122 0.17551813 0.08912434\n",
      "  0.24989021 0.35772855 0.24006959 0.37617432 0.27519157 0.2858225\n",
      "  0.34965747 0.50352481 0.14400731 0.52102712 0.45610888 0.45206773\n",
      "  0.41571443 0.6441891  0.5347318  0.06151593 0.38645856 0.36893067\n",
      "  0.164233   0.49327951 0.48289485 0.53056257 0.46694494 0.25220384\n",
      "  0.11249533 0.46272711 0.40733479 0.16000012 0.37019844 0.25251895\n",
      "  0.43898931 0.30494775 0.31274264 0.42877888 0.53974269 0.42237692\n",
      "  0.44991643 0.66065218 0.40643368 0.44773897 0.3137119  0.6253655\n",
      "  0.464108   0.44369826 0.19585389 0.30220408 0.40809993 0.11398241\n",
      "  0.52592928 0.18800064 0.32119253 0.46510404 0.5510498  0.43451494\n",
      "  0.4786155  0.52126447 0.13204911 0.34839223 0.18437478 0.48752971\n",
      "  0.35655999 0.27350737 0.69184464 0.3908639  0.13266129 0.66230987\n",
      "  0.50228107 0.26371066 0.23487455 0.5716999  0.30219781 0.1117284\n",
      "  0.59629487 0.4166046  0.55068229 0.21661649]\n",
      " [0.71626747 0.38651206 0.64448416 0.68619205 0.63210887 0.14037711\n",
      "  0.89905976 1.01289974 0.81645258 0.72514421 0.45416559 0.\n",
      "  0.60162681 0.3407178  0.45541468 1.03237065 0.594036   0.89089293\n",
      "  0.68446721 0.23440561 0.62858533 1.04615095 0.42036776 0.50224639\n",
      "  0.45428064 0.75340814 0.4354705  0.08152876 0.64157197 0.68328734\n",
      "  0.13666713 0.9575103  0.59744754 0.97330698 0.90433457 0.7954467\n",
      "  0.86905038 0.86358006 0.85883782 0.51360072 0.64973768 0.36443216\n",
      "  0.53934567 0.14300438 0.92168537 0.98439746 0.84436598 0.49193284\n",
      "  0.42824934 0.47786808 0.58775738 0.59026788 0.57290151 0.70521325\n",
      "  0.87543948 0.50424287 0.2228099  0.56147116 0.91955008 0.80229029\n",
      "  0.81255878 0.79465765 0.19847017 0.67755969 0.76775123 1.07924821\n",
      "  0.78164739 0.6641725  0.55428428 0.60167435 0.55455203 0.53022427\n",
      "  0.97472877 0.31928607 0.1776303  0.21735365 0.81824132 0.62433592\n",
      "  0.87939888 0.72236852 0.4688285  0.57416506 0.6378777  0.13327738\n",
      "  0.09826338 0.41113892 1.14182015 0.75004789 0.55356646 1.10905364\n",
      "  0.91969771 0.69586399 0.47887072 0.98849911 0.74769086 0.3475252\n",
      "  0.77978231 0.49188383 1.00428683 0.64569557]\n",
      " [0.11753849 0.21634739 0.94124334 0.38832745 0.30253442 0.5409534\n",
      "  0.71090287 0.80094579 0.22291686 0.48251534 0.3550271  0.60162681\n",
      "  0.         0.31441781 0.34231652 0.82606411 0.77140472 0.79852186\n",
      "  0.26238409 0.42534837 0.4366623  0.67443749 0.52540362 0.27500837\n",
      "  0.60237776 0.64282714 0.5904302  0.52610339 0.59902489 0.58422436\n",
      "  0.56997514 0.5769889  0.38620007 0.63998845 0.48166427 0.21355927\n",
      "  0.49614812 0.29501974 0.26090344 0.37134041 0.73410025 0.69337225\n",
      "  0.20439213 0.70745149 0.67155911 0.59452679 0.28537217 0.12107432\n",
      "  0.25821304 0.80311203 0.08144923 0.27511359 0.05188395 0.44435543\n",
      "  0.64261645 0.65956    0.37919283 0.78280818 0.81313146 0.71144548\n",
      "  0.24431448 1.0150588  0.66382771 0.09387958 0.46062778 0.70487481\n",
      "  0.78805793 0.08867606 0.17402401 0.07097029 0.76244155 0.44632123\n",
      "  0.53997519 0.30812542 0.56424097 0.72129509 0.88741982 0.08961633\n",
      "  0.73732822 0.1662376  0.48690581 0.03084096 0.40143503 0.69856065\n",
      "  0.53249752 0.1905255  0.8033301  0.19430376 0.45390019 0.79475422\n",
      "  0.73363477 0.52203039 0.13907868 0.79409159 0.5134818  0.40763434\n",
      "  0.94781891 0.76408315 0.60605891 0.49611984]\n",
      " [0.41317088 0.16413674 0.86814112 0.57437576 0.49216165 0.24135939\n",
      "  0.87170476 0.97904719 0.53656457 0.65036327 0.39985265 0.3407178\n",
      "  0.31441781 0.         0.39152096 1.00270533 0.74696452 0.91679649\n",
      "  0.50313515 0.28406066 0.56784834 0.92201406 0.49831404 0.38112606\n",
      "  0.56911952 0.75741558 0.55082774 0.2864946  0.67130648 0.68567508\n",
      "  0.37265002 0.82407965 0.51863822 0.86808966 0.74334734 0.52758945\n",
      "  0.73461503 0.53412051 0.57177755 0.45389591 0.75474631 0.579597\n",
      "  0.3659947  0.47469866 0.86085084 0.84682715 0.59536401 0.24780193\n",
      "  0.29971455 0.70450565 0.27197935 0.44798831 0.2707148  0.61732471\n",
      "  0.82111757 0.63254506 0.15097    0.73647616 0.93949346 0.82219505\n",
      "  0.55600801 0.986217   0.47622745 0.36683184 0.66152693 0.95484481\n",
      "  0.85471411 0.35155111 0.36036763 0.34623596 0.72100323 0.51320935\n",
      "  0.81001681 0.21869587 0.38905633 0.52200549 0.92908299 0.30577892\n",
      "  0.87659269 0.39641373 0.50149624 0.28359908 0.55282235 0.46479529\n",
      "  0.31081937 0.15872548 1.0408953  0.50028378 0.53251294 1.02106829\n",
      "  0.89493664 0.65661792 0.2468014  0.96322663 0.68049509 0.36037846\n",
      "  0.94236281 0.68911579 0.86268261 0.61296252]\n",
      " [0.4439385  0.2389977  0.60190282 0.23077891 0.18581497 0.48257178\n",
      "  0.48529347 0.5959493  0.47637546 0.27860314 0.01271096 0.45541468\n",
      "  0.34231652 0.39152096 0.         0.6186229  0.42913033 0.52557051\n",
      "  0.25717999 0.22111205 0.1854602  0.59176219 0.18768553 0.07760165\n",
      "  0.26237484 0.36590277 0.25236508 0.37673221 0.28556305 0.29441419\n",
      "  0.35369388 0.50211936 0.14495541 0.52169233 0.45235526 0.44087456\n",
      "  0.41372909 0.63158745 0.52328814 0.06516229 0.39870608 0.37955115\n",
      "  0.15218702 0.49808914 0.4865423  0.5289828  0.45700182 0.23977708\n",
      "  0.10113753 0.4745084  0.39478479 0.15187178 0.35759755 0.25347457\n",
      "  0.44308686 0.31762097 0.30829712 0.44141667 0.54798966 0.43109777\n",
      "  0.43932928 0.67333618 0.41307777 0.43504101 0.31336417 0.62500992\n",
      "  0.47498937 0.43098795 0.18365338 0.28964682 0.42075815 0.12378304\n",
      "  0.52238193 0.18192199 0.32628448 0.47199294 0.56273491 0.42186664\n",
      "  0.48586073 0.50855395 0.14474441 0.3357215  0.18501565 0.49214648\n",
      "  0.35821245 0.26277136 0.69310749 0.37992467 0.14146745 0.6643328\n",
      "  0.50819118 0.26926781 0.22253458 0.57746235 0.30528535 0.11667998\n",
      "  0.60882648 0.42880574 0.54890579 0.22302546]\n",
      " [0.85957457 0.84044713 0.73414236 0.44225283 0.53038656 1.09126976\n",
      "  0.13447756 0.02515914 0.78109425 0.3548145  0.61316241 1.03237065\n",
      "  0.82606411 1.00270533 0.6186229  0.         0.57273701 0.19444482\n",
      "  0.56552565 0.81590237 0.43547814 0.28676337 0.61537035 0.62224666\n",
      "  0.60438158 0.28092011 0.61911558 0.96461401 0.39570849 0.34916159\n",
      "  0.90260089 0.3251139  0.48406916 0.23994107 0.417025   0.74253663\n",
      "  0.36049064 1.01389901 0.80935729 0.55362624 0.46521588 0.76324504\n",
      "  0.65385729 1.01784653 0.15550772 0.33182878 0.68106238 0.79029957\n",
      "  0.7031687  0.75146837 0.90577814 0.56843188 0.86933755 0.39073839\n",
      "  0.18497866 0.58190452 0.92555315 0.62572599 0.1674686  0.24732499\n",
      "  0.70659844 0.65090718 0.90681838 0.88614623 0.36545533 0.29033262\n",
      "  0.34224604 0.89279949 0.67267761 0.75534166 0.61203918 0.51070616\n",
      "  0.41424528 0.80052937 0.86331015 0.94992844 0.41802177 0.91396386\n",
      "  0.16027328 0.95505472 0.56362372 0.84081243 0.45098392 1.01618605\n",
      "  0.93619758 0.85477676 0.23661937 0.69645421 0.4878403  0.18715534\n",
      "  0.11284013 0.34945507 0.78106959 0.04421394 0.32375397 0.69682714\n",
      "  0.56198996 0.68924903 0.34162387 0.39733322]\n",
      " [0.86981732 0.63542863 0.19693737 0.50783342 0.53958397 0.70539412\n",
      "  0.46958222 0.5634557  0.88113272 0.45737434 0.41642052 0.594036\n",
      "  0.77140472 0.74696452 0.42913033 0.57273701 0.         0.38380462\n",
      "  0.62469495 0.46733698 0.40787293 0.73438428 0.25560973 0.49917513\n",
      "  0.17941392 0.33130225 0.19672534 0.55741378 0.2491534  0.30767708\n",
      "  0.46015216 0.68765488 0.43454601 0.6492635  0.70250859 0.84147106\n",
      "  0.63310031 1.05800469 0.92663043 0.40824883 0.10885388 0.23820297\n",
      "  0.57441963 0.520608   0.53925058 0.71348907 0.833316   0.66570529\n",
      "  0.52094143 0.18194523 0.82164493 0.53477215 0.78530517 0.4730382\n",
      "  0.49827598 0.11621879 0.60847638 0.05320139 0.41409632 0.33130741\n",
      "  0.8286939  0.24575842 0.41168522 0.86379431 0.52981477 0.75977557\n",
      "  0.23791389 0.86005943 0.60673585 0.71621368 0.04452003 0.33837808\n",
      "  0.75591697 0.53809266 0.42098282 0.43360715 0.2313823  0.85018075\n",
      "  0.41757979 0.93762991 0.28451354 0.76441813 0.45038606 0.52287409\n",
      "  0.52073005 0.66613394 0.76957243 0.77811035 0.34073494 0.72250648\n",
      "  0.47987951 0.38535947 0.64759911 0.53179998 0.45303481 0.39411207\n",
      "  0.19599012 0.12532624 0.73468837 0.36217387]\n",
      " [0.85710984 0.76278723 0.539752   0.41616217 0.49708893 0.9673575\n",
      "  0.14109116 0.19094905 0.80733655 0.32168086 0.51695316 0.89089293\n",
      "  0.79852186 0.91679649 0.52557051 0.19444482 0.38380462 0.\n",
      "  0.55751959 0.69245707 0.36561038 0.42761552 0.47121234 0.55240796\n",
      "  0.44311752 0.16072618 0.46022794 0.83057396 0.25380364 0.23116268\n",
      "  0.75624395 0.42526574 0.41786046 0.35388664 0.49016214 0.76601606\n",
      "  0.41899809 1.03033698 0.84362826 0.46536209 0.27924135 0.59015203\n",
      "  0.60333942 0.85812354 0.22914225 0.44277775 0.72110264 0.73607062\n",
      "  0.62228432 0.56489297 0.87244429 0.52408811 0.83408244 0.35909728\n",
      "  0.21397919 0.40938847 0.81713954 0.43700551 0.03067591 0.09467479\n",
      "  0.73659729 0.46139543 0.74554821 0.87342718 0.36863397 0.44271272\n",
      "  0.14864306 0.87674703 0.62900898 0.7285166  0.42502349 0.40384911\n",
      "  0.51390768 0.70199311 0.71559059 0.78322844 0.22811269 0.88809894\n",
      "  0.07958778 0.94734444 0.43346827 0.80654971 0.39738122 0.85764639\n",
      "  0.79877552 0.78334002 0.41778444 0.71010615 0.38429375 0.3677301\n",
      "  0.13470593 0.27698349 0.72314428 0.15893673 0.29330244 0.57769798\n",
      "  0.37096349 0.50438253 0.45943801 0.31021961]\n",
      " [0.30042626 0.34573032 0.8158804  0.14253334 0.08540594 0.67578775\n",
      "  0.45584473 0.540368   0.26300751 0.23587631 0.26554639 0.68446721\n",
      "  0.26238409 0.50313515 0.25717999 0.56552565 0.62469495 0.55751959\n",
      "  0.         0.45637855 0.22511614 0.42315986 0.42629849 0.188213\n",
      "  0.48925589 0.4126033  0.48518858 0.6029818  0.40229909 0.36852406\n",
      "  0.6012667  0.32459396 0.19027021 0.38031288 0.24023317 0.22162607\n",
      "  0.23837005 0.47409367 0.30607989 0.23401606 0.55788419 0.62991984\n",
      "  0.14790515 0.7476513  0.41036541 0.34563687 0.21010586 0.25767634\n",
      "  0.25628961 0.71170823 0.34339659 0.10557447 0.30884738 0.19894759\n",
      "  0.3839957  0.53046785 0.49166369 0.65174626 0.56802853 0.47851889\n",
      "  0.20434456 0.85152059 0.6687757  0.32179966 0.20080855 0.45523854\n",
      "  0.57583106 0.32766592 0.14385793 0.19294525 0.62997648 0.29017623\n",
      "  0.3076662  0.3686498  0.57823478 0.72805634 0.68434681 0.34891509\n",
      "  0.48940789 0.39317185 0.36373255 0.28048387 0.18176287 0.74090507\n",
      "  0.59274238 0.34454548 0.54806238 0.1596461  0.28439649 0.53567146\n",
      "  0.47789632 0.29170919 0.25645755 0.5353034  0.26457905 0.37137436\n",
      "  0.77206137 0.65816939 0.36045149 0.28295134]\n",
      " [0.54270126 0.21945844 0.58468556 0.45185167 0.399096   0.27615556\n",
      "  0.68147487 0.79497761 0.62021553 0.49421789 0.22032811 0.23440561\n",
      "  0.42534837 0.28406066 0.22111205 0.81590237 0.46733698 0.69245707\n",
      "  0.45637855 0.         0.39807309 0.81250863 0.23193869 0.27042819\n",
      "  0.29367354 0.54335962 0.27445294 0.15585551 0.43865345 0.47077275\n",
      "  0.14977611 0.72322674 0.36415903 0.7409413  0.6706192  0.59319384\n",
      "  0.63465193 0.71383314 0.66550155 0.28061633 0.48862236 0.29943677\n",
      "  0.31624258 0.29526153 0.69590817 0.7500562  0.63139297 0.30489418\n",
      "  0.203944   0.42305688 0.43850729 0.35838505 0.41216167 0.47244065\n",
      "  0.65048981 0.35576792 0.1411603  0.45352051 0.71909264 0.59958792\n",
      "  0.60398052 0.7032493  0.2385107  0.51409407 0.53402608 0.84569141\n",
      "  0.60421577 0.50377134 0.33626007 0.40547387 0.43884549 0.30592736\n",
      "  0.74095911 0.11732675 0.13894076 0.29642252 0.66436796 0.47426172\n",
      "  0.66948531 0.57420287 0.25901362 0.4037182  0.40458249 0.28767438\n",
      "  0.13805363 0.25204363 0.91090271 0.54097331 0.32915339 0.87986376\n",
      "  0.70320465 0.47118412 0.28788424 0.77281303 0.51829284 0.11925523\n",
      "  0.6633266  0.40511385 0.76990203 0.42133318]\n",
      " [0.50787024 0.40700133 0.6031627  0.10060568 0.14556857 0.66675138\n",
      "  0.30385873 0.41224967 0.48798347 0.09657614 0.18185217 0.62858533\n",
      "  0.4366623  0.56784834 0.1854602  0.43547814 0.40787293 0.36561038\n",
      "  0.22511614 0.39807309 0.         0.42181838 0.25889301 0.19016295\n",
      "  0.29999677 0.2068955  0.30240787 0.55318074 0.17719178 0.14883742\n",
      "  0.51288343 0.34115782 0.05232451 0.34550456 0.31816138 0.44670704\n",
      "  0.26120913 0.69075864 0.53117577 0.12051015 0.33377055 0.46206162\n",
      "  0.23788473 0.6490739  0.30112671 0.36899792 0.42834822 0.37077942\n",
      "  0.26813501 0.51953937 0.50815195 0.1619183  0.46962058 0.08308696\n",
      "  0.25769698 0.32659851 0.49374016 0.44080115 0.38341146 0.27564949\n",
      "  0.42822951 0.62761115 0.54970539 0.51717402 0.1501773  0.45428061\n",
      "  0.35612954 0.51866415 0.26449589 0.36823685 0.41914907 0.10790402\n",
      "  0.38274026 0.36638553 0.47888848 0.60441424 0.46183844 0.52574627\n",
      "  0.31321234 0.59245543 0.18978944 0.4425113  0.04362646 0.64473249\n",
      "  0.53032416 0.42391883 0.51329502 0.38434032 0.08833771 0.48181271\n",
      "  0.32710401 0.09049947 0.35839228 0.39545539 0.12054346 0.28112007\n",
      "  0.54711135 0.46019093 0.39029008 0.06029492]\n",
      " [0.67223969 0.76007568 0.92262976 0.36264198 0.43340514 1.06872358\n",
      "  0.28977303 0.2698796  0.56479492 0.32690498 0.59219122 1.04615095\n",
      "  0.67443749 0.92201406 0.59176219 0.28676337 0.73438428 0.42761552\n",
      "  0.42315986 0.81250863 0.42181838 0.         0.67264002 0.55928377\n",
      "  0.69496045 0.40347458 0.7031249  0.96833049 0.49638199 0.43527025\n",
      "  0.93434615 0.0985662  0.44872125 0.08529273 0.19466    0.53263818\n",
      "  0.18745258 0.79577656 0.58204548 0.53260268 0.62877848 0.86382449\n",
      "  0.55652907 1.07070384 0.20374555 0.08035174 0.4570224  0.68005747\n",
      "  0.64391571 0.89189854 0.75544032 0.47850965 0.72452263 0.34163768\n",
      "  0.23795873 0.69860657 0.88689267 0.782396   0.41305967 0.42057328\n",
      "  0.49210669 0.87778235 0.96958625 0.70992738 0.27848259 0.03339855\n",
      "  0.54753009 0.72041335 0.56228988 0.60992699 0.76371103 0.52794992\n",
      "  0.15411236 0.75705251 0.90069751 1.02270284 0.64935498 0.75296438\n",
      "  0.35373093 0.76804629 0.60577074 0.69709635 0.40830636 1.066474\n",
      "  0.94823321 0.76356746 0.13180149 0.50345688 0.5060952  0.14057194\n",
      "  0.29292666 0.37753717 0.6772757  0.29151227 0.31147246 0.69960169\n",
      "  0.78605059 0.82794803 0.07392546 0.42260777]\n",
      " [0.63060929 0.37986832 0.41587741 0.34963868 0.34384883 0.49983437\n",
      "  0.48396669 0.59711433 0.66214051 0.34739867 0.17551813 0.42036776\n",
      "  0.52540362 0.49831404 0.18768553 0.61537035 0.25560973 0.47121234\n",
      "  0.42629849 0.23193869 0.25889301 0.67264002 0.         0.26434175\n",
      "  0.07786031 0.33475225 0.06509219 0.35974932 0.22147943 0.2671919\n",
      "  0.28770759 0.59797173 0.25530222 0.5915535  0.57573411 0.62546698\n",
      "  0.52006031 0.81762513 0.70893102 0.19228401 0.25808782 0.20667836\n",
      "  0.33974806 0.40651712 0.51796648 0.62584679 0.63422359 0.41432721\n",
      "  0.26932098 0.28825593 0.56992537 0.32328907 0.5346037  0.34178116\n",
      "  0.47102184 0.13947578 0.36956431 0.25882455 0.49951868 0.3819245\n",
      "  0.62067986 0.50101207 0.29950383 0.61902974 0.40881538 0.70391683\n",
      "  0.37305982 0.61379967 0.37133392 0.47644993 0.23933178 0.15219154\n",
      "  0.64139479 0.28435829 0.24802445 0.35050162 0.4337321  0.6\n",
      "  0.45993596 0.69106398 0.06922593 0.51543228 0.28839118 0.40386142\n",
      "  0.32757009 0.41052712 0.74892942 0.56339678 0.1705741  0.71063003\n",
      "  0.50349049 0.29768213 0.39587233 0.57122899 0.36122025 0.13960098\n",
      "  0.44733447 0.24112232 0.64737134 0.25031801]\n",
      " [0.37078518 0.21820342 0.67650469 0.1986745  0.13046614 0.50997775\n",
      "  0.49269218 0.59837081 0.39878674 0.26924953 0.08912434 0.50224639\n",
      "  0.27500837 0.38112606 0.07760165 0.62224666 0.49917513 0.55240796\n",
      "  0.188213   0.27042819 0.19016295 0.55928377 0.26434175 0.\n",
      "  0.33755481 0.39185867 0.32854208 0.42131602 0.32976323 0.32515446\n",
      "  0.41335251 0.46503711 0.13893781 0.49629071 0.40311834 0.3633189\n",
      "  0.37464823 0.55893068 0.44569495 0.09708871 0.45919578 0.45680991\n",
      "  0.0759351  0.55960446 0.47989002 0.49063276 0.38148564 0.18636813\n",
      "  0.08531154 0.55184334 0.33527041 0.08806988 0.29697343 0.23682099\n",
      "  0.44001289 0.39042226 0.32760912 0.51468936 0.57183722 0.45988048\n",
      "  0.36246434 0.74119608 0.48134928 0.3656826  0.28621595 0.59267257\n",
      "  0.5207001  0.36305163 0.108092   0.21704509 0.4936765  0.1720682\n",
      "  0.47351151 0.19785522 0.3900382  0.54079967 0.61567807 0.35898667\n",
      "  0.5031972  0.44040111 0.21565228 0.27261373 0.17170768 0.55296098\n",
      "  0.40806227 0.23381911 0.66967656 0.30258661 0.18201759 0.64567454\n",
      "  0.51603213 0.28056924 0.17186105 0.5835083  0.29939945 0.18451283\n",
      "  0.6728505  0.50523307 0.5092721  0.24221411]\n",
      " [0.70626217 0.45645825 0.33955795 0.39752474 0.40480414 0.54885763\n",
      "  0.4783954  0.58849556 0.73267973 0.37806793 0.24989021 0.45428064\n",
      "  0.60237776 0.56911952 0.26237484 0.60438158 0.17941392 0.44311752\n",
      "  0.48925589 0.29367354 0.29999677 0.69496045 0.07786031 0.33755481\n",
      "  0.         0.32568731 0.01960637 0.40346925 0.21138948 0.2676727\n",
      "  0.31776526 0.62804615 0.30799891 0.61134074 0.61735825 0.6950528\n",
      "  0.55637648 0.89371326 0.77924902 0.25737798 0.19874938 0.16893032\n",
      "  0.41342656 0.41564541 0.52459903 0.65568333 0.69893996 0.49207546\n",
      "  0.34701702 0.22302109 0.64773863 0.38934713 0.61231869 0.37982074\n",
      "  0.47823575 0.06355188 0.43433738 0.18102775 0.47290842 0.3608898\n",
      "  0.68795397 0.42400329 0.30348728 0.69584647 0.44534463 0.724806\n",
      "  0.32736867 0.69089002 0.44538046 0.55197741 0.1614731  0.20216929\n",
      "  0.67994564 0.358702   0.27674985 0.34563534 0.37313212 0.67767521\n",
      "  0.44490996 0.76825088 0.12596897 0.59291499 0.33574626 0.41483364\n",
      "  0.36854317 0.48747635 0.75944748 0.63236169 0.21468509 0.71794482\n",
      "  0.4956506  0.31783412 0.47364907 0.56028872 0.38606075 0.21476215\n",
      "  0.37348047 0.16948998 0.67740016 0.27637584]\n",
      " [0.7081279  0.6023127  0.51974829 0.27019655 0.34458345 0.81949488\n",
      "  0.15274008 0.26360747 0.67099191 0.18141965 0.35772855 0.75340814\n",
      "  0.64282714 0.75741558 0.36590277 0.28092011 0.33130225 0.16072618\n",
      "  0.4126033  0.54335962 0.2068955  0.40347458 0.33475225 0.39185867\n",
      "  0.32568731 0.         0.33949366 0.68791323 0.11504863 0.0730893\n",
      "  0.62232933 0.36425602 0.25875547 0.31861281 0.39896189 0.62925343\n",
      "  0.32565072 0.88647122 0.7104873  0.30488799 0.22535177 0.48921224\n",
      "  0.44466462 0.73720746 0.20934348 0.38847569 0.59415277 0.57616022\n",
      "  0.4617677  0.49580516 0.71502044 0.36771393 0.67650294 0.21509581\n",
      "  0.16705586 0.31086076 0.66254213 0.38041047 0.18209177 0.06875424\n",
      "  0.60380754 0.49191438 0.62658709 0.72100806 0.24397452 0.42848783\n",
      "  0.17273654 0.72334912 0.47134779 0.57366239 0.36259194 0.24589202\n",
      "  0.44136464 0.54422248 0.58277634 0.67110287 0.28520294 0.73214654\n",
      "  0.12641125 0.7957754  0.28620937 0.64932937 0.24183152 0.73542272\n",
      "  0.65822165 0.62264031 0.44338442 0.57010811 0.22529385 0.39861316\n",
      "  0.17024653 0.12205184 0.56293228 0.23671775 0.15986383 0.42588754\n",
      "  0.4020362  0.43174259 0.40898131 0.14987786]\n",
      " [0.6956457  0.44037843 0.35081898 0.39838754 0.40136916 0.52930349\n",
      "  0.49199962 0.60280771 0.72535833 0.38357514 0.24006959 0.4354705\n",
      "  0.5904302  0.55082774 0.25236508 0.61911558 0.19672534 0.46022794\n",
      "  0.48518858 0.27445294 0.30240787 0.7031249  0.06509219 0.32854208\n",
      "  0.01960637 0.33949366 0.         0.38403875 0.22466348 0.27935794\n",
      "  0.29907089 0.63424873 0.30706644 0.61998951 0.62046204 0.68820973\n",
      "  0.56085565 0.88271119 0.77205615 0.25194495 0.21832209 0.16140882\n",
      "  0.40418411 0.39959416 0.53594669 0.66198004 0.69432309 0.47877967\n",
      "  0.33393144 0.22663668 0.63415174 0.38388099 0.59909514 0.38341854\n",
      "  0.48937315 0.08179227 0.41524879 0.19506518 0.48985999 0.37681805\n",
      "  0.68221225 0.44031805 0.28786598 0.68408479 0.44954241 0.73333373\n",
      "  0.34627762 0.67878595 0.43591559 0.54145506 0.17628051 0.20127329\n",
      "  0.68397931 0.34156652 0.25806311 0.33169181 0.39273488 0.66454908\n",
      "  0.46007624 0.75600807 0.12160394 0.58021398 0.33655516 0.39851321\n",
      "  0.34920924 0.47167055 0.77028754 0.62579974 0.21558946 0.72940686\n",
      "  0.50969146 0.3256026  0.46026153 0.57496143 0.39302623 0.19831152\n",
      "  0.3915556  0.17671787 0.68367341 0.28249489]\n",
      " [0.64193709 0.30993164 0.63177957 0.60728637 0.55140904 0.14801999\n",
      "  0.83060561 0.94444063 0.73831665 0.64953857 0.37617432 0.08152876\n",
      "  0.52610339 0.2864946  0.37673221 0.96461401 0.55741378 0.83057396\n",
      "  0.6029818  0.15585551 0.55318074 0.96833049 0.35974932 0.42131602\n",
      "  0.40346925 0.68791323 0.38403875 0.         0.57843711 0.61652575\n",
      "  0.10426139 0.87870055 0.52000808 0.89670807 0.8238618  0.71630847\n",
      "  0.78981592 0.79514302 0.78129493 0.43641078 0.60189869 0.34171409\n",
      "  0.45782983 0.19000515 0.84922232 0.90541836 0.76383535 0.4138166\n",
      "  0.34673954 0.46327841 0.51746184 0.50926602 0.5000859  0.628243\n",
      "  0.80337437 0.45857992 0.1513703  0.53069408 0.85849434 0.73996434\n",
      "  0.7325464  0.77279829 0.19946172 0.60504192 0.68984998 1.00152533\n",
      "  0.72895    0.59219789 0.47298174 0.52288209 0.52099095 0.4578399\n",
      "  0.89427402 0.23808459 0.13828016 0.23807307 0.77440841 0.55422972\n",
      "  0.81430159 0.65348074 0.40177203 0.49949851 0.56043436 0.18026962\n",
      "  0.03699902 0.33633    1.06633998 0.66988137 0.48120713 1.03471242\n",
      "  0.85177613 0.62370673 0.40010124 0.9210467  0.67305688 0.27245637\n",
      "  0.7489847  0.4667162  0.92512155 0.57359774]\n",
      " [0.67962896 0.52427596 0.44564375 0.27049378 0.3217559  0.71373539\n",
      "  0.26734127 0.37864957 0.66516499 0.20906025 0.27519157 0.64157197\n",
      "  0.59902489 0.67130648 0.28556305 0.39570849 0.2491534  0.25380364\n",
      "  0.40229909 0.43865345 0.17719178 0.49638199 0.22147943 0.32976323\n",
      "  0.21138948 0.11504863 0.22466348 0.57843711 0.         0.06116387\n",
      "  0.50911932 0.44144358 0.21874779 0.41128991 0.45345689 0.62389876\n",
      "  0.38398354 0.86475373 0.70833076 0.23386489 0.16000278 0.37709828\n",
      "  0.39480507 0.6222096  0.31526677 0.46795932 0.60339259 0.51565706\n",
      "  0.38624599 0.39556777 0.66426169 0.33119835 0.62574966 0.22830497\n",
      "  0.26968106 0.20312141 0.56474779 0.29168934 0.28069567 0.16159011\n",
      "  0.60496331 0.45262941 0.51153984 0.68462226 0.28147561 0.52429353\n",
      "  0.19103593 0.68449916 0.42507924 0.53391466 0.27154354 0.16209241\n",
      "  0.50706118 0.45372338 0.46920307 0.5563531  0.28887627 0.68604503\n",
      "  0.23863827 0.76021788 0.17967636 0.60035345 0.22059125 0.6204864\n",
      "  0.54758906 0.54828924 0.55071641 0.56149081 0.14803875 0.50795405\n",
      "  0.2852803  0.13644755 0.50026079 0.35149467 0.2039282  0.32448096\n",
      "  0.37037509 0.33170858 0.48944928 0.12114764]\n",
      " [0.65657917 0.53206496 0.50318437 0.22987057 0.29325795 0.74692796\n",
      "  0.21681912 0.33023602 0.63090555 0.15627481 0.2858225  0.68328734\n",
      "  0.58422436 0.68567508 0.29441419 0.34916159 0.30767708 0.23116268\n",
      "  0.36852406 0.47077275 0.14883742 0.43527025 0.2671919  0.32515446\n",
      "  0.2676727  0.0730893  0.27935794 0.61652575 0.06116387 0.\n",
      "  0.55364967 0.38093845 0.19803743 0.35022167 0.39690465 0.58926195\n",
      "  0.32619633 0.83868313 0.67256825 0.23491699 0.21215147 0.43525397\n",
      "  0.38262738 0.6726024  0.25694104 0.40727979 0.5623681  0.51096237\n",
      "  0.39172451 0.4567239  0.65383027 0.31038314 0.61520558 0.18120367\n",
      "  0.21071067 0.26375523 0.58946468 0.35173974 0.25417319 0.13671816\n",
      "  0.56735061 0.49942659 0.56332702 0.66586695 0.22762376 0.46332229\n",
      "  0.20788505 0.66712493 0.41089802 0.51649376 0.33189439 0.17319211\n",
      "  0.44839162 0.47161583 0.51462951 0.6102359  0.31589511 0.67286971\n",
      "  0.19871894 0.74120892 0.21483949 0.58864464 0.18908742 0.67035028\n",
      "  0.58743224 0.5533627  0.49201783 0.5280655  0.15316483 0.45027547\n",
      "  0.23671339 0.08368324 0.49696108 0.30522431 0.14660956 0.35299293\n",
      "  0.41366342 0.39287243 0.42871379 0.08857756]\n",
      " [0.68750177 0.35712082 0.52755624 0.58099114 0.5382342  0.2494017\n",
      "  0.77032845 0.88388361 0.76945589 0.6089868  0.34965747 0.13666713\n",
      "  0.56997514 0.37265002 0.35369388 0.90260089 0.46015216 0.75624395\n",
      "  0.6012667  0.14977611 0.51288343 0.93434615 0.28770759 0.41335251\n",
      "  0.31776526 0.62232933 0.29907089 0.10426139 0.50911932 0.55364967\n",
      "  0.         0.84974422 0.48790505 0.85818466 0.80576128 0.74286558\n",
      "  0.76366725 0.85290708 0.81449101 0.40473873 0.51313322 0.2382178\n",
      "  0.46454597 0.14654942 0.79818323 0.87719594 0.78080171 0.45097811\n",
      "  0.35275398 0.35906109 0.57489955 0.50008123 0.55206293 0.59290428\n",
      "  0.75148807 0.3677464  0.22435258 0.43040289 0.78520675 0.66882926\n",
      "  0.75371936 0.66993669 0.10372573 0.6559356  0.65785912 0.96699466\n",
      "  0.64509689 0.64460209 0.48559315 0.55416075 0.42197987 0.40950282\n",
      "  0.87557285 0.26328258 0.04101545 0.15451872 0.68232217 0.61142304\n",
      "  0.74764233 0.71177426 0.34131148 0.54650573 0.52779142 0.13963882\n",
      "  0.06847526 0.38783109 1.02333817 0.69072213 0.43247663 0.98827446\n",
      "  0.79035182 0.5730425  0.43470778 0.85852624 0.62914104 0.23807617\n",
      "  0.64906917 0.36423929 0.89779522 0.52317338]\n",
      " [0.5792963  0.66260178 0.88112035 0.27141419 0.33738471 0.97500905\n",
      "  0.28449605 0.30332172 0.47822842 0.25103348 0.50352481 0.9575103\n",
      "  0.5769889  0.82407965 0.50211936 0.3251139  0.68765488 0.42526574\n",
      "  0.32459396 0.72322674 0.34115782 0.0985662  0.59797173 0.46503711\n",
      "  0.62804615 0.36425602 0.63424873 0.87870055 0.44144358 0.38093845\n",
      "  0.84974422 0.         0.36189829 0.08547833 0.10243932 0.4438213\n",
      "  0.09058155 0.71130144 0.49956728 0.44547827 0.58652087 0.79565737\n",
      "  0.45903586 0.98885262 0.19788185 0.02787913 0.37204411 0.58158113\n",
      "  0.54902005 0.83455557 0.65816718 0.38246644 0.62677574 0.25850148\n",
      "  0.21419282 0.63886469 0.79232258 0.73265593 0.41739037 0.39647373\n",
      "  0.40423582 0.85339782 0.89081213 0.61534419 0.19218342 0.13088252\n",
      "  0.52480747 0.62533566 0.46407929 0.51187079 0.71282266 0.44894311\n",
      "  0.09075431 0.66285814 0.81754195 0.94553207 0.6330942  0.65665354\n",
      "  0.34630231 0.67557202 0.529584   0.59920877 0.32195891 0.98415035\n",
      "  0.860073   0.66552069 0.22653294 0.41025331 0.42829811 0.22369993\n",
      "  0.29520648 0.3118809  0.5789665  0.31632463 0.24251241 0.61294511\n",
      "  0.76231578 0.77137083 0.04945712 0.35180353]\n",
      " [0.46132082 0.35673111 0.62675102 0.09596315 0.10574725 0.6272985\n",
      "  0.35382564 0.46043362 0.45018204 0.13486609 0.14400731 0.59744754\n",
      "  0.38620007 0.51863822 0.14495541 0.48406916 0.43454601 0.41786046\n",
      "  0.19027021 0.36415903 0.05232451 0.44872125 0.25530222 0.13893781\n",
      "  0.30799891 0.25875547 0.30706644 0.52000808 0.21874779 0.19803743\n",
      "  0.48790505 0.36189829 0.         0.37702873 0.32418485 0.40955473\n",
      "  0.27617943 0.64601555 0.49463169 0.08389506 0.36954694 0.4618705\n",
      "  0.18591892 0.62812173 0.34509639 0.38930215 0.39898027 0.31845501\n",
      "  0.21926036 0.53076309 0.45665173 0.1131029  0.41807349 0.10857514\n",
      "  0.30343638 0.34342676 0.45087886 0.46285938 0.4357338  0.32747985\n",
      "  0.39454649 0.66247348 0.53351583 0.46842354 0.17051878 0.48180116\n",
      "  0.40345427 0.46932482 0.21318384 0.31859343 0.44107306 0.10589428\n",
      "  0.3921759  0.32195681 0.45627667 0.59009985 0.50678508 0.47496152\n",
      "  0.36521307 0.54390581 0.18717523 0.39116959 0.04043817 0.62312037\n",
      "  0.49951296 0.37271525 0.54816093 0.34642292 0.09555107 0.51961667\n",
      "  0.37715385 0.1425855  0.30611769 0.4448655  0.16328517 0.25123111\n",
      "  0.58487058 0.47421476 0.40989581 0.11004893]\n",
      " [0.65217372 0.70451788 0.83812989 0.29762196 0.37596765 1.0025194\n",
      "  0.21330719 0.21859668 0.55771827 0.2491985  0.52102712 0.97330698\n",
      "  0.63998845 0.86808966 0.52169233 0.23994107 0.6492635  0.35388664\n",
      "  0.38031288 0.7409413  0.34550456 0.08529273 0.5915535  0.49629071\n",
      "  0.61134074 0.31861281 0.61998951 0.89670807 0.41128991 0.35022167\n",
      "  0.85818466 0.08547833 0.37702873 0.         0.18321985 0.5218126\n",
      "  0.14422639 0.79137502 0.58126849 0.46032607 0.54396435 0.78026909\n",
      "  0.50243698 0.99242575 0.12518743 0.09326261 0.4530703  0.63186154\n",
      "  0.58157693 0.8067376  0.72143539 0.42046015 0.68820784 0.26853265\n",
      "  0.15440502 0.6137501  0.82275429 0.69714484 0.34264234 0.33862098\n",
      "  0.48321028 0.79694968 0.88973783 0.68548639 0.21033017 0.11350783\n",
      "  0.46650828 0.6945061  0.51217338 0.57231093 0.67842908 0.44964429\n",
      "  0.17442646 0.69268833 0.82356778 0.94201209 0.57076002 0.72289941\n",
      "  0.27709112 0.74870208 0.52559016 0.66007182 0.33673549 0.98849775\n",
      "  0.87511399 0.71094726 0.17345549 0.48380517 0.42726518 0.15538948\n",
      "  0.2202031  0.29482779 0.62712435 0.23335363 0.23075918 0.62586266\n",
      "  0.70528005 0.74276152 0.10680034 0.34123909]\n",
      " [0.47802663 0.58531661 0.89909863 0.22823362 0.27266609 0.90937606\n",
      "  0.35420649 0.39377816 0.37590331 0.245825   0.45610888 0.90433457\n",
      "  0.48166427 0.74334734 0.45235526 0.417025   0.70250859 0.49016214\n",
      "  0.24023317 0.6706192  0.31816138 0.19466    0.57573411 0.40311834\n",
      "  0.61735825 0.39896189 0.62046204 0.8238618  0.45345689 0.39690465\n",
      "  0.80576128 0.10243932 0.32418485 0.18321985 0.         0.34138796\n",
      "  0.07351078 0.60917239 0.39817135 0.40341735 0.6088838  0.78015772\n",
      "  0.38379618 0.94891757 0.27491044 0.11433353 0.27018963 0.49715047\n",
      "  0.48335631 0.83370976 0.56224152 0.31602633 0.53235043 0.23766254\n",
      "  0.27680302 0.63815916 0.72523056 0.7430379  0.48741644 0.44442359\n",
      "  0.30182058 0.88997067 0.85717416 0.51527611 0.17407987 0.22378492\n",
      "  0.56919494 0.52576362 0.38374192 0.41907392 0.72213896 0.42354622\n",
      "  0.07041586 0.59802407 0.77668336 0.91412803 0.68084658 0.55873075\n",
      "  0.41074977 0.57409081 0.50653106 0.50538537 0.28786876 0.94338407\n",
      "  0.80865407 0.58477864 0.32596525 0.30906284 0.40600743 0.32597088\n",
      "  0.36929348 0.31715358 0.496602   0.40229086 0.25029708 0.56778173\n",
      "  0.80075358 0.77243858 0.12440896 0.34588234]\n",
      " [0.1501611  0.4114464  1.02916796 0.36033983 0.30386652 0.7485104\n",
      "  0.6506948  0.71787353 0.04175173 0.44864107 0.45206773 0.7954467\n",
      "  0.21355927 0.52758945 0.44087456 0.74253663 0.84147106 0.76601606\n",
      "  0.22162607 0.59319384 0.44670704 0.53263818 0.62546698 0.3633189\n",
      "  0.6950528  0.62925343 0.68820973 0.71630847 0.62389876 0.58926195\n",
      "  0.74286558 0.4438213  0.40955473 0.5218126  0.34138796 0.\n",
      "  0.38347413 0.27137033 0.08518531 0.43823117 0.77874796 0.81989793\n",
      "  0.29173352 0.88690039 0.58921083 0.4536299  0.08257728 0.30432434\n",
      "  0.39488474 0.91371871 0.27518011 0.30745529 0.26134656 0.41417906\n",
      "  0.57356481 0.74189357 0.577389   0.86516699 0.77295977 0.69302799\n",
      "  0.04135026 1.07200508 0.82667608 0.19746939 0.39782812 0.55856479\n",
      "  0.79573064 0.21181601 0.26382828 0.19394106 0.84353605 0.50352378\n",
      "  0.38218148 0.48233112 0.72907828 0.88605888 0.90513867 0.25613504\n",
      "  0.69308208 0.24038005 0.56944612 0.24437645 0.40338889 0.87875601\n",
      "  0.71655385 0.39223788 0.6643665  0.06336104 0.50098467 0.66725569\n",
      "  0.67084936 0.5104377  0.31661302 0.71943467 0.47426347 0.54014043\n",
      "  0.99340345 0.86440205 0.45915199 0.50446541]\n",
      " [0.50920701 0.5726372  0.82923317 0.18311146 0.24680875 0.88462033\n",
      "  0.28549243 0.33623548 0.42121878 0.17958201 0.41571443 0.86905038\n",
      "  0.49614812 0.73461503 0.41372909 0.36049064 0.63310031 0.41899809\n",
      "  0.23837005 0.63465193 0.26120913 0.18745258 0.52006031 0.37464823\n",
      "  0.55637648 0.32565072 0.56085565 0.78981592 0.38398354 0.32619633\n",
      "  0.76366725 0.09058155 0.27617943 0.14422639 0.07351078 0.38347413\n",
      "  0.         0.65463667 0.44887252 0.35892852 0.53762839 0.7217491\n",
      "  0.36908096 0.9042947  0.2110808  0.11604852 0.3206429  0.49362617\n",
      "  0.45848367 0.76936175 0.5775933  0.2918967  0.54477415 0.17830068\n",
      "  0.20710006 0.57331579 0.70180209 0.6748999  0.41766194 0.37105079\n",
      "  0.34657598 0.81700433 0.80851202 0.54158464 0.11143602 0.2204582\n",
      "  0.49568525 0.55042917 0.37520605 0.42904153 0.65426383 0.36881121\n",
      "  0.12419505 0.57241795 0.73244056 0.86423059 0.60734726 0.57869172\n",
      "  0.33991502 0.60570642 0.45099603 0.5167746  0.23710499 0.89929686\n",
      "  0.77193772 0.57624642 0.30972147 0.3416896  0.34948831 0.29860651\n",
      "  0.30205111 0.24850945 0.49031503 0.34103679 0.1800656  0.52607532\n",
      "  0.72758048 0.70729676 0.13531669 0.2813618 ]\n",
      " [0.1881898  0.49614333 1.23323769 0.61662021 0.54546425 0.7754526\n",
      "  0.91990129 0.98921942 0.23373616 0.70938401 0.6441891  0.86358006\n",
      "  0.29501974 0.53412051 0.63158745 1.01389901 1.05800469 1.03033698\n",
      "  0.47409367 0.71383314 0.69075864 0.79577656 0.81762513 0.55893068\n",
      "  0.89371326 0.88647122 0.88271119 0.79514302 0.86475373 0.83868313\n",
      "  0.85290708 0.71130144 0.64601555 0.79137502 0.60917239 0.27137033\n",
      "  0.65463667 0.         0.21429263 0.65098265 1.01090166 0.98831271\n",
      "  0.48359753 0.98305023 0.86036541 0.7186737  0.33939826 0.41457102\n",
      "  0.5527883  1.0978269  0.27844162 0.53392202 0.30170109 0.67292049\n",
      "  0.8435116  0.94886479 0.64380436 1.07291111 1.03917598 0.95261237\n",
      "  0.30839218 1.29859998 0.95077827 0.20172651 0.66483451 0.81931396\n",
      "  1.04654573 0.21050148 0.45128537 0.34212819 1.05211418 0.72410874\n",
      "  0.64231218 0.59691498 0.85159502 1.00663904 1.1523673  0.24171869\n",
      "  0.95966076 0.14170832 0.77442802 0.31173136 0.64959571 0.97366261\n",
      "  0.80777349 0.46507635 0.92648448 0.32117441 0.72752117 0.93330455\n",
      "  0.9405248  0.76501219 0.43305145 0.99044408 0.73706241 0.70264548\n",
      "  1.22658453 1.05761838 0.72185111 0.75079899]\n",
      " [0.16284592 0.47238541 1.11403502 0.44301648 0.38890933 0.80181882\n",
      "  0.72418457 0.78509521 0.04693786 0.52927523 0.5347318  0.85883782\n",
      "  0.26090344 0.57177755 0.52328814 0.80935729 0.92663043 0.84362826\n",
      "  0.30607989 0.66550155 0.53117577 0.58204548 0.70893102 0.44569495\n",
      "  0.77924902 0.7104873  0.77205615 0.78129493 0.70833076 0.67256825\n",
      "  0.81449101 0.49956728 0.49463169 0.58126849 0.39817135 0.08518531\n",
      "  0.44887252 0.21429263 0.         0.52280564 0.86366209 0.90133866\n",
      "  0.3725811  0.9567862  0.65836456 0.50566561 0.12848394 0.36754574\n",
      "  0.47156759 0.99708124 0.30463215 0.39241748 0.30106979 0.49577392\n",
      "  0.64615413 0.82668351 0.6377452  0.95009341 0.84921195 0.773215\n",
      "  0.10710338 1.15702986 0.90142717 0.21324492 0.47501651 0.60517514\n",
      "  0.87831788 0.22919076 0.34330571 0.26042562 0.92848192 0.58861014\n",
      "  0.42830524 0.55184062 0.80294304 0.96049371 0.98827707 0.27728658\n",
      "  0.76925497 0.22925054 0.6538382  0.29082209 0.48774326 0.94834863\n",
      "  0.78417901 0.4495431  0.71243971 0.1485369  0.58616873 0.72028283\n",
      "  0.7435574  0.59284831 0.38197588 0.78882826 0.55379652 0.61934632\n",
      "  1.0781177  0.94846245 0.50814335 0.5884973 ]\n",
      " [0.46294137 0.29743667 0.59157669 0.17649248 0.15222746 0.54654985\n",
      "  0.42050301 0.53087661 0.47649285 0.21477126 0.06151593 0.51360072\n",
      "  0.37134041 0.45389591 0.06516229 0.55362624 0.40824883 0.46536209\n",
      "  0.23401606 0.28061633 0.12051015 0.53260268 0.19228401 0.09708871\n",
      "  0.25737798 0.30488799 0.25194495 0.43641078 0.23386489 0.23491699\n",
      "  0.40473873 0.44547827 0.08389506 0.46032607 0.40341735 0.43823117\n",
      "  0.35892852 0.65098265 0.52280564 0.         0.36285746 0.39683621\n",
      "  0.16839491 0.54609747 0.42163458 0.47278088 0.44245389 0.28189913\n",
      "  0.15692388 0.47856745 0.43231189 0.13201322 0.39404839 0.19183225\n",
      "  0.37799865 0.30411767 0.37339788 0.42800926 0.48677771 0.37139934\n",
      "  0.43058528 0.64763141 0.45413047 0.46088479 0.25439555 0.56566504\n",
      "  0.42489035 0.45891822 0.20043165 0.31085551 0.40654746 0.07505354\n",
      "  0.47246591 0.24692177 0.37395582 0.51165979 0.51868249 0.4559957\n",
      "  0.42269976 0.53600495 0.13144239 0.36966364 0.12429632 0.54084724\n",
      "  0.41563203 0.31846455 0.63068558 0.3753025  0.08583856 0.6008563\n",
      "  0.44347078 0.20443742 0.26639632 0.51262748 0.2407208  0.16747129\n",
      "  0.57731022 0.42686563 0.49322811 0.1591445 ]\n",
      " [0.82365386 0.6256156  0.29482693 0.42984894 0.4749677  0.74759931\n",
      "  0.36077443 0.45527374 0.81958297 0.36738364 0.38645856 0.64973768\n",
      "  0.73410025 0.75474631 0.39870608 0.46521588 0.10885388 0.27924135\n",
      "  0.55788419 0.48862236 0.33377055 0.62877848 0.25808782 0.45919578\n",
      "  0.19874938 0.22535177 0.21832209 0.60189869 0.16000278 0.21215147\n",
      "  0.51313322 0.58652087 0.36954694 0.54396435 0.6088838  0.77874796\n",
      "  0.53762839 1.01090166 0.86366209 0.36285746 0.         0.31746331\n",
      "  0.53101318 0.59519786 0.43160069 0.61167039 0.7618869  0.63830195\n",
      "  0.49777841 0.28647291 0.79240348 0.47821402 0.7546481  0.38822673\n",
      "  0.39159866 0.14577429 0.62750245 0.16107431 0.30984533 0.22247905\n",
      "  0.76176571 0.29384132 0.48303088 0.8236139  0.43937653 0.65337923\n",
      "  0.1396729  0.82177556 0.56279368 0.67322041 0.14682901 0.28811311\n",
      "  0.65861121 0.53788099 0.47230483 0.5140216  0.17577581 0.81775883\n",
      "  0.30898096 0.89882527 0.25934026 0.73129458 0.37738803 0.59605501\n",
      "  0.56663425 0.65382608 0.66092498 0.71578027 0.28338065 0.61372514\n",
      "  0.3710502  0.29433016 0.62121851 0.42378425 0.35867014 0.39437126\n",
      "  0.21582965 0.22520953 0.63256635 0.28053438]\n",
      " [0.80610704 0.50966275 0.29222976 0.55563084 0.54904621 0.48754435\n",
      "  0.64156634 0.74901059 0.85440868 0.54493652 0.36893067 0.36443216\n",
      "  0.69337225 0.579597   0.37955115 0.76324504 0.23820297 0.59015203\n",
      "  0.62991984 0.29943677 0.46206162 0.86382449 0.20667836 0.45680991\n",
      "  0.16893032 0.48921224 0.16140882 0.34171409 0.37709828 0.43525397\n",
      "  0.2382178  0.79565737 0.4618705  0.78026909 0.78015772 0.81989793\n",
      "  0.7217491  0.98831271 0.90133866 0.39683621 0.31746331 0.\n",
      "  0.52875797 0.28243414 0.69201311 0.82338836 0.83532769 0.57418712\n",
      "  0.43755131 0.12522051 0.72275536 0.52531082 0.69168287 0.54389006\n",
      "  0.64595374 0.18164118 0.42983389 0.19912483 0.62071997 0.51639907\n",
      "  0.81883124 0.43189643 0.17421567 0.78665635 0.61034431 0.89372931\n",
      "  0.45706765 0.77885296 0.55841494 0.65521387 0.1954187  0.35765796\n",
      "  0.84449513 0.40346932 0.20437189 0.19710268 0.46916712 0.75656873\n",
      "  0.60297191 0.85377876 0.27490559 0.67757448 0.49405882 0.28468201\n",
      "  0.30494718 0.54273221 0.92726142 0.75939242 0.37419524 0.8850065\n",
      "  0.65747284 0.48650416 0.55556852 0.71959986 0.55430115 0.28644009\n",
      "  0.4160272  0.12745449 0.84508215 0.44389592]\n",
      " [0.2954078  0.20357286 0.75243954 0.21345811 0.12737491 0.52799307\n",
      "  0.52949026 0.62925133 0.32565073 0.29972022 0.164233   0.53934567\n",
      "  0.20439213 0.3659947  0.15218702 0.65385729 0.57441963 0.60333942\n",
      "  0.14790515 0.31624258 0.23788473 0.55652907 0.33974806 0.0759351\n",
      "  0.41342656 0.44466462 0.40418411 0.45782983 0.39480507 0.38262738\n",
      "  0.46454597 0.45903586 0.18591892 0.50243698 0.38379618 0.29173352\n",
      "  0.36908096 0.48359753 0.3725811  0.16839491 0.53101318 0.52875797\n",
      "  0.         0.61093351 0.50476984 0.48254958 0.31784097 0.13652626\n",
      "  0.11242136 0.62659474 0.27120655 0.08560122 0.23257989 0.26314331\n",
      "  0.46905014 0.4662715  0.34380339 0.59055923 0.62035554 0.51339628\n",
      "  0.29465764 0.81554299 0.54071501 0.29260094 0.29848836 0.58952003\n",
      "  0.58441027 0.29105738 0.03231695 0.14248801 0.56950908 0.24290018\n",
      "  0.45284664 0.22150865 0.44566648 0.60034911 0.68304225 0.29136123\n",
      "  0.54771674 0.36786932 0.2914397  0.20621889 0.20805185 0.60360489\n",
      "  0.44988904 0.20852771 0.67498317 0.23298355 0.24960406 0.6561634\n",
      "  0.55277692 0.32674985 0.12760927 0.61770896 0.33112189 0.24894585\n",
      "  0.7456968  0.58080401 0.49927962 0.29563976]\n",
      " [0.82452993 0.49170346 0.53417087 0.72256395 0.68341479 0.28194965\n",
      "  0.88863541 1.00079444 0.91230717 0.74394338 0.49327951 0.14300438\n",
      "  0.70745149 0.47469866 0.49808914 1.01784653 0.520608   0.85812354\n",
      "  0.7476513  0.29526153 0.6490739  1.07070384 0.40651712 0.55960446\n",
      "  0.41564541 0.73720746 0.39959416 0.19000515 0.6222096  0.6726024\n",
      "  0.14654942 0.98885262 0.62812173 0.99242575 0.94891757 0.88690039\n",
      "  0.9042947  0.98305023 0.9567862  0.54609747 0.59519786 0.28243414\n",
      "  0.61093351 0.         0.92435685 1.01651036 0.92665097 0.59071387\n",
      "  0.49894463 0.37540245 0.70475824 0.64597195 0.68525305 0.73069562\n",
      "  0.8774165  0.45183488 0.34046425 0.47951475 0.88813903 0.77637923\n",
      "  0.89889779 0.69333808 0.11270091 0.79006496 0.79666939 1.10293049\n",
      "  0.73350096 0.77782548 0.63151574 0.69641469 0.47749891 0.54292272\n",
      "  1.01835948 0.40504765 0.17223528 0.09294473 0.75156469 0.74154258\n",
      "  0.85943293 0.84134823 0.46825625 0.68236985 0.66738646 0.00994973\n",
      "  0.1755785  0.52041254 1.15394009 0.83586452 0.5651643  1.11664293\n",
      "  0.90729403 0.70200012 0.57528095 0.9736393  0.76191515 0.38160713\n",
      "  0.69170158 0.40423482 1.03741191 0.65306823]\n",
      " [0.70416042 0.6972099  0.72302623 0.29149318 0.37920439 0.96733942\n",
      "  0.08820683 0.13038076 0.62838751 0.21086305 0.48289485 0.92168537\n",
      "  0.67155911 0.86085084 0.4865423  0.15550772 0.53925058 0.22914225\n",
      "  0.41036541 0.69590817 0.30112671 0.20374555 0.51796648 0.47989002\n",
      "  0.52459903 0.20934348 0.53594669 0.84922232 0.31526677 0.25694104\n",
      "  0.79818323 0.19788185 0.34509639 0.12518743 0.27491044 0.58921083\n",
      "  0.2110808  0.86036541 0.65836456 0.42163458 0.43160069 0.69201311\n",
      "  0.50476984 0.92435685 0.         0.21391542 0.53068916 0.64057901\n",
      "  0.56331356 0.7050024  0.75165842 0.41918392 0.71558098 0.24372166\n",
      "  0.04694469 0.51742518 0.79472733 0.58920876 0.21964891 0.21747606\n",
      "  0.5542132  0.67403683 0.81703174 0.73066926 0.21115916 0.22431057\n",
      "  0.34382617 0.73740309 0.52170926 0.60101417 0.57172648 0.39158162\n",
      "  0.28802434 0.66667193 0.76092167 0.86567772 0.44621884 0.75909026\n",
      "  0.15190379 0.79956997 0.45743584 0.68703594 0.30856204 0.92145891\n",
      "  0.82381518 0.70927134 0.23546421 0.54173377 0.36821328 0.19347003\n",
      "  0.09732516 0.22582226 0.63237474 0.1304713  0.18184681 0.57711982\n",
      "  0.5823051  0.64090277 0.23029846 0.2759898 ]\n",
      " [0.59215381 0.68599765 0.90641897 0.29820736 0.36225369 1.00057762\n",
      "  0.3016894  0.31117894 0.48664305 0.27886183 0.53056257 0.98439746\n",
      "  0.59452679 0.84682715 0.5289828  0.33182878 0.71348907 0.44277775\n",
      "  0.34563687 0.7500562  0.36899792 0.08035174 0.62584679 0.49063276\n",
      "  0.65568333 0.38847569 0.66198004 0.90541836 0.46795932 0.40727979\n",
      "  0.87719594 0.02787913 0.38930215 0.09326261 0.11433353 0.4536299\n",
      "  0.11604852 0.7186737  0.50566561 0.47278088 0.61167039 0.82338836\n",
      "  0.48254958 1.01651036 0.21391542 0.         0.37936584 0.60317444\n",
      "  0.57426386 0.86158812 0.67542438 0.40725272 0.64479658 0.28629294\n",
      "  0.23446419 0.66601766 0.81759486 0.75887758 0.43337589 0.41823718\n",
      "  0.41338731 0.87607293 0.9186276  0.62960938 0.21985971 0.11043232\n",
      "  0.54672144 0.64006653 0.48652619 0.53053916 0.73915995 0.47679896\n",
      "  0.08348078 0.68834313 0.84512753 0.9733864  0.65403568 0.67267686\n",
      "  0.36447441 0.68808034 0.5574631  0.6174977  0.34945344 1.01177632\n",
      "  0.88706225 0.68814838 0.21172106 0.42327814 0.4561734  0.21465405\n",
      "  0.31079893 0.33920669 0.60110325 0.32660609 0.26995803 0.64022532\n",
      "  0.78479108 0.79831156 0.02172367 0.37950759]\n",
      " [0.2326845  0.46721669 1.02556184 0.33331069 0.29540167 0.80786989\n",
      "  0.5983828  0.65687055 0.1081912  0.41297085 0.46694494 0.84436598\n",
      "  0.28537217 0.59536401 0.45700182 0.68106238 0.833316   0.72110264\n",
      "  0.21010586 0.63139297 0.42834822 0.4570224  0.63422359 0.38148564\n",
      "  0.69893996 0.59415277 0.69432309 0.76383535 0.60339259 0.5623681\n",
      "  0.78080171 0.37204411 0.39898027 0.4530703  0.27018963 0.08257728\n",
      "  0.3206429  0.33939826 0.12848394 0.44245389 0.7618869  0.83532769\n",
      "  0.31784097 0.92665097 0.53068916 0.37936584 0.         0.36035805\n",
      "  0.42822239 0.9209583  0.35308198 0.31094045 0.33554612 0.38205731\n",
      "  0.51998335 0.74054588 0.63142085 0.86150958 0.72528143 0.65454977\n",
      "  0.0426872  1.05562644 0.85854395 0.27938619 0.35372704 0.48158635\n",
      "  0.76467135 0.29337742 0.29520921 0.25155441 0.83972877 0.50026297\n",
      "  0.30449681 0.52639199 0.76327931 0.91817957 0.87601609 0.33650609\n",
      "  0.64542564 0.3223896  0.57316119 0.31561645 0.38484515 0.91898979\n",
      "  0.76064395 0.45188266 0.58826566 0.09622748 0.49393901 0.59395077\n",
      "  0.61725627 0.48030611 0.36985229 0.661092   0.43521114 0.56480854\n",
      "  0.97354646 0.86806692 0.38314779 0.48227782]\n",
      " [0.2379496  0.10734494 0.82867757 0.34908655 0.26164948 0.44751904\n",
      "  0.66588935 0.76565505 0.32457318 0.43624086 0.25220384 0.49193284\n",
      "  0.12107432 0.24780193 0.23977708 0.79029957 0.66570529 0.73607062\n",
      "  0.25767634 0.30489418 0.37077942 0.68005747 0.41432721 0.18636813\n",
      "  0.49207546 0.57616022 0.47877967 0.4138166  0.51565706 0.51096237\n",
      "  0.45097811 0.58158113 0.31845501 0.63186154 0.49715047 0.30432434\n",
      "  0.49362617 0.41457102 0.36754574 0.28189913 0.63830195 0.57418712\n",
      "  0.13652626 0.59071387 0.64057901 0.60317444 0.36035805 0.\n",
      "  0.14509604 0.68616725 0.1559458  0.22187321 0.12032058 0.39963426\n",
      "  0.60542821 0.55154891 0.27309796 0.67310315 0.75418507 0.64460691\n",
      "  0.32481936 0.91104986 0.54339226 0.21287187 0.43250032 0.71242151\n",
      "  0.70668825 0.20466887 0.12005099 0.11050227 0.65335027 0.35571391\n",
      "  0.56294151 0.18803109 0.4438343  0.6011975  0.79970933 0.18581978\n",
      "  0.68280265 0.28005354 0.38321878 0.10343216 0.34369437 0.58206074\n",
      "  0.41701412 0.09286401 0.80270861 0.26418317 0.36764018 0.7867422\n",
      "  0.68919288 0.46077184 0.01872286 0.7542351  0.46763484 0.28992237\n",
      "  0.84838044 0.64968418 0.61812763 0.42630335]\n",
      " [0.36873177 0.14055851 0.68427955 0.28397351 0.2122785  0.42668504\n",
      "  0.57199325 0.67963615 0.42516841 0.35245051 0.11249533 0.42824934\n",
      "  0.25821304 0.29971455 0.10113753 0.7031687  0.52094143 0.62228432\n",
      "  0.25628961 0.203944   0.26813501 0.64391571 0.26932098 0.08531154\n",
      "  0.34701702 0.4617677  0.33393144 0.34673954 0.38624599 0.39172451\n",
      "  0.35275398 0.54902005 0.21926036 0.58157693 0.48335631 0.39488474\n",
      "  0.45848367 0.5527883  0.47156759 0.15692388 0.49777841 0.43755131\n",
      "  0.11242136 0.49894463 0.56331356 0.57426386 0.42822239 0.14509604\n",
      "  0.         0.54503967 0.30094797 0.16771331 0.26530168 0.32116496\n",
      "  0.5224835  0.40650901 0.24333155 0.52804003 0.64354446 0.52829515\n",
      "  0.40242037 0.76648057 0.4321053  0.35208763 0.37152744 0.6772852\n",
      "  0.57604928 0.34584752 0.1331592  0.21807818 0.50825657 0.22417372\n",
      "  0.55350547 0.11468472 0.33546252 0.49161632 0.66350154 0.33067907\n",
      "  0.57821538 0.42267538 0.23999569 0.24639871 0.25475896 0.4915045\n",
      "  0.33768806 0.16222169 0.75497604 0.33969875 0.24030676 0.73089481\n",
      "  0.59523149 0.35716481 0.12677541 0.66352816 0.38198345 0.15115271\n",
      "  0.70536288 0.50614835 0.59252672 0.31467189]\n",
      " [0.91288703 0.62869272 0.16850188 0.61867647 0.62758693 0.60686486\n",
      "  0.64198103 0.74086613 0.95025491 0.58978081 0.46272711 0.47786808\n",
      "  0.80311203 0.70450565 0.4745084  0.75146837 0.18194523 0.56489297\n",
      "  0.71170823 0.42305688 0.51953937 0.89189854 0.28825593 0.55184334\n",
      "  0.22302109 0.49580516 0.22663668 0.46327841 0.39556777 0.4567239\n",
      "  0.35906109 0.83455557 0.53076309 0.8067376  0.83370976 0.91371871\n",
      "  0.76936175 1.0978269  0.99708124 0.47856745 0.28647291 0.12522051\n",
      "  0.62659474 0.37540245 0.7050024  0.86158812 0.9209583  0.68616725\n",
      "  0.54503967 0.         0.83788305 0.61045385 0.80534779 0.59646304\n",
      "  0.66138751 0.19610687 0.55497811 0.12930605 0.59533546 0.50651443\n",
      "  0.90858859 0.31870494 0.28023222 0.89692696 0.6599665  0.91948826\n",
      "  0.41983041 0.8901153  0.65767379 0.75977852 0.13988171 0.4250672\n",
      "  0.89355154 0.52297177 0.32768106 0.28283386 0.40261757 0.87071008\n",
      "  0.59390909 0.96618393 0.34797699 0.78945167 0.55716809 0.38000428\n",
      "  0.42693834 0.66161451 0.93899953 0.85163154 0.43658841 0.89343532\n",
      "  0.65430388 0.52313215 0.66744643 0.7096451  0.59275828 0.39624704\n",
      "  0.31954307 0.06413135 0.88322875 0.48822548]\n",
      " [0.14267426 0.2192672  0.98335451 0.46617269 0.37920986 0.5099954\n",
      "  0.78892081 0.88069258 0.27465715 0.55954658 0.40733479 0.58775738\n",
      "  0.08144923 0.27197935 0.39478479 0.90577814 0.82164493 0.87244429\n",
      "  0.34339659 0.43850729 0.50815195 0.75544032 0.56992537 0.33527041\n",
      "  0.64773863 0.71502044 0.63415174 0.51746184 0.66426169 0.65383027\n",
      "  0.57489955 0.65816718 0.45665173 0.72143539 0.56224152 0.27518011\n",
      "  0.5775933  0.27844162 0.30463215 0.43231189 0.79240348 0.72275536\n",
      "  0.27120655 0.70475824 0.75165842 0.67542438 0.35308198 0.1559458\n",
      "  0.30094797 0.83788305 0.         0.34843694 0.03862975 0.52150394\n",
      "  0.72182797 0.70745331 0.36636378 0.82874895 0.88810008 0.7837712\n",
      "  0.31070538 1.06694277 0.6737233  0.09489008 0.54054518 0.78569992\n",
      "  0.85470941 0.07958399 0.24367478 0.15075442 0.80910577 0.50712561\n",
      "  0.61946381 0.32298816 0.5749748  0.72895208 0.950946   0.03678961\n",
      "  0.81330992 0.13692534 0.53883595 0.06597437 0.47513141 0.69540987\n",
      "  0.5293877  0.18738908 0.88457984 0.26769195 0.51708706 0.87619853\n",
      "  0.81180647 0.59547136 0.17417328 0.87316028 0.59074485 0.44241132\n",
      "  1.00360875 0.80360895 0.68664875 0.5666208 ]\n",
      " [0.34844716 0.28413627 0.72172729 0.12802526 0.04511203 0.5943693\n",
      "  0.44498496 0.54378188 0.34655668 0.21483247 0.16000012 0.59026788\n",
      "  0.27511359 0.44798831 0.15187178 0.56843188 0.53477215 0.52408811\n",
      "  0.10557447 0.35838505 0.1619183  0.47850965 0.32328907 0.08806988\n",
      "  0.38934713 0.36771393 0.38388099 0.50926602 0.33119835 0.31038314\n",
      "  0.50008123 0.38246644 0.1131029  0.42046015 0.31602633 0.30745529\n",
      "  0.2918967  0.53392202 0.39241748 0.13201322 0.47821402 0.52531082\n",
      "  0.08560122 0.64597195 0.41918392 0.40725272 0.31094045 0.22187321\n",
      "  0.16771331 0.61045385 0.34843694 0.         0.31018432 0.17785514\n",
      "  0.38355671 0.43454281 0.41073063 0.5577117  0.53971372 0.43634496\n",
      "  0.29861421 0.76909733 0.56440705 0.35552742 0.21395317 0.51177404\n",
      "  0.51651188 0.35678114 0.10595126 0.20632492 0.5360831  0.19641598\n",
      "  0.3863236  0.28235502 0.47537232 0.62351596 0.61968523 0.36446732\n",
      "  0.4655331  0.43094413 0.26338116 0.28250068 0.12671241 0.63953778\n",
      "  0.49610775 0.29222056 0.59365495 0.24423309 0.19581025 0.57308047\n",
      "  0.46821149 0.24720304 0.21319252 0.53260223 0.24628097 0.26708185\n",
      "  0.69403373 0.55881898 0.42519154 0.22187379]\n",
      " [0.14501989 0.1949426  0.9489508  0.42892138 0.34164039 0.50330874\n",
      "  0.75157671 0.84428297 0.26655397 0.52193515 0.37019844 0.57290151\n",
      "  0.05188395 0.2707148  0.35759755 0.86933755 0.78530517 0.83408244\n",
      "  0.30884738 0.41216167 0.46962058 0.72452263 0.5346037  0.29697343\n",
      "  0.61231869 0.67650294 0.59909514 0.5000859  0.62574966 0.61520558\n",
      "  0.55206293 0.62677574 0.41807349 0.68820784 0.53235043 0.26134656\n",
      "  0.54477415 0.30170109 0.30106979 0.39404839 0.7546481  0.69168287\n",
      "  0.23257989 0.68525305 0.71558098 0.64479658 0.33554612 0.12032058\n",
      "  0.26530168 0.80534779 0.03862975 0.31018432 0.         0.48395356\n",
      "  0.68510423 0.67152937 0.35022946 0.79334105 0.84989508 0.74525594\n",
      "  0.29396459 1.03037    0.64918874 0.10496541 0.50442202 0.75520648\n",
      "  0.81614287 0.09265581 0.20518301 0.11596749 0.77352212 0.46893046\n",
      "  0.59133381 0.29541426 0.54993053 0.70535133 0.9126081  0.06554921\n",
      "  0.77532395 0.16269598 0.50195561 0.02854603 0.43683833 0.67608038\n",
      "  0.50967853 0.16490234 0.85286739 0.24574231 0.47867869 0.84327747\n",
      "  0.77452066 0.55709969 0.1388964  0.83630478 0.55319349 0.40925809\n",
      "  0.96630564 0.76975388 0.65668306 0.52802619]\n",
      " [0.49801257 0.45354538 0.66986347 0.05710658 0.14231448 0.7354844\n",
      "  0.26787018 0.36618717 0.45592315 0.03817967 0.25251895 0.70521325\n",
      "  0.44435543 0.61732471 0.25347457 0.39073839 0.4730382  0.35909728\n",
      "  0.19894759 0.47244065 0.08308696 0.34163768 0.34178116 0.23682099\n",
      "  0.37982074 0.21509581 0.38341854 0.628243   0.22830497 0.18120367\n",
      "  0.59290428 0.25850148 0.10857514 0.26853265 0.23766254 0.41417906\n",
      "  0.17830068 0.67292049 0.49577392 0.19183225 0.38822673 0.54389006\n",
      "  0.26314331 0.73069562 0.24372166 0.28629294 0.38205731 0.39963426\n",
      "  0.32116496 0.59646304 0.52150394 0.17785514 0.48395356 0.\n",
      "  0.20609272 0.40143007 0.55784442 0.51022656 0.37091102 0.27988225\n",
      "  0.38940239 0.67943253 0.63235083 0.51527069 0.067094   0.37449352\n",
      "  0.38306084 0.51928641 0.28295409 0.37352727 0.48891472 0.19096257\n",
      "  0.30061862 0.42825045 0.55981868 0.68732503 0.49403329 0.53379743\n",
      "  0.29359094 0.58866813 0.27276905 0.45569198 0.06854113 0.72614591\n",
      "  0.60711885 0.46567859 0.4396469  0.35513348 0.17122633 0.41183234\n",
      "  0.29096524 0.09829747 0.39035027 0.3547655  0.06924292 0.35812742\n",
      "  0.59461991 0.53570539 0.30748495 0.11103883]\n",
      " [0.68172714 0.65799855 0.68483896 0.25731352 0.34544738 0.92272895\n",
      "  0.07875267 0.16023661 0.61370107 0.17101544 0.43898931 0.87543948\n",
      "  0.64261645 0.82111757 0.44308686 0.18497866 0.49827598 0.21397919\n",
      "  0.3839957  0.65048981 0.25769698 0.23795873 0.47102184 0.44001289\n",
      "  0.47823575 0.16705586 0.48937315 0.80337437 0.26968106 0.21071067\n",
      "  0.75148807 0.21419282 0.30343638 0.15440502 0.27680302 0.57356481\n",
      "  0.20710006 0.8435116  0.64615413 0.37799865 0.39159866 0.64595374\n",
      "  0.46905014 0.8774165  0.04694469 0.23446419 0.51998335 0.60542821\n",
      "  0.5224835  0.66138751 0.72182797 0.38355671 0.68510423 0.20609272\n",
      "  0.         0.47236983 0.75138267 0.54744495 0.2107209  0.18476052\n",
      "  0.54041554 0.6433137  0.77010429 0.7057116  0.18319868 0.26178665\n",
      "  0.31310784 0.71164219 0.4877002  0.5717355  0.5294875  0.34556698\n",
      "  0.30095724 0.62397977 0.7141294  0.81884549 0.41958356 0.73104775\n",
      "  0.13439223 0.7761771  0.41061067 0.65661027 0.26830526 0.87452797\n",
      "  0.7776602  0.67125314 0.28130872 0.52294262 0.322194   0.24019274\n",
      "  0.09741568 0.17968942 0.59640041 0.15151911 0.14062326 0.53152364\n",
      "  0.55175051 0.5972569  0.2531284  0.22984279]\n",
      " [0.76090706 0.5192219  0.28745902 0.42680728 0.44514743 0.60539104\n",
      "  0.46212695 0.56809198 0.78049909 0.39374786 0.30494775 0.50424287\n",
      "  0.65956    0.63254506 0.31762097 0.58190452 0.11621879 0.40938847\n",
      "  0.53046785 0.35576792 0.32659851 0.69860657 0.13947578 0.39042226\n",
      "  0.06355188 0.31086076 0.08179227 0.45857992 0.20312141 0.26375523\n",
      "  0.3677464  0.63886469 0.34342676 0.6137501  0.63815916 0.74189357\n",
      "  0.57331579 0.94886479 0.82668351 0.30411767 0.14577429 0.18164118\n",
      "  0.4662715  0.45183488 0.51742518 0.66601766 0.74054588 0.55154891\n",
      "  0.40650901 0.19610687 0.70745331 0.43454281 0.67152937 0.40143007\n",
      "  0.47236983 0.         0.49674512 0.12431344 0.43985095 0.33485062\n",
      "  0.73228399 0.36155375 0.33923545 0.75258128 0.46422665 0.72699643\n",
      "  0.28193508 0.74821865 0.49850272 0.60673958 0.10326802 0.24029236\n",
      "  0.6975105  0.42213804 0.32704159 0.37404788 0.31582945 0.7366723\n",
      "  0.42165442 0.82573459 0.17487167 0.65134232 0.36609457 0.45221297\n",
      "  0.42280313 0.54998707 0.75279467 0.67874834 0.24789722 0.7090215\n",
      "  0.47723123 0.32718018 0.53328368 0.53839246 0.39678792 0.27795272\n",
      "  0.30994488 0.13430019 0.68769065 0.29237925]\n",
      " [0.49346459 0.16600536 0.71992856 0.52548515 0.4555079  0.18429014\n",
      "  0.79154659 0.90328428 0.59626451 0.58567263 0.31274264 0.2228099\n",
      "  0.37919283 0.15097    0.30829712 0.92555315 0.60847638 0.81713954\n",
      "  0.49166369 0.1411603  0.49374016 0.88689267 0.36956431 0.32760912\n",
      "  0.43433738 0.66254213 0.41524879 0.1513703  0.56474779 0.58946468\n",
      "  0.22435258 0.79232258 0.45087886 0.82275429 0.72523056 0.577389\n",
      "  0.70180209 0.64380436 0.6377452  0.37339788 0.62750245 0.42983389\n",
      "  0.34380339 0.34046425 0.79472733 0.81759486 0.63142085 0.27309796\n",
      "  0.24333155 0.55497811 0.36636378 0.41073063 0.35022946 0.55784442\n",
      "  0.75138267 0.49674512 0.         0.59375364 0.84232997 0.72293568\n",
      "  0.59727892 0.84326132 0.32802875 0.45502035 0.61242827 0.92028083\n",
      "  0.73845966 0.44183982 0.35182244 0.38359074 0.57952205 0.41759627\n",
      "  0.79503514 0.1300743  0.23835774 0.37685406 0.80323863 0.40310022\n",
      "  0.78681772 0.50216442 0.38672134 0.35144509 0.48961038 0.33087916\n",
      "  0.16754109 0.18868909 0.99579876 0.53573881 0.43955851 0.96963357\n",
      "  0.81413539 0.57624074 0.26186033 0.88372555 0.61318003 0.2407672\n",
      "  0.80446625 0.54245948 0.83581388 0.52832892]\n",
      " [0.88503624 0.63454587 0.16418521 0.54137493 0.56634177 0.67851556\n",
      "  0.52117505 0.61621717 0.90405451 0.49724285 0.42877888 0.56147116\n",
      "  0.78280818 0.73647616 0.44141667 0.62572599 0.05320139 0.43700551\n",
      "  0.65174626 0.45352051 0.44080115 0.782396   0.25882455 0.51468936\n",
      "  0.18102775 0.38041047 0.19506518 0.53069408 0.29168934 0.35173974\n",
      "  0.43040289 0.73265593 0.46285938 0.69714484 0.7430379  0.86516699\n",
      "  0.6748999  1.07291111 0.95009341 0.42800926 0.16107431 0.19912483\n",
      "  0.59055923 0.47951475 0.58920876 0.75887758 0.86150958 0.67310315\n",
      "  0.52804003 0.12930605 0.82874895 0.5577117  0.79334105 0.51022656\n",
      "  0.54744495 0.12431344 0.59375364 0.         0.46729107 0.38343472\n",
      "  0.85459302 0.24977541 0.3732456  0.87606437 0.56939279 0.80840304\n",
      "  0.29090273 0.87140816 0.62277779 0.73081563 0.02178644 0.36217082\n",
      "  0.79842926 0.53374427 0.39272262 0.39039866 0.2773674  0.85868332\n",
      "  0.47005486 0.94885023 0.2991838  0.77381132 0.48219345 0.48243626\n",
      "  0.49372952 0.66615595 0.82067095 0.80192462 0.36759059 0.77393515\n",
      "  0.53196879 0.42641418 0.6546745  0.58463164 0.49513465 0.39247545\n",
      "  0.21867473 0.07673701 0.7802379  0.39924498]\n",
      " [0.86828691 0.78410213 0.56778376 0.42798473 0.51087258 0.99441828\n",
      "  0.13371841 0.16627128 0.81402402 0.3329971  0.53974269 0.91955008\n",
      "  0.81313146 0.93949346 0.54798966 0.1674686  0.41409632 0.03067591\n",
      "  0.56802853 0.71909264 0.38341146 0.41305967 0.49951868 0.57183722\n",
      "  0.47290842 0.18209177 0.48985999 0.85849434 0.28069567 0.25417319\n",
      "  0.78520675 0.41739037 0.4357338  0.34264234 0.48741644 0.77295977\n",
      "  0.41766194 1.03917598 0.84921195 0.48677771 0.30984533 0.62071997\n",
      "  0.62035554 0.88813903 0.21964891 0.43337589 0.72528143 0.75418507\n",
      "  0.64354446 0.59533546 0.88810008 0.53971372 0.84989508 0.37091102\n",
      "  0.2107209  0.43985095 0.84232997 0.46729107 0.         0.11959296\n",
      "  0.74240866 0.48476195 0.77560762 0.88615158 0.37514638 0.42628321\n",
      "  0.17805675 0.88996246 0.64519215 0.74275941 0.45548332 0.42734977\n",
      "  0.50709906 0.72576536 0.74462949 0.81359713 0.25140068 0.90274759\n",
      "  0.07995787 0.95954948 0.46010182 0.8221364  0.41314394 0.88758785\n",
      "  0.8269822  0.80390468 0.39550512 0.71829006 0.40718471 0.34531337\n",
      "  0.12259702 0.29363041 0.74171664 0.13488545 0.30349322 0.60357161\n",
      "  0.39512506 0.53494922 0.44909362 0.32982896]\n",
      " [0.77548915 0.66870941 0.50768998 0.3359955  0.41247038 0.87507299\n",
      "  0.13932282 0.23484373 0.73469676 0.24441571 0.42237692 0.80229029\n",
      "  0.71144548 0.82219505 0.43109777 0.24732499 0.33130741 0.09467479\n",
      "  0.47851889 0.59958792 0.27564949 0.42057328 0.3819245  0.45988048\n",
      "  0.3608898  0.06875424 0.37681805 0.73996434 0.16159011 0.13671816\n",
      "  0.66882926 0.39647373 0.32747985 0.33862098 0.44442359 0.69302799\n",
      "  0.37105079 0.95261237 0.773215   0.37139934 0.22247905 0.51639907\n",
      "  0.51339628 0.77637923 0.21747606 0.41823718 0.65454977 0.64460691\n",
      "  0.52829515 0.50651443 0.7837712  0.43634496 0.74525594 0.27988225\n",
      "  0.18476052 0.33485062 0.72293568 0.38343472 0.11959296 0.\n",
      "  0.66623205 0.45855408 0.66437028 0.78912564 0.30137152 0.4417785\n",
      "  0.12849515 0.79164688 0.5400975  0.64215492 0.36820973 0.30918093\n",
      "  0.47955409 0.60732894 0.62852296 0.70522717 0.2374098  0.80080387\n",
      "  0.0876187  0.8637484  0.34064498 0.7180718  0.31023935 0.77532736\n",
      "  0.70889198 0.6896989  0.43988946 0.63480964 0.28973415 0.39200593\n",
      "  0.14857257 0.18996723 0.6312207  0.20425781 0.21957211 0.48398592\n",
      "  0.36699623 0.44355279 0.43743063 0.21832328]\n",
      " [0.19062048 0.43210189 1.01877638 0.33750073 0.2891242  0.77177144\n",
      "  0.61814868 0.68208939 0.07468789 0.42248071 0.44991643 0.81255878\n",
      "  0.24431448 0.55600801 0.43932928 0.70659844 0.8286939  0.73659729\n",
      "  0.20434456 0.60398052 0.42822951 0.49210669 0.62067986 0.36246434\n",
      "  0.68795397 0.60380754 0.68221225 0.7325464  0.60496331 0.56735061\n",
      "  0.75371936 0.40423582 0.39454649 0.48321028 0.30182058 0.04135026\n",
      "  0.34657598 0.30839218 0.10710338 0.43058528 0.76176571 0.81883124\n",
      "  0.29465764 0.89889779 0.5542132  0.41338731 0.0426872  0.32481936\n",
      "  0.40242037 0.90858859 0.31070538 0.29861421 0.29396459 0.38940239\n",
      "  0.54041554 0.73228399 0.59727892 0.85459302 0.74240866 0.66623205\n",
      "  0.         1.05554047 0.83429681 0.23684984 0.3679672  0.51773518\n",
      "  0.77230313 0.25075386 0.26944559 0.21481594 0.83286376 0.49243111\n",
      "  0.34115088 0.49621171 0.73785867 0.89387281 0.88268979 0.29382671\n",
      "  0.6624522  0.28167935 0.5619923  0.27479181 0.38462265 0.89101559\n",
      "  0.73082825 0.41525365 0.62376102 0.06303625 0.48804888 0.62737858\n",
      "  0.63782555 0.48688278 0.33542592 0.68463844 0.44675888 0.54342655\n",
      "  0.97525645 0.85743161 0.41849697 0.48444817]\n",
      " [1.11057029 0.88045993 0.16693747 0.72310587 0.76813915 0.91933684\n",
      "  0.58938362 0.65103176 1.11264492 0.6556164  0.66065218 0.79465765\n",
      "  1.0150588  0.986217   0.67333618 0.65090718 0.24575842 0.46139543\n",
      "  0.85152059 0.7032493  0.62761115 0.87778235 0.50101207 0.74119608\n",
      "  0.42400329 0.49191438 0.44031805 0.77279829 0.45262941 0.49942659\n",
      "  0.66993669 0.85339782 0.66247348 0.79694968 0.88997067 1.07200508\n",
      "  0.81700433 1.29859998 1.15702986 0.64763141 0.29384132 0.43189643\n",
      "  0.81554299 0.69333808 0.67403683 0.87607293 1.05562644 0.91104986\n",
      "  0.76648057 0.31870494 1.06694277 0.76909733 1.03037    0.67943253\n",
      "  0.6433137  0.36155375 0.84326132 0.24977541 0.48476195 0.45855408\n",
      "  1.05554047 0.         0.59830758 1.10676713 0.72619141 0.89705947\n",
      "  0.33044926 1.10359081 0.84776944 0.95792972 0.26556412 0.57481752\n",
      "  0.93306006 0.78160237 0.63464277 0.60045796 0.23342803 1.09503202\n",
      "  0.52640352 1.1811197  0.5286188  1.009027   0.67122933 0.69827076\n",
      "  0.73585658 0.9114316  0.87917564 1.00889633 0.57329603 0.82912416\n",
      "  0.59039326 0.58306828 0.89302987 0.61949751 0.64289084 0.6385826\n",
      "  0.091732   0.30615069 0.89561773 0.57372022]\n",
      " [0.78120844 0.454731   0.4461027  0.62918182 0.59850041 0.33262355\n",
      "  0.77855224 0.89016714 0.85559122 0.64282404 0.40643368 0.19847017\n",
      "  0.66382771 0.47622745 0.41307777 0.90681838 0.41168522 0.74554821\n",
      "  0.6687757  0.2385107  0.54970539 0.96958625 0.29950383 0.48134928\n",
      "  0.30348728 0.62658709 0.28786598 0.19946172 0.51153984 0.56332702\n",
      "  0.10372573 0.89081213 0.53351583 0.88973783 0.85717416 0.82667608\n",
      "  0.80851202 0.95077827 0.90142717 0.45413047 0.48303088 0.17421567\n",
      "  0.54071501 0.11270091 0.81703174 0.9186276  0.85854395 0.54339226\n",
      "  0.4321053  0.28023222 0.6737233  0.56440705 0.64918874 0.63235083\n",
      "  0.77010429 0.33923545 0.32802875 0.3732456  0.77560762 0.66437028\n",
      "  0.83429681 0.59830758 0.         0.7520059  0.69907701 1.00135864\n",
      "  0.62102516 0.74130826 0.56485301 0.6424288  0.36944756 0.44218728\n",
      "  0.92564244 0.35571388 0.0995868  0.05963633 0.64171    0.70998129\n",
      "  0.74794109 0.81027639 0.36414837 0.64182598 0.57160634 0.11304246\n",
      "  0.16779542 0.48633509 1.0484299  0.77171929 0.46360715 1.00997444\n",
      "  0.79681566 0.59692899 0.52628988 0.86263657 0.65899059 0.29742058\n",
      "  0.58900968 0.29993044 0.93983465 0.54885183]\n",
      " [0.05068571 0.29904269 1.03490278 0.45825484 0.37675336 0.60409963\n",
      "  0.77744348 0.86099742 0.18843919 0.55328965 0.44773897 0.67755969\n",
      "  0.09387958 0.36683184 0.43504101 0.88614623 0.86379431 0.87342718\n",
      "  0.32179966 0.51409407 0.51717402 0.70992738 0.61902974 0.3656826\n",
      "  0.69584647 0.72100806 0.68408479 0.60504192 0.68462226 0.66586695\n",
      "  0.6559356  0.61534419 0.46842354 0.68548639 0.51527611 0.19746939\n",
      "  0.54158464 0.20172651 0.21324492 0.46088479 0.8236139  0.78665635\n",
      "  0.29260094 0.79006496 0.73066926 0.62960938 0.27938619 0.21287187\n",
      "  0.35208763 0.89692696 0.09489008 0.35552742 0.10496541 0.51527069\n",
      "  0.7057116  0.75258128 0.45502035 0.87606437 0.88615158 0.78912564\n",
      "  0.23684984 1.10676713 0.7520059  0.         0.52251736 0.73843685\n",
      "  0.87183158 0.01597441 0.26093307 0.15083558 0.85559339 0.53550108\n",
      "  0.56607894 0.39683431 0.6525329  0.80869323 0.97348822 0.06415333\n",
      "  0.80867211 0.07559562 0.57931313 0.11052114 0.47932667 0.78092098\n",
      "  0.61450708 0.26965244 0.84112431 0.207404   0.54165766 0.83770614\n",
      "  0.79961168 0.59916162 0.23132913 0.85686591 0.58340211 0.5012552\n",
      "  1.0381552  0.85793501 0.6384172  0.57731177]\n",
      " [0.49914822 0.49744517 0.72668194 0.08769295 0.17121165 0.79252335\n",
      "  0.25631332 0.34032793 0.43896523 0.07246031 0.3137119  0.76775123\n",
      "  0.46062778 0.66152693 0.31336417 0.36545533 0.52981477 0.36863397\n",
      "  0.20080855 0.53402608 0.1501773  0.27848259 0.40881538 0.28621595\n",
      "  0.44534463 0.24397452 0.44954241 0.68984998 0.28147561 0.22762376\n",
      "  0.65785912 0.19218342 0.17051878 0.21033017 0.17407987 0.39782812\n",
      "  0.11143602 0.66483451 0.47501651 0.25439555 0.43937653 0.61034431\n",
      "  0.29848836 0.79666939 0.21115916 0.21985971 0.35372704 0.43250032\n",
      "  0.37152744 0.6599665  0.54054518 0.21395317 0.50442202 0.067094\n",
      "  0.18319868 0.46422665 0.61242827 0.56939279 0.37514638 0.30137152\n",
      "  0.3679672  0.72619141 0.69907701 0.52251736 0.         0.31168188\n",
      "  0.41658051 0.52847104 0.31273176 0.38996721 0.54838672 0.2580284\n",
      "  0.23460194 0.48235998 0.62540173 0.7542467  0.52897932 0.54855592\n",
      "  0.29530927 0.59319982 0.33984139 0.47587688 0.13023971 0.79197385\n",
      "  0.6699183  0.50616911 0.38355052 0.34367014 0.23828982 0.36005274\n",
      "  0.2778858  0.14520919 0.42558547 0.33451172 0.08447079 0.42172782\n",
      "  0.63900304 0.59847181 0.24088011 0.17186322]\n",
      " [0.69989266 0.79308579 0.94638709 0.39601836 0.4666652  1.10212166\n",
      "  0.30773728 0.27576033 0.58966881 0.3589962  0.6253655  1.07924821\n",
      "  0.70487481 0.95484481 0.62500992 0.29033262 0.75977557 0.44271272\n",
      "  0.45523854 0.84569141 0.45428061 0.03339855 0.70391683 0.59267257\n",
      "  0.724806   0.42848783 0.73333373 1.00152533 0.52429353 0.46332229\n",
      "  0.96699466 0.13088252 0.48180116 0.11350783 0.22378492 0.55856479\n",
      "  0.2204582  0.81931396 0.60517514 0.56566504 0.65337923 0.89372931\n",
      "  0.58952003 1.10293049 0.22431057 0.11043232 0.48158635 0.71242151\n",
      "  0.6772852  0.91948826 0.78569992 0.51177404 0.75520648 0.37449352\n",
      "  0.26178665 0.72699643 0.92028083 0.80840304 0.42628321 0.4417785\n",
      "  0.51773518 0.89705947 1.00135864 0.73843685 0.31168188 0.\n",
      "  0.56748944 0.74920349 0.59494283 0.64096477 0.79002056 0.56005541\n",
      "  0.17713871 0.79044702 0.93316004 1.05418478 0.66703444 0.7825155\n",
      "  0.37119801 0.7953615  0.63736617 0.72792657 0.44137413 1.09877249\n",
      "  0.98129402 0.79633323 0.10749732 0.53148241 0.53805715 0.12664233\n",
      "  0.30865137 0.40794199 0.70984822 0.2999868  0.34270741 0.73255681\n",
      "  0.80536922 0.8554486  0.10005388 0.45368322]\n",
      " [0.86395402 0.71257361 0.39243357 0.43542304 0.50108977 0.87197918\n",
      "  0.26058969 0.33653254 0.83745203 0.35192157 0.464108   0.78164739\n",
      "  0.78805793 0.85471411 0.47498937 0.34224604 0.23791389 0.14864306\n",
      "  0.57583106 0.60421577 0.35612954 0.54753009 0.37305982 0.5207001\n",
      "  0.32736867 0.17273654 0.34627762 0.72895    0.19103593 0.20788505\n",
      "  0.64509689 0.52480747 0.40345427 0.46650828 0.56919494 0.79573064\n",
      "  0.49568525 1.04654573 0.87831788 0.42489035 0.1396729  0.45706765\n",
      "  0.58441027 0.73350096 0.34382617 0.54672144 0.76467135 0.70668825\n",
      "  0.57604928 0.41983041 0.85470941 0.51651188 0.81614287 0.38306084\n",
      "  0.31310784 0.28193508 0.73845966 0.29090273 0.17805675 0.12849515\n",
      "  0.77230313 0.33044926 0.62102516 0.87183158 0.41658051 0.56748944\n",
      "  0.         0.87245488 0.61405864 0.72166392 0.28058704 0.35242246\n",
      "  0.607036   0.6360406  0.60408464 0.65339514 0.11247005 0.87576069\n",
      "  0.19929773 0.94734212 0.35378831 0.79043155 0.39695885 0.73404959\n",
      "  0.69480708 0.73761498 0.55697698 0.73510688 0.33907304 0.50766964\n",
      "  0.26412572 0.285472   0.69128552 0.30432445 0.33226217 0.49867751\n",
      "  0.23877218 0.36119482 0.56592185 0.29589819]\n",
      " [0.06651442 0.28749982 1.02956238 0.46240095 0.37970436 0.58931531\n",
      "  0.78270551 0.86764219 0.20391375 0.55739044 0.44369826 0.6641725\n",
      "  0.08867606 0.35155111 0.43098795 0.89279949 0.86005943 0.87674703\n",
      "  0.32766592 0.50377134 0.51866415 0.72041335 0.61379967 0.36305163\n",
      "  0.69089002 0.72334912 0.67878595 0.59219789 0.68449916 0.66712493\n",
      "  0.64460209 0.62533566 0.46932482 0.6945061  0.52576362 0.21181601\n",
      "  0.55042917 0.21050148 0.22919076 0.45891822 0.82177556 0.77885296\n",
      "  0.29105738 0.77782548 0.73740309 0.64006653 0.29337742 0.20466887\n",
      "  0.34584752 0.8901153  0.07958399 0.35678114 0.09265581 0.51928641\n",
      "  0.71164219 0.74821865 0.44183982 0.87140816 0.88996246 0.79164688\n",
      "  0.25075386 1.10359081 0.74130826 0.01597441 0.52847104 0.74920349\n",
      "  0.87245488 0.         0.25981433 0.15079134 0.85107251 0.53375513\n",
      "  0.57758944 0.38666455 0.64193137 0.79770851 0.97326207 0.04817921\n",
      "  0.81285588 0.07757048 0.57555272 0.10138999 0.48152611 0.76863078\n",
      "  0.602247   0.25754464 0.85139749 0.21901351 0.54057597 0.84723631\n",
      "  0.80501016 0.60170736 0.22328768 0.86296852 0.58773725 0.49407565\n",
      "  1.03588147 0.8519818  0.64924284 0.57864995]\n",
      " [0.26309614 0.2018792  0.78452883 0.23052707 0.14252042 0.53507583\n",
      "  0.55059345 0.64787948 0.29644998 0.32034168 0.19585389 0.55428428\n",
      "  0.17402401 0.36036763 0.18365338 0.67267761 0.60673585 0.62900898\n",
      "  0.14385793 0.33626007 0.26449589 0.56228988 0.37133392 0.108092\n",
      "  0.44538046 0.47134779 0.43591559 0.47298174 0.42507924 0.41089802\n",
      "  0.48559315 0.46407929 0.21318384 0.51217338 0.38374192 0.26382828\n",
      "  0.37520605 0.45128537 0.34330571 0.20043165 0.56279368 0.55841494\n",
      "  0.03231695 0.63151574 0.52170926 0.48652619 0.29520921 0.12005099\n",
      "  0.1331592  0.65767379 0.24367478 0.10595126 0.20518301 0.28295409\n",
      "  0.4877002  0.49850272 0.35182244 0.62277779 0.64519215 0.5400975\n",
      "  0.26944559 0.84776944 0.56485301 0.26093307 0.31273176 0.59494283\n",
      "  0.61405864 0.25981433 0.         0.11045737 0.60175012 0.27471079\n",
      "  0.4515152  0.23502572 0.46858751 0.62442722 0.71364658 0.26203312\n",
      "  0.57140151 0.33633609 0.32369482 0.17802622 0.23205841 0.62392043\n",
      "  0.46723928 0.20164969 0.68354278 0.20693425 0.28080775 0.66688399\n",
      "  0.57377245 0.35203893 0.11516494 0.63757964 0.35178748 0.27639124\n",
      "  0.77765371 0.61244667 0.5023174  0.32322894]\n",
      " [0.15429176 0.21780807 0.89153047 0.31740006 0.23194179 0.55695964\n",
      "  0.6399371  0.73023514 0.21602646 0.41169816 0.30220408 0.60167435\n",
      "  0.07097029 0.34623596 0.28964682 0.75534166 0.71621368 0.7285166\n",
      "  0.19294525 0.40547387 0.36823685 0.60992699 0.47644993 0.21704509\n",
      "  0.55197741 0.57366239 0.54145506 0.52288209 0.53391466 0.51649376\n",
      "  0.55416075 0.51187079 0.31859343 0.57231093 0.41907392 0.19394106\n",
      "  0.42904153 0.34212819 0.26042562 0.31085551 0.67322041 0.65521387\n",
      "  0.14248801 0.69641469 0.60101417 0.53053916 0.25155441 0.11050227\n",
      "  0.21807818 0.75977852 0.15075442 0.20632492 0.11596749 0.37352727\n",
      "  0.5717355  0.60673958 0.38359074 0.73081563 0.74275941 0.64215492\n",
      "  0.21481594 0.95792972 0.6424288  0.15083558 0.38996721 0.64096477\n",
      "  0.72166392 0.15079134 0.11045737 0.         0.70999312 0.38515912\n",
      "  0.48017891 0.29142087 0.54348741 0.7011964  0.82275212 0.16027028\n",
      "  0.66668488 0.22639827 0.43233717 0.08776196 0.33192689 0.68801736\n",
      "  0.52433258 0.2005079  0.7376111  0.15542678 0.39089677 0.72744547\n",
      "  0.66266489 0.45243231 0.12282096 0.72319075 0.44261286 0.36908778\n",
      "  0.88810982 0.71718829 0.54308144 0.42808772]\n",
      " [0.8641714  0.61646334 0.18592931 0.5197346  0.5445728  0.66898436\n",
      "  0.5051443  0.60190071 0.88247184 0.47631751 0.40809993 0.55455203\n",
      "  0.76244155 0.72100323 0.42075815 0.61203918 0.04452003 0.42502349\n",
      "  0.62997648 0.43884549 0.41914907 0.76371103 0.23933178 0.4936765\n",
      "  0.1614731  0.36259194 0.17628051 0.52099095 0.27154354 0.33189439\n",
      "  0.42197987 0.71282266 0.44107306 0.67842908 0.72213896 0.84353605\n",
      "  0.65426383 1.05211418 0.92848192 0.40654746 0.14682901 0.1954187\n",
      "  0.56950908 0.47749891 0.57172648 0.73915995 0.83972877 0.65335027\n",
      "  0.50825657 0.13988171 0.80910577 0.5360831  0.77352212 0.48891472\n",
      "  0.5294875  0.10326802 0.57952205 0.02178644 0.45548332 0.36820973\n",
      "  0.83286376 0.26556412 0.36944756 0.85559339 0.54838672 0.79002056\n",
      "  0.28058704 0.85107251 0.60175012 0.70999312 0.         0.34045282\n",
      "  0.77791419 0.51642821 0.38355115 0.38982425 0.27537229 0.83880311\n",
      "  0.45526729 0.92855064 0.27807765 0.75375728 0.46047718 0.479988\n",
      "  0.4841153  0.64788472 0.80399472 0.78028197 0.3458066  0.75759704\n",
      "  0.51653549 0.40575442 0.63497019 0.57050345 0.4746448  0.37432331\n",
      "  0.228228   0.08109288 0.76056719 0.37797666]\n",
      " [0.53634808 0.36277421 0.52634979 0.19799032 0.20487962 0.58061805\n",
      "  0.37623416 0.48939678 0.54291123 0.20106467 0.11398241 0.53022427\n",
      "  0.44632123 0.51320935 0.12378304 0.51070616 0.33837808 0.40384911\n",
      "  0.29017623 0.30592736 0.10790402 0.52794992 0.15219154 0.1720682\n",
      "  0.20216929 0.24589202 0.20127329 0.4578399  0.16209241 0.17319211\n",
      "  0.40950282 0.44894311 0.10589428 0.44964429 0.42354622 0.50352378\n",
      "  0.36881121 0.72410874 0.58861014 0.07505354 0.28811311 0.35765796\n",
      "  0.24290018 0.54292272 0.39158162 0.47679896 0.50026297 0.35571391\n",
      "  0.22417372 0.4250672  0.50712561 0.19641598 0.46893046 0.19096257\n",
      "  0.34556698 0.24029236 0.41759627 0.36217082 0.42734977 0.30918093\n",
      "  0.49243111 0.57481752 0.44218728 0.53550108 0.2580284  0.56005541\n",
      "  0.35242246 0.53375513 0.27471079 0.38515912 0.34045282 0.\n",
      "  0.48943113 0.29842375 0.37410232 0.49658917 0.44412939 0.53103189\n",
      "  0.36925689 0.61073336 0.08302292 0.44467924 0.13641701 0.5388892\n",
      "  0.43226206 0.38629054 0.61385198 0.4401939  0.02337332 0.57940891\n",
      "  0.39832199 0.16587968 0.33972604 0.468026   0.21971417 0.18667363\n",
      "  0.50303025 0.36922129 0.49813205 0.11575795]\n",
      " [0.5256831  0.65336082 0.95153121 0.29647776 0.34306869 0.97924783\n",
      "  0.37372679 0.39301924 0.41262818 0.30377092 0.52592928 0.97472877\n",
      "  0.53997519 0.81001681 0.52238193 0.41424528 0.75591697 0.51390768\n",
      "  0.3076662  0.74095911 0.38274026 0.15411236 0.64139479 0.47351151\n",
      "  0.67994564 0.44136464 0.68397931 0.89427402 0.50706118 0.44839162\n",
      "  0.87557285 0.09075431 0.3921759  0.17442646 0.07041586 0.38218148\n",
      "  0.12419505 0.64231218 0.42830524 0.47246591 0.65861121 0.84449513\n",
      "  0.45284664 1.01835948 0.28802434 0.08348078 0.30449681 0.56294151\n",
      "  0.55350547 0.89355154 0.61946381 0.3863236  0.59133381 0.30061862\n",
      "  0.30095724 0.6975105  0.79503514 0.79842926 0.50709906 0.47955409\n",
      "  0.34115088 0.93306006 0.92564244 0.56607894 0.23460194 0.17713871\n",
      "  0.607036   0.57758944 0.4515152  0.48017891 0.77791419 0.48943113\n",
      "  0.         0.66814465 0.84613199 0.9822568  0.71693421 0.61329787\n",
      "  0.43455976 0.62039875 0.57218109 0.56508148 0.3548704  1.01292232\n",
      "  0.87898265 0.65175585 0.2841723  0.35868386 0.47102387 0.29392614\n",
      "  0.38529118 0.37227626 0.56324006 0.40685967 0.30329477 0.63752412\n",
      "  0.84264715 0.83148424 0.08067552 0.40548154]\n",
      " [0.42555815 0.10621933 0.67755981 0.39542256 0.32676674 0.31225946\n",
      "  0.66719601 0.77779624 0.50725989 0.45681985 0.18800064 0.31928607\n",
      "  0.30812542 0.21869587 0.18192199 0.80052937 0.53809266 0.70199311\n",
      "  0.3686498  0.11732675 0.36638553 0.75705251 0.28435829 0.19785522\n",
      "  0.358702   0.54422248 0.34156652 0.23808459 0.45372338 0.47161583\n",
      "  0.26328258 0.66285814 0.32195681 0.69268833 0.59802407 0.48233112\n",
      "  0.57241795 0.59691498 0.55184062 0.24692177 0.53788099 0.40346932\n",
      "  0.22150865 0.40504765 0.66667193 0.68834313 0.52639199 0.18803109\n",
      "  0.11468472 0.52297177 0.32298816 0.28235502 0.29541426 0.42825045\n",
      "  0.62397977 0.42213804 0.1300743  0.53374427 0.72576536 0.60732894\n",
      "  0.49621171 0.78160237 0.35571388 0.39683431 0.48235998 0.79044702\n",
      "  0.6360406  0.38666455 0.23502572 0.29142087 0.51642821 0.29842375\n",
      "  0.66814465 0.         0.25612844 0.41324449 0.71135648 0.35828001\n",
      "  0.6663126  0.4578338  0.28286558 0.28641606 0.36021611 0.39672293\n",
      "  0.23462227 0.13930414 0.86576605 0.43328871 0.319064   0.83989813\n",
      "  0.69006612 0.45118809 0.17147061 0.75937412 0.48487048 0.14477367\n",
      "  0.7315037  0.49614482 0.70680129 0.40458503]\n",
      " [0.68162681 0.35578147 0.4959393  0.55044521 0.51192133 0.28581886\n",
      "  0.73142176 0.84482854 0.75730325 0.57451021 0.32119253 0.1776303\n",
      "  0.56424097 0.38905633 0.32628448 0.86331015 0.42098282 0.71559059\n",
      "  0.57823478 0.13894076 0.47888848 0.90069751 0.24802445 0.3900382\n",
      "  0.27674985 0.58277634 0.25806311 0.13828016 0.46920307 0.51462951\n",
      "  0.04101545 0.81754195 0.45627667 0.82356778 0.77668336 0.72907828\n",
      "  0.73244056 0.85159502 0.80294304 0.37395582 0.47230483 0.20437189\n",
      "  0.44566648 0.17223528 0.76092167 0.84512753 0.76327931 0.4438343\n",
      "  0.33546252 0.32768106 0.5749748  0.47537232 0.54993053 0.55981868\n",
      "  0.7141294  0.32704159 0.23835774 0.39272262 0.74462949 0.62852296\n",
      "  0.73785867 0.63464277 0.0995868  0.6525329  0.62540173 0.93316004\n",
      "  0.60408464 0.64193137 0.46858751 0.54348741 0.38355115 0.37410232\n",
      "  0.84613199 0.25612844 0.         0.15772877 0.64195205 0.61110546\n",
      "  0.70781465 0.71132945 0.30354865 0.54229968 0.49575737 0.16689682\n",
      "  0.10128748 0.38766125 0.98746989 0.67506778 0.39682737 0.95171261\n",
      "  0.75124179 0.53633541 0.42678265 0.8191919  0.59378786 0.20964376\n",
      "  0.61122032 0.32851133 0.86592125 0.48668928]\n",
      " [0.83877794 0.51052499 0.44135592 0.68595173 0.6571522  0.35715161\n",
      "  0.82368011 0.93412885 0.9147474  0.69642949 0.46510404 0.21735365\n",
      "  0.72129509 0.52200549 0.47199294 0.94992844 0.43360715 0.78322844\n",
      "  0.72805634 0.29642252 0.60441424 1.02270284 0.35050162 0.54079967\n",
      "  0.34563534 0.67110287 0.33169181 0.23807307 0.5563531  0.6102359\n",
      "  0.15451872 0.94553207 0.59009985 0.94201209 0.91412803 0.88605888\n",
      "  0.86423059 1.00663904 0.96049371 0.51165979 0.5140216  0.19710268\n",
      "  0.60034911 0.09294473 0.86567772 0.9733864  0.91817957 0.6011975\n",
      "  0.49161632 0.28283386 0.72895208 0.62351596 0.70535133 0.68732503\n",
      "  0.81884549 0.37404788 0.37685406 0.39039866 0.81359713 0.70522717\n",
      "  0.89387281 0.60045796 0.05963633 0.80869323 0.7542467  1.05418478\n",
      "  0.65339514 0.79770851 0.62442722 0.7011964  0.38982425 0.49658917\n",
      "  0.9822568  0.41324449 0.15772877 0.         0.66498821 0.76538582\n",
      "  0.79020394 0.86574024 0.41696765 0.69876562 0.62771149 0.09848871\n",
      "  0.21119044 0.54167284 1.09846735 0.83126876 0.51749206 1.05901419\n",
      "  0.84121299 0.64807489 0.58429361 0.90586874 0.71149869 0.35668441\n",
      "  0.60025303 0.31432481 0.99470275 0.60077811]\n",
      " [0.96809156 0.79565141 0.33130534 0.54529215 0.60739649 0.92106224\n",
      "  0.35964988 0.41765019 0.94679315 0.4637202  0.5510498  0.81824132\n",
      "  0.88741982 0.92908299 0.56273491 0.41802177 0.2313823  0.22811269\n",
      "  0.68434681 0.66436796 0.46183844 0.64935498 0.4337321  0.61567807\n",
      "  0.37313212 0.28520294 0.39273488 0.77440841 0.28887627 0.31589511\n",
      "  0.68232217 0.6330942  0.50678508 0.57076002 0.68084658 0.90513867\n",
      "  0.60734726 1.1523673  0.98827707 0.51868249 0.17577581 0.46916712\n",
      "  0.68304225 0.75156469 0.44621884 0.65403568 0.87601609 0.79970933\n",
      "  0.66350154 0.40261757 0.950946   0.61968523 0.9126081  0.49403329\n",
      "  0.41958356 0.31582945 0.80323863 0.2773674  0.25140068 0.2374098\n",
      "  0.88268979 0.23342803 0.64171    0.97348822 0.52897932 0.66703444\n",
      "  0.11247005 0.97326207 0.71364658 0.82275212 0.27537229 0.44412939\n",
      "  0.71693421 0.71135648 0.64195205 0.66498821 0.         0.97382881\n",
      "  0.2958779  1.04908357 0.42981474 0.88778669 0.50383984 0.75358552\n",
      "  0.73860264 0.82268054 0.64587003 0.84393509 0.43403128 0.5957834\n",
      "  0.35885665 0.3959684  0.78345057 0.3860754  0.44461088 0.56886933\n",
      "  0.14400581 0.35396874 0.67262619 0.40218897]\n",
      " [0.11447571 0.25532432 1.01448472 0.4776155  0.39210573 0.54499299\n",
      "  0.79998699 0.88882148 0.25089841 0.57196843 0.43451494 0.62433592\n",
      "  0.08961633 0.30577892 0.42186664 0.91396386 0.85018075 0.88809894\n",
      "  0.34891509 0.47426172 0.52574627 0.75296438 0.6        0.35898667\n",
      "  0.67767521 0.73214654 0.66454908 0.55422972 0.68604503 0.67286971\n",
      "  0.61142304 0.65665354 0.47496152 0.72289941 0.55873075 0.25613504\n",
      "  0.57869172 0.24171869 0.27728658 0.4559957  0.81775883 0.75656873\n",
      "  0.29136123 0.74154258 0.75909026 0.67267686 0.33650609 0.18581978\n",
      "  0.33067907 0.87071008 0.03678961 0.36446732 0.06554921 0.53379743\n",
      "  0.73104775 0.7366723  0.40310022 0.85868332 0.90274759 0.80080387\n",
      "  0.29382671 1.09503202 0.70998129 0.06415333 0.54855592 0.7825155\n",
      "  0.87576069 0.04817921 0.26203312 0.16027028 0.83880311 0.53103189\n",
      "  0.61329787 0.35828001 0.61110546 0.76538582 0.97382881 0.\n",
      "  0.82689528 0.10035698 0.56645732 0.08646495 0.49092719 0.73219675\n",
      "  0.56616039 0.22372353 0.88315878 0.2566886  0.53983036 0.87685316\n",
      "  0.82264586 0.61152347 0.20442499 0.88256489 0.60287323 0.47470864\n",
      "  1.03015681 0.83529958 0.68288204 0.58498004]\n",
      " [0.78981664 0.71841758 0.58904438 0.35046719 0.43479404 0.94564081\n",
      "  0.06402948 0.14722508 0.73411412 0.25546632 0.4786155  0.87939888\n",
      "  0.73732822 0.87659269 0.48586073 0.16027328 0.41757979 0.07958778\n",
      "  0.48940789 0.66948531 0.31321234 0.35373093 0.45993596 0.5031972\n",
      "  0.44490996 0.12641125 0.46007624 0.81430159 0.23863827 0.19871894\n",
      "  0.74764233 0.34630231 0.36521307 0.27709112 0.41074977 0.69308208\n",
      "  0.33991502 0.95966076 0.76925497 0.42269976 0.30898096 0.60297191\n",
      "  0.54771674 0.85943293 0.15190379 0.36447441 0.64542564 0.68280265\n",
      "  0.57821538 0.59390909 0.81330992 0.4655331  0.77532395 0.29359094\n",
      "  0.13439223 0.42165442 0.78681772 0.47005486 0.07995787 0.0876187\n",
      "  0.6624522  0.52640352 0.74794109 0.80867211 0.29530927 0.37119801\n",
      "  0.19929773 0.81285588 0.57140151 0.66668488 0.45526729 0.36925689\n",
      "  0.43455976 0.6663126  0.70781465 0.79020394 0.2958779  0.82689528\n",
      "  0.         0.88166509 0.41261991 0.74734469 0.33970773 0.85803733\n",
      "  0.78448108 0.73663777 0.35807109 0.63865997 0.34763814 0.30913\n",
      "  0.06484655 0.22271288 0.6710718  0.11680854 0.22531022 0.55162799\n",
      "  0.43485682 0.53107358 0.38165081 0.26367894]\n",
      " [0.09652972 0.35556514 1.10672327 0.53157458 0.45127809 0.63754982\n",
      "  0.84895628 0.92994528 0.21917807 0.62655451 0.52126447 0.72236852\n",
      "  0.1662376  0.39641373 0.50855395 0.95505472 0.93762991 0.94734444\n",
      "  0.39317185 0.57420287 0.59245543 0.76804629 0.69106398 0.44040111\n",
      "  0.76825088 0.7957754  0.75600807 0.65348074 0.76021788 0.74120892\n",
      "  0.71177426 0.67557202 0.54390581 0.74870208 0.57409081 0.24038005\n",
      "  0.60570642 0.14170832 0.22925054 0.53600495 0.89882527 0.85377876\n",
      "  0.36786932 0.84134823 0.79956997 0.68808034 0.3223896  0.28005354\n",
      "  0.42267538 0.96618393 0.13692534 0.43094413 0.16269598 0.58866813\n",
      "  0.7761771  0.82573459 0.50216442 0.94885023 0.95954948 0.8637484\n",
      "  0.28167935 1.1811197  0.81027639 0.07559562 0.59319982 0.7953615\n",
      "  0.94734212 0.07757048 0.33633609 0.22639827 0.92855064 0.61073336\n",
      "  0.62039875 0.4578338  0.71132945 0.86574024 1.04908357 0.10035698\n",
      "  0.88166509 0.         0.65312293 0.17674028 0.55427185 0.83195667\n",
      "  0.66610053 0.32407191 0.89976292 0.26536472 0.61712208 0.89900016\n",
      "  0.87089175 0.67382847 0.29876638 0.92688049 0.6563628  0.56995692\n",
      "  1.11314824 0.9287931  0.69540191 0.65263875]\n",
      " [0.58635078 0.36645851 0.46174695 0.28079029 0.27976793 0.53447633\n",
      "  0.43024146 0.54407265 0.60738208 0.27956394 0.13204911 0.4688285\n",
      "  0.48690581 0.50149624 0.14474441 0.56362372 0.28451354 0.43346827\n",
      "  0.36373255 0.25901362 0.18978944 0.60577074 0.06922593 0.21565228\n",
      "  0.12596897 0.28620937 0.12160394 0.40177203 0.17967636 0.21483949\n",
      "  0.34131148 0.529584   0.18717523 0.52559016 0.50653106 0.56944612\n",
      "  0.45099603 0.77442802 0.6538382  0.13144239 0.25934026 0.27490559\n",
      "  0.2914397  0.46825625 0.45743584 0.5574631  0.57316119 0.38321878\n",
      "  0.23999569 0.34797699 0.53883595 0.26338116 0.50195561 0.27276905\n",
      "  0.41061067 0.17487167 0.38672134 0.2991838  0.46010182 0.34064498\n",
      "  0.5619923  0.5286188  0.36414837 0.57931313 0.33984139 0.63736617\n",
      "  0.35378831 0.57555272 0.32369482 0.43233717 0.27807765 0.08302292\n",
      "  0.57218109 0.28286558 0.30354865 0.41696765 0.42981474 0.56645732\n",
      "  0.41261991 0.65312293 0.         0.48040857 0.2193683  0.46490285\n",
      "  0.37263174 0.39448647 0.6856862  0.50662871 0.10155468 0.64880087\n",
      "  0.45089597 0.23375606 0.36549938 0.51983529 0.29485073 0.14595727\n",
      "  0.46542368 0.2954395  0.57893264 0.18493514]\n",
      " [0.14245563 0.19066825 0.93067771 0.40053927 0.31338003 0.51103623\n",
      "  0.723237   0.81575501 0.25347435 0.49370505 0.34839223 0.57416506\n",
      "  0.03084096 0.28359908 0.3357215  0.84081243 0.76441813 0.80654971\n",
      "  0.28048387 0.4037182  0.4425113  0.69709635 0.51543228 0.27261373\n",
      "  0.59291499 0.64932937 0.58021398 0.49949851 0.60035345 0.58864464\n",
      "  0.54650573 0.59920877 0.39116959 0.66007182 0.50538537 0.24437645\n",
      "  0.5167746  0.31173136 0.29082209 0.36966364 0.73129458 0.67757448\n",
      "  0.20621889 0.68236985 0.68703594 0.6174977  0.31561645 0.10343216\n",
      "  0.24639871 0.78945167 0.06597437 0.28250068 0.02854603 0.45569198\n",
      "  0.65661027 0.65134232 0.35144509 0.77381132 0.8221364  0.7180718\n",
      "  0.27479181 1.009027   0.64182598 0.11052114 0.47587688 0.72792657\n",
      "  0.79043155 0.10138999 0.17802622 0.08776196 0.75375728 0.44467924\n",
      "  0.56508148 0.28641606 0.54229968 0.69876562 0.88778669 0.08646495\n",
      "  0.74734469 0.17674028 0.48040857 0.         0.40920625 0.67336638\n",
      "  0.50705613 0.16321771 0.82514897 0.22362084 0.45375541 0.81520461\n",
      "  0.74616103 0.52959211 0.12211407 0.80783557 0.52493484 0.39324168\n",
      "  0.94375988 0.75228767 0.62963234 0.50119499]\n",
      " [0.46803196 0.3897645  0.64509549 0.06183579 0.10421545 0.6669488\n",
      "  0.32308055 0.42694365 0.44473948 0.0977065  0.18437478 0.6378777\n",
      "  0.40143503 0.55282235 0.18501565 0.45098392 0.45038606 0.39738122\n",
      "  0.18176287 0.40458249 0.04362646 0.40830636 0.28839118 0.17170768\n",
      "  0.33574626 0.24183152 0.33655516 0.56043436 0.22059125 0.18908742\n",
      "  0.52779142 0.32195891 0.04043817 0.33673549 0.28786876 0.40338889\n",
      "  0.23710499 0.64959571 0.48774326 0.12429632 0.37738803 0.49405882\n",
      "  0.20805185 0.66738646 0.30856204 0.34945344 0.38484515 0.34369437\n",
      "  0.25475896 0.55716809 0.47513141 0.12671241 0.43683833 0.06854113\n",
      "  0.26830526 0.36609457 0.48961038 0.48219345 0.41314394 0.31023935\n",
      "  0.38462265 0.67122933 0.57160634 0.47932667 0.13023971 0.44137413\n",
      "  0.39695885 0.48152611 0.23205841 0.33192689 0.46047718 0.13641701\n",
      "  0.3548704  0.36021611 0.49575737 0.62771149 0.50383984 0.49092719\n",
      "  0.33970773 0.55427185 0.2193683  0.40920625 0.         0.66251109\n",
      "  0.53992786 0.40384348 0.50816368 0.34119501 0.12110086 0.48023115\n",
      "  0.34644043 0.12059719 0.33275603 0.41293461 0.12769715 0.29150086\n",
      "  0.59067689 0.49888181 0.37017529 0.10166713]\n",
      " [0.81557685 0.48269895 0.53981254 0.71733855 0.67727142 0.27247297\n",
      "  0.88659833 0.99895509 0.90395643 0.73982895 0.48752971 0.13327738\n",
      "  0.69856065 0.46479529 0.49214648 1.01618605 0.52287409 0.85764639\n",
      "  0.74090507 0.28767438 0.64473249 1.066474   0.40386142 0.55296098\n",
      "  0.41483364 0.73542272 0.39851321 0.18026962 0.6204864  0.67035028\n",
      "  0.13963882 0.98415035 0.62312037 0.98849775 0.94338407 0.87875601\n",
      "  0.89929686 0.97366261 0.94834863 0.54084724 0.59605501 0.28468201\n",
      "  0.60360489 0.00994973 0.92145891 1.01177632 0.91898979 0.58206074\n",
      "  0.4915045  0.38000428 0.69540987 0.63953778 0.67608038 0.72614591\n",
      "  0.87452797 0.45221297 0.33087916 0.48243626 0.88758785 0.77532736\n",
      "  0.89101559 0.69827076 0.11304246 0.78092098 0.79197385 1.09877249\n",
      "  0.73404959 0.76863078 0.62392043 0.68801736 0.479988   0.5388892\n",
      "  1.01292232 0.39672293 0.16689682 0.09848871 0.75358552 0.73219675\n",
      "  0.85803733 0.83195667 0.46490285 0.67336638 0.66251109 0.\n",
      "  0.16641575 0.51127309 1.15055379 0.82797956 0.56124648 1.11353676\n",
      "  0.90540878 0.69865445 0.56671984 0.97197338 0.75811317 0.37581056\n",
      "  0.69545309 0.40749215 1.03262663 0.64957393]\n",
      " [0.64934696 0.31641225 0.59543119 0.58892316 0.53710315 0.18487046\n",
      "  0.80254309 0.91641324 0.74033591 0.62688531 0.35655999 0.09826338\n",
      "  0.53249752 0.31081937 0.35821245 0.93619758 0.52073005 0.79877552\n",
      "  0.59274238 0.13805363 0.53032416 0.94823321 0.32757009 0.40806227\n",
      "  0.36854317 0.65822165 0.34920924 0.03699902 0.54758906 0.58743224\n",
      "  0.06847526 0.860073   0.49951296 0.87511399 0.80865407 0.71655385\n",
      "  0.77193772 0.80777349 0.78417901 0.41563203 0.56663425 0.30494718\n",
      "  0.44988904 0.1755785  0.82381518 0.88706225 0.76064395 0.41701412\n",
      "  0.33768806 0.42693834 0.5293877  0.49610775 0.50967853 0.60711885\n",
      "  0.7776602  0.42280313 0.16754109 0.49372952 0.8269822  0.70889198\n",
      "  0.73082825 0.73585658 0.16779542 0.61450708 0.6699183  0.98129402\n",
      "  0.69480708 0.602247   0.46723928 0.52433258 0.4841153  0.43226206\n",
      "  0.87898265 0.23462227 0.10128748 0.21119044 0.73860264 0.56616039\n",
      "  0.78448108 0.66610053 0.37263174 0.50705613 0.53992786 0.16641575\n",
      "  0.         0.3448577  1.04355728 0.66788994 0.45562046 1.01086368\n",
      "  0.8234186  0.59801724 0.40220381 0.8924529  0.64945219 0.24928549\n",
      "  0.7120609  0.42975524 0.9070782  0.54784663]\n",
      " [0.30561932 0.0330874  0.81401364 0.41982558 0.33559825 0.35658789\n",
      "  0.72624399 0.83063163 0.40884281 0.50028959 0.27350737 0.41113892\n",
      "  0.1905255  0.15872548 0.26277136 0.85477676 0.66613394 0.78334002\n",
      "  0.34454548 0.25204363 0.42391883 0.76356746 0.41052712 0.23381911\n",
      "  0.48747635 0.62264031 0.47167055 0.33633    0.54828924 0.5533627\n",
      "  0.38783109 0.66552069 0.37271525 0.71094726 0.58477864 0.39223788\n",
      "  0.57624642 0.46507635 0.4495431  0.31846455 0.65382608 0.54273221\n",
      "  0.20852771 0.52041254 0.70927134 0.68814838 0.45188266 0.09286401\n",
      "  0.16222169 0.66161451 0.18738908 0.29222056 0.16490234 0.46567859\n",
      "  0.67125314 0.54998707 0.18868909 0.66615595 0.80390468 0.6896989\n",
      "  0.41525365 0.9114316  0.48633509 0.26965244 0.50616911 0.79633323\n",
      "  0.73761498 0.25754464 0.20164969 0.2005079  0.64788472 0.38629054\n",
      "  0.65175585 0.13930414 0.38766125 0.54167284 0.82268054 0.22372353\n",
      "  0.73663777 0.32407191 0.39448647 0.16321771 0.40384348 0.51127309\n",
      "  0.3448577  0.         0.88334349 0.35566209 0.40249653 0.86464514\n",
      "  0.74959941 0.51421259 0.08879134 0.81668383 0.53110968 0.27368602\n",
      "  0.85615178 0.63272328 0.70395909 0.47417822]\n",
      " [0.80387298 0.87755615 0.94677057 0.47100304 0.54900542 1.17490292\n",
      "  0.30058987 0.23053069 0.69620342 0.41681857 0.69184464 1.14182015\n",
      "  0.8033301  1.0408953  0.69310749 0.23661937 0.76957243 0.41778444\n",
      "  0.54806238 0.91090271 0.51329502 0.13180149 0.74892942 0.66967656\n",
      "  0.75944748 0.44338442 0.77028754 1.06633998 0.55071641 0.49201783\n",
      "  1.02333817 0.22653294 0.54816093 0.17345549 0.32596525 0.6643665\n",
      "  0.30972147 0.92648448 0.71243971 0.63068558 0.66092498 0.92726142\n",
      "  0.67498317 1.15394009 0.23546421 0.21172106 0.58826566 0.80270861\n",
      "  0.75497604 0.93899953 0.88457984 0.59365495 0.85286739 0.4396469\n",
      "  0.28130872 0.75279467 0.99579876 0.82067095 0.39550512 0.43988946\n",
      "  0.62376102 0.87917564 1.0484299  0.84112431 0.38355052 0.10749732\n",
      "  0.55697698 0.85139749 0.68354278 0.7376111  0.80399472 0.61385198\n",
      "  0.2841723  0.86576605 0.98746989 1.09846735 0.64587003 0.88315878\n",
      "  0.35807109 0.89976292 0.6856862  0.82514897 0.50816368 1.15055379\n",
      "  1.04355728 0.88334349 0.         0.63499186 0.59086549 0.05020388\n",
      "  0.29332627 0.45194259 0.79868357 0.26084389 0.39447228 0.79441255\n",
      "  0.78856279 0.87500148 0.20527324 0.50103338]\n",
      " [0.16904527 0.37116052 0.96595917 0.30023956 0.24081684 0.71167284\n",
      "  0.59890142 0.67153269 0.10380865 0.39052163 0.3908639  0.75004789\n",
      "  0.19430376 0.50028378 0.37992467 0.69645421 0.77811035 0.71010615\n",
      "  0.1596461  0.54097331 0.38434032 0.50345688 0.56339678 0.30258661\n",
      "  0.63236169 0.57010811 0.62579974 0.66988137 0.56149081 0.5280655\n",
      "  0.69072213 0.41025331 0.34642292 0.48380517 0.30906284 0.06336104\n",
      "  0.3416896  0.32117441 0.1485369  0.3753025  0.71578027 0.75939242\n",
      "  0.23298355 0.83586452 0.54173377 0.42327814 0.09622748 0.26418317\n",
      "  0.33969875 0.85163154 0.26769195 0.24423309 0.24574231 0.35513348\n",
      "  0.52294262 0.67874834 0.53573881 0.80192462 0.71829006 0.63480964\n",
      "  0.06303625 1.00889633 0.77171929 0.207404   0.34367014 0.53148241\n",
      "  0.73510688 0.21901351 0.20693425 0.15542678 0.78028197 0.4401939\n",
      "  0.35868386 0.43328871 0.67506778 0.83126876 0.84393509 0.2566886\n",
      "  0.63865997 0.26536472 0.50662871 0.22362084 0.34119501 0.82797956\n",
      "  0.66788994 0.35566209 0.63499186 0.         0.43763405 0.63363546\n",
      "  0.61970992 0.45027633 0.27396643 0.67114055 0.4172117  0.48192926\n",
      "  0.93063476 0.80178498 0.43142892 0.44255884]\n",
      " [0.5403573  0.37999484 0.53162346 0.18292241 0.19907114 0.60361222\n",
      "  0.35339121 0.46640769 0.54095044 0.17922974 0.13266129 0.55356646\n",
      "  0.45390019 0.53251294 0.14146745 0.4878403  0.34073494 0.38429375\n",
      "  0.28439649 0.32915339 0.08833771 0.5060952  0.1705741  0.18201759\n",
      "  0.21468509 0.22529385 0.21558946 0.48120713 0.14803875 0.15316483\n",
      "  0.43247663 0.42829811 0.09555107 0.42726518 0.40600743 0.50098467\n",
      "  0.34948831 0.72752117 0.58616873 0.08583856 0.28338065 0.37419524\n",
      "  0.24960406 0.5651643  0.36821328 0.4561734  0.49393901 0.36764018\n",
      "  0.24030676 0.43658841 0.51708706 0.19581025 0.47867869 0.17122633\n",
      "  0.322194   0.24789722 0.43955851 0.36759059 0.40718471 0.28973415\n",
      "  0.48804888 0.57329603 0.46360715 0.54165766 0.23828982 0.53805715\n",
      "  0.33907304 0.54057597 0.28080775 0.39089677 0.3458066  0.02337332\n",
      "  0.47102387 0.319064   0.39682737 0.51749206 0.43403128 0.53983036\n",
      "  0.34763814 0.61712208 0.10155468 0.45375541 0.12110086 0.56124648\n",
      "  0.45562046 0.40249653 0.59086549 0.43763405 0.         0.55620336\n",
      "  0.37558195 0.14250743 0.35222643 0.44528656 0.19698705 0.209912\n",
      "  0.49910476 0.37918785 0.47759599 0.09239373]\n",
      " [0.80262248 0.85713648 0.89812521 0.44769647 0.52910839 1.14688007\n",
      "  0.2529687  0.18040107 0.70098809 0.38609848 0.66230987 1.10905364\n",
      "  0.79475422 1.02106829 0.6643328  0.18715534 0.72250648 0.3677301\n",
      "  0.53567146 0.87986376 0.48181271 0.14057194 0.71063003 0.64567454\n",
      "  0.71794482 0.39861316 0.72940686 1.03471242 0.50795405 0.45027547\n",
      "  0.98827446 0.22369993 0.51961667 0.15538948 0.32597088 0.66725569\n",
      "  0.29860651 0.93330455 0.72028283 0.6008563  0.61372514 0.8850065\n",
      "  0.6561634  1.11664293 0.19347003 0.21465405 0.59395077 0.7867422\n",
      "  0.73089481 0.89343532 0.87619853 0.57308047 0.84327747 0.41183234\n",
      "  0.24019274 0.7090215  0.96963357 0.77393515 0.34531337 0.39200593\n",
      "  0.62737858 0.82912416 1.00997444 0.83770614 0.36005274 0.12664233\n",
      "  0.50766964 0.84723631 0.66688399 0.72744547 0.75759704 0.57940891\n",
      "  0.29392614 0.83989813 0.95171261 1.05901419 0.5957834  0.87685316\n",
      "  0.30913    0.89900016 0.64880087 0.81520461 0.48023115 1.11353676\n",
      "  1.01086368 0.86464514 0.05020388 0.63363546 0.55620336 0.\n",
      "  0.2445749  0.41537756 0.78163081 0.21064043 0.36165649 0.76230738\n",
      "  0.73858976 0.8295549  0.21325384 0.46511272]\n",
      " [0.77703148 0.7338238  0.65356077 0.34563502 0.43304687 0.97872679\n",
      "  0.02336436 0.0936314  0.71106002 0.25343352 0.50228107 0.91969771\n",
      "  0.73363477 0.89493664 0.50819118 0.11284013 0.47987951 0.13470593\n",
      "  0.47789632 0.70320465 0.32710401 0.29292666 0.50349049 0.51603213\n",
      "  0.4956506  0.17024653 0.50969146 0.85177613 0.2852803  0.23671339\n",
      "  0.79035182 0.29520648 0.37715385 0.2202031  0.36929348 0.67084936\n",
      "  0.30205111 0.9405248  0.7435574  0.44347078 0.3710502  0.65747284\n",
      "  0.55277692 0.90729403 0.09732516 0.31079893 0.61725627 0.68919288\n",
      "  0.59523149 0.65430388 0.81180647 0.46821149 0.77452066 0.29096524\n",
      "  0.09741568 0.47723123 0.81413539 0.53196879 0.12259702 0.14857257\n",
      "  0.63782555 0.59039326 0.79681566 0.79961168 0.2778858  0.30865137\n",
      "  0.26412572 0.80501016 0.57377245 0.66266489 0.51653549 0.39832199\n",
      "  0.38529118 0.69006612 0.75124179 0.84121299 0.35885665 0.82264586\n",
      "  0.06484655 0.87089175 0.45089597 0.74616103 0.34644043 0.90540878\n",
      "  0.8234186  0.74959941 0.29332627 0.61970992 0.37558195 0.2445749\n",
      "  0.         0.23904818 0.67889534 0.06970577 0.22198533 0.58419301\n",
      "  0.49897979 0.59099589 0.326526   0.2858462 ]\n",
      " [0.58609431 0.49674712 0.58203015 0.1501197  0.22257454 0.74452335\n",
      "  0.21606582 0.32704414 0.552179   0.07305481 0.26371066 0.69586399\n",
      "  0.52203039 0.65661792 0.26926781 0.34945507 0.38535947 0.27698349\n",
      "  0.29170919 0.47118412 0.09049947 0.37753717 0.29768213 0.28056924\n",
      "  0.31783412 0.12205184 0.3256026  0.62370673 0.13644755 0.08368324\n",
      "  0.5730425  0.3118809  0.1425855  0.29482779 0.31715358 0.5104377\n",
      "  0.24850945 0.76501219 0.59284831 0.20443742 0.29433016 0.48650416\n",
      "  0.32674985 0.70200012 0.22582226 0.33920669 0.48030611 0.46077184\n",
      "  0.35716481 0.52313215 0.59547136 0.24720304 0.55709969 0.09829747\n",
      "  0.17968942 0.32718018 0.57624074 0.42641418 0.29363041 0.18996723\n",
      "  0.48688278 0.58306828 0.59692899 0.59916162 0.14520919 0.40794199\n",
      "  0.285472   0.60170736 0.35203893 0.45243231 0.40575442 0.16587968\n",
      "  0.37227626 0.45118809 0.53633541 0.64807489 0.3959684  0.61152347\n",
      "  0.22271288 0.67382847 0.23375606 0.52959211 0.12059719 0.69865445\n",
      "  0.59801724 0.51421259 0.45194259 0.45027633 0.14250743 0.41537756\n",
      "  0.23904818 0.         0.44866296 0.30820531 0.06962794 0.35206792\n",
      "  0.49729754 0.46032641 0.3609166  0.05017107]\n",
      " [0.25548321 0.09769546 0.81005974 0.34104792 0.25438794 0.43883257\n",
      "  0.65555895 0.75653741 0.33837068 0.42650522 0.23487455 0.47887072\n",
      "  0.13907868 0.2468014  0.22253458 0.78106959 0.64759911 0.72314428\n",
      "  0.25645755 0.28788424 0.35839228 0.6772757  0.39587233 0.17186105\n",
      "  0.47364907 0.56293228 0.46026153 0.40010124 0.50026079 0.49696108\n",
      "  0.43470778 0.5789665  0.30611769 0.62712435 0.496602   0.31661302\n",
      "  0.49031503 0.43305145 0.38197588 0.26639632 0.62121851 0.55556852\n",
      "  0.12760927 0.57528095 0.63237474 0.60110325 0.36985229 0.01872286\n",
      "  0.12677541 0.66744643 0.17417328 0.21319252 0.1388964  0.39035027\n",
      "  0.59640041 0.53328368 0.26186033 0.6546745  0.74171664 0.6312207\n",
      "  0.33542592 0.89302987 0.52628988 0.23132913 0.42558547 0.70984822\n",
      "  0.69128552 0.22328768 0.11516494 0.12282096 0.63497019 0.33972604\n",
      "  0.56324006 0.17147061 0.42678265 0.58429361 0.78345057 0.20442499\n",
      "  0.6710718  0.29876638 0.36549938 0.12211407 0.33275603 0.56671984\n",
      "  0.40220381 0.08879134 0.79868357 0.27396643 0.35222643 0.78163081\n",
      "  0.67889534 0.44866296 0.         0.74447523 0.4578109  0.27120256\n",
      "  0.83080628 0.63100138 0.61653099 0.41306245]\n",
      " [0.83201724 0.80157555 0.69675471 0.40781943 0.49582544 1.04839737\n",
      "  0.09220673 0.03221299 0.75875256 0.31801472 0.5716999  0.98849911\n",
      "  0.79409159 0.96322663 0.57746235 0.04421394 0.53179998 0.15893673\n",
      "  0.5353034  0.77281303 0.39545539 0.29151227 0.57122899 0.5835083\n",
      "  0.56028872 0.23671775 0.57496143 0.9210467  0.35149467 0.30522431\n",
      "  0.85852624 0.31632463 0.4448655  0.23335363 0.40229086 0.71943467\n",
      "  0.34103679 0.99044408 0.78882826 0.51262748 0.42378425 0.71959986\n",
      "  0.61770896 0.9736393  0.1304713  0.32660609 0.661092   0.7542351\n",
      "  0.66352816 0.7096451  0.87316028 0.53260223 0.83630478 0.3547655\n",
      "  0.15151911 0.53839246 0.88372555 0.58463164 0.13488545 0.20425781\n",
      "  0.68463844 0.61949751 0.86263657 0.85686591 0.33451172 0.2999868\n",
      "  0.30432445 0.86296852 0.63757964 0.72319075 0.57050345 0.468026\n",
      "  0.40685967 0.75937412 0.8191919  0.90586874 0.3860754  0.88256489\n",
      "  0.11680854 0.92688049 0.51983529 0.80783557 0.41293461 0.97197338\n",
      "  0.8924529  0.81668383 0.26084389 0.67114055 0.44528656 0.21064043\n",
      "  0.06970577 0.30820531 0.74447523 0.         0.28666836 0.65383977\n",
      "  0.52952931 0.64712885 0.338862   0.35540085]\n",
      " [0.5647954  0.51744469 0.64924194 0.12541754 0.21155647 0.78721191\n",
      "  0.19881512 0.29952748 0.51583201 0.03145202 0.30219781 0.74769086\n",
      "  0.5134818  0.68049509 0.30528535 0.32375397 0.45303481 0.29330244\n",
      "  0.26457905 0.51829284 0.12054346 0.31147246 0.36122025 0.29939945\n",
      "  0.38606075 0.15986383 0.39302623 0.67305688 0.2039282  0.14660956\n",
      "  0.62914104 0.24251241 0.16328517 0.23075918 0.25029708 0.47426347\n",
      "  0.1800656  0.73706241 0.55379652 0.2407208  0.35867014 0.55430115\n",
      "  0.33112189 0.76191515 0.18184681 0.26995803 0.43521114 0.46763484\n",
      "  0.38198345 0.59275828 0.59074485 0.24628097 0.55319349 0.06924292\n",
      "  0.14062326 0.39678792 0.61318003 0.49513465 0.30349322 0.21957211\n",
      "  0.44675888 0.64289084 0.65899059 0.58340211 0.08447079 0.34270741\n",
      "  0.33226217 0.58773725 0.35178748 0.44261286 0.4746448  0.21971417\n",
      "  0.30329477 0.48487048 0.59378786 0.71149869 0.44461088 0.60287323\n",
      "  0.22531022 0.6563628  0.29485073 0.52493484 0.12769715 0.75811317\n",
      "  0.64945219 0.53110968 0.39447228 0.4172117  0.19698705 0.36165649\n",
      "  0.22198533 0.06962794 0.4578109  0.28666836 0.         0.40067181\n",
      "  0.55517311 0.52994372 0.29168007 0.11118271]\n",
      " [0.51968567 0.24214009 0.54207213 0.34314782 0.30245336 0.39461591\n",
      "  0.56237158 0.67580078 0.57259248 0.37765052 0.1117284  0.3475252\n",
      "  0.40763434 0.36037846 0.11667998 0.69682714 0.39411207 0.57769798\n",
      "  0.37137436 0.11925523 0.28112007 0.69960169 0.13960098 0.18451283\n",
      "  0.21476215 0.42588754 0.19831152 0.27245637 0.32448096 0.35299293\n",
      "  0.23807617 0.61294511 0.25123111 0.62586266 0.56778173 0.54014043\n",
      "  0.52607532 0.70264548 0.61934632 0.16747129 0.39437126 0.28644009\n",
      "  0.24894585 0.38160713 0.57711982 0.64022532 0.56480854 0.28992237\n",
      "  0.15115271 0.39624704 0.44241132 0.26708185 0.40925809 0.35812742\n",
      "  0.53152364 0.27795272 0.2407672  0.39247545 0.60357161 0.48398592\n",
      "  0.54342655 0.6385826  0.29742058 0.5012552  0.42172782 0.73255681\n",
      "  0.49867751 0.49407565 0.27639124 0.36908778 0.37432331 0.18667363\n",
      "  0.63752412 0.14477367 0.20964376 0.35668441 0.56886933 0.47470864\n",
      "  0.55162799 0.56995692 0.14595727 0.39324168 0.29150086 0.37581056\n",
      "  0.24928549 0.27368602 0.79441255 0.48192926 0.209912   0.76230738\n",
      "  0.58419301 0.35206792 0.27120256 0.65383977 0.40067181 0.\n",
      "  0.5868676  0.36151433 0.66061824 0.30214807]\n",
      " [1.0391629  0.82627791 0.20462956 0.64030538 0.68996377 0.89691535\n",
      "  0.49772615 0.5612535  1.03443469 0.56925952 0.59629487 0.77978231\n",
      "  0.94781891 0.94236281 0.60882648 0.56198996 0.19599012 0.37096349\n",
      "  0.77206137 0.6633266  0.54711135 0.78605059 0.44733447 0.6728505\n",
      "  0.37348047 0.4020362  0.3915556  0.7489847  0.37037509 0.41366342\n",
      "  0.64906917 0.76231578 0.58487058 0.70528005 0.80075358 0.99340345\n",
      "  0.72758048 1.22658453 1.0781177  0.57731022 0.21582965 0.4160272\n",
      "  0.7456968  0.69170158 0.5823051  0.78479108 0.97354646 0.84838044\n",
      "  0.70536288 0.31954307 1.00360875 0.69403373 0.96630564 0.59461991\n",
      "  0.55175051 0.30994488 0.80446625 0.21867473 0.39512506 0.36699623\n",
      "  0.97525645 0.091732   0.58900968 1.0381552  0.63900304 0.80536922\n",
      "  0.23877218 1.03588147 0.77765371 0.88810982 0.228228   0.50303025\n",
      "  0.84264715 0.7315037  0.61122032 0.60025303 0.14400581 1.03015681\n",
      "  0.43485682 1.11314824 0.46542368 0.94375988 0.59067689 0.69545309\n",
      "  0.7120609  0.85615178 0.78856279 0.93063476 0.49910476 0.73858976\n",
      "  0.49897979 0.49729754 0.83080628 0.52952931 0.55517311 0.5868676\n",
      "  0.         0.2890994  0.80423816 0.4913315 ]\n",
      " [0.87116066 0.6002383  0.18141774 0.56002104 0.57337125 0.61357618\n",
      "  0.57837691 0.67818416 0.90182472 0.52778944 0.4166046  0.49188383\n",
      "  0.76408315 0.68911579 0.42880574 0.68924903 0.12532624 0.50438253\n",
      "  0.65816939 0.40511385 0.46019093 0.82794803 0.24112232 0.50523307\n",
      "  0.16948998 0.43174259 0.17671787 0.4667162  0.33170858 0.39287243\n",
      "  0.36423929 0.77137083 0.47421476 0.74276152 0.77243858 0.86440205\n",
      "  0.70729676 1.05761838 0.94846245 0.42686563 0.22520953 0.12745449\n",
      "  0.58080401 0.40423482 0.64090277 0.79831156 0.86806692 0.64968418\n",
      "  0.50614835 0.06413135 0.80360895 0.55881898 0.76975388 0.53570539\n",
      "  0.5972569  0.13430019 0.54245948 0.07673701 0.53494922 0.44355279\n",
      "  0.85743161 0.30615069 0.29993044 0.85793501 0.59847181 0.8554486\n",
      "  0.36119482 0.8519818  0.61244667 0.71718829 0.08109288 0.36922129\n",
      "  0.83148424 0.49614482 0.32851133 0.31432481 0.35396874 0.83529958\n",
      "  0.53107358 0.9287931  0.2954395  0.75228767 0.49888181 0.40749215\n",
      "  0.42975524 0.63272328 0.87500148 0.80178498 0.37918785 0.8295549\n",
      "  0.59099589 0.46032641 0.63100138 0.64712885 0.52994372 0.36151433\n",
      "  0.2890994  0.         0.81992715 0.42661004]\n",
      " [0.59986568 0.70249839 0.9273588  0.31815533 0.38031281 1.01906061\n",
      "  0.3184141  0.32185286 0.49098743 0.30049026 0.55068229 1.00428683\n",
      "  0.60605891 0.86268261 0.54890579 0.34162387 0.73468837 0.45943801\n",
      "  0.36045149 0.76990203 0.39029008 0.07392546 0.64737134 0.5092721\n",
      "  0.67740016 0.40898131 0.68367341 0.92512155 0.48944928 0.42871379\n",
      "  0.89779522 0.04945712 0.40989581 0.10680034 0.12440896 0.45915199\n",
      "  0.13531669 0.72185111 0.50814335 0.49322811 0.63256635 0.84508215\n",
      "  0.49927962 1.03741191 0.23029846 0.02172367 0.38314779 0.61812763\n",
      "  0.59252672 0.88322875 0.68664875 0.42519154 0.65668306 0.30748495\n",
      "  0.2531284  0.68769065 0.83581388 0.7802379  0.44909362 0.43743063\n",
      "  0.41849697 0.89561773 0.93983465 0.6384172  0.24088011 0.10005388\n",
      "  0.56592185 0.64924284 0.5023174  0.54308144 0.76056719 0.49813205\n",
      "  0.08067552 0.70680129 0.86592125 0.99470275 0.67262619 0.68288204\n",
      "  0.38165081 0.69540191 0.57893264 0.62963234 0.37017529 1.03262663\n",
      "  0.9070782  0.70395909 0.20527324 0.43142892 0.47759599 0.21325384\n",
      "  0.326526   0.3609166  0.61653099 0.338862   0.29168007 0.66061824\n",
      "  0.80423816 0.81992715 0.         0.40120898]\n",
      " [0.56815333 0.45505793 0.55891698 0.14939082 0.2053817  0.69515749\n",
      "  0.26321769 0.37538902 0.54593301 0.10198646 0.21661649 0.64569557\n",
      "  0.49611984 0.61296252 0.22302546 0.39733322 0.36217387 0.31021961\n",
      "  0.28295134 0.42133318 0.06029492 0.42260777 0.25031801 0.24221411\n",
      "  0.27637584 0.14987786 0.28249489 0.57359774 0.12114764 0.08857756\n",
      "  0.52317338 0.35180353 0.11004893 0.34123909 0.34588234 0.50446541\n",
      "  0.2813618  0.75079899 0.5884973  0.1591445  0.28053438 0.44389592\n",
      "  0.29563976 0.65306823 0.2759898  0.37950759 0.48227782 0.42630335\n",
      "  0.31467189 0.48822548 0.5666208  0.22187379 0.52802619 0.11103883\n",
      "  0.22984279 0.29237925 0.52832892 0.39924498 0.32982896 0.21832328\n",
      "  0.48444817 0.57372022 0.54885183 0.57731177 0.17186322 0.45368322\n",
      "  0.29589819 0.57864995 0.32322894 0.42808772 0.37797666 0.11575795\n",
      "  0.40548154 0.40458503 0.48668928 0.60077811 0.40218897 0.58498004\n",
      "  0.26367894 0.65263875 0.18493514 0.50119499 0.10166713 0.64957393\n",
      "  0.54784663 0.47417822 0.50103338 0.44255884 0.09239373 0.46511272\n",
      "  0.2858462  0.05017107 0.41306245 0.35540085 0.11118271 0.30214807\n",
      "  0.4913315  0.42661004 0.40120898 0.        ]]\n"
     ]
    }
   ],
   "source": [
    "import numpy as np\n",
    "\n",
    "# Generate a random vector of shape (100, 2)\n",
    "coordinates = np.random.rand(100, 2)\n",
    "\n",
    "# Compute pairwise Euclidean distances using broadcasting\n",
    "x_diff = coordinates[:, np.newaxis, 0] - coordinates[:, 0]\n",
    "y_diff = coordinates[:, np.newaxis, 1] - coordinates[:, 1]\n",
    "distances = np.sqrt(x_diff**2 + y_diff**2)\n",
    "\n",
    "print(\"Pairwise distances:\")\n",
    "print(distances)\n"
   ]
  },
  {
   "cell_type": "markdown",
   "id": "343c5a85",
   "metadata": {},
   "source": [
    "#### 53. How to convert a float (32 bits) array into an integer (32 bits) in place?"
   ]
  },
  {
   "cell_type": "code",
   "execution_count": 70,
   "id": "fc1b687b",
   "metadata": {},
   "outputs": [
    {
     "name": "stdout",
     "output_type": "stream",
     "text": [
      "Converted Array: [1. 2. 3. 4. 5.]\n"
     ]
    }
   ],
   "source": [
    "import numpy as np\n",
    "\n",
    "# Create a 32-bit float array\n",
    "float_array = np.array([1.5, 2.3, 3.7, 4.9, 5.0], dtype=np.float32)\n",
    "\n",
    "# Convert to 32-bit integer in place\n",
    "float_array[:] = float_array.astype(np.int32)\n",
    "\n",
    "print(\"Converted Array:\", float_array)\n"
   ]
  },
  {
   "cell_type": "markdown",
   "id": "a69e1ace",
   "metadata": {},
   "source": [
    "#### 54. How to read the following file? (★★☆)\n",
    "```\n",
    "1, 2, 3, 4, 5\n",
    "6,  ,  , 7, 8\n",
    " ,  , 9,10,11\n",
    "```"
   ]
  },
  {
   "cell_type": "code",
   "execution_count": 72,
   "id": "1c7957d4",
   "metadata": {},
   "outputs": [
    {
     "ename": "FileNotFoundError",
     "evalue": "data.txt not found.",
     "output_type": "error",
     "traceback": [
      "\u001b[1;31m---------------------------------------------------------------------------\u001b[0m",
      "\u001b[1;31mFileNotFoundError\u001b[0m                         Traceback (most recent call last)",
      "Cell \u001b[1;32mIn[72], line 4\u001b[0m\n\u001b[0;32m      1\u001b[0m \u001b[38;5;28;01mimport\u001b[39;00m \u001b[38;5;21;01mnumpy\u001b[39;00m \u001b[38;5;28;01mas\u001b[39;00m \u001b[38;5;21;01mnp\u001b[39;00m\n\u001b[0;32m      3\u001b[0m \u001b[38;5;66;03m# Read the file with np.genfromtxt, treating missing values as NaN\u001b[39;00m\n\u001b[1;32m----> 4\u001b[0m data \u001b[38;5;241m=\u001b[39m \u001b[43mnp\u001b[49m\u001b[38;5;241;43m.\u001b[39;49m\u001b[43mgenfromtxt\u001b[49m\u001b[43m(\u001b[49m\u001b[38;5;124;43m'\u001b[39;49m\u001b[38;5;124;43mdata.txt\u001b[39;49m\u001b[38;5;124;43m'\u001b[39;49m\u001b[43m,\u001b[49m\u001b[43m \u001b[49m\u001b[43mdelimiter\u001b[49m\u001b[38;5;241;43m=\u001b[39;49m\u001b[38;5;124;43m'\u001b[39;49m\u001b[38;5;124;43m,\u001b[39;49m\u001b[38;5;124;43m'\u001b[39;49m\u001b[43m,\u001b[49m\u001b[43m \u001b[49m\u001b[43mfilling_values\u001b[49m\u001b[38;5;241;43m=\u001b[39;49m\u001b[43mnp\u001b[49m\u001b[38;5;241;43m.\u001b[39;49m\u001b[43mnan\u001b[49m\u001b[43m)\u001b[49m\n\u001b[0;32m      6\u001b[0m \u001b[38;5;28mprint\u001b[39m(\u001b[38;5;124m\"\u001b[39m\u001b[38;5;124mData read from the file:\u001b[39m\u001b[38;5;124m\"\u001b[39m)\n\u001b[0;32m      7\u001b[0m \u001b[38;5;28mprint\u001b[39m(data)\n",
      "File \u001b[1;32md:\\ProgramData\\anaconda3\\Lib\\site-packages\\numpy\\lib\\npyio.py:1980\u001b[0m, in \u001b[0;36mgenfromtxt\u001b[1;34m(fname, dtype, comments, delimiter, skip_header, skip_footer, converters, missing_values, filling_values, usecols, names, excludelist, deletechars, replace_space, autostrip, case_sensitive, defaultfmt, unpack, usemask, loose, invalid_raise, max_rows, encoding, ndmin, like)\u001b[0m\n\u001b[0;32m   1978\u001b[0m     fname \u001b[38;5;241m=\u001b[39m os_fspath(fname)\n\u001b[0;32m   1979\u001b[0m \u001b[38;5;28;01mif\u001b[39;00m \u001b[38;5;28misinstance\u001b[39m(fname, \u001b[38;5;28mstr\u001b[39m):\n\u001b[1;32m-> 1980\u001b[0m     fid \u001b[38;5;241m=\u001b[39m \u001b[43mnp\u001b[49m\u001b[38;5;241;43m.\u001b[39;49m\u001b[43mlib\u001b[49m\u001b[38;5;241;43m.\u001b[39;49m\u001b[43m_datasource\u001b[49m\u001b[38;5;241;43m.\u001b[39;49m\u001b[43mopen\u001b[49m\u001b[43m(\u001b[49m\u001b[43mfname\u001b[49m\u001b[43m,\u001b[49m\u001b[43m \u001b[49m\u001b[38;5;124;43m'\u001b[39;49m\u001b[38;5;124;43mrt\u001b[39;49m\u001b[38;5;124;43m'\u001b[39;49m\u001b[43m,\u001b[49m\u001b[43m \u001b[49m\u001b[43mencoding\u001b[49m\u001b[38;5;241;43m=\u001b[39;49m\u001b[43mencoding\u001b[49m\u001b[43m)\u001b[49m\n\u001b[0;32m   1981\u001b[0m     fid_ctx \u001b[38;5;241m=\u001b[39m contextlib\u001b[38;5;241m.\u001b[39mclosing(fid)\n\u001b[0;32m   1982\u001b[0m \u001b[38;5;28;01melse\u001b[39;00m:\n",
      "File \u001b[1;32md:\\ProgramData\\anaconda3\\Lib\\site-packages\\numpy\\lib\\_datasource.py:193\u001b[0m, in \u001b[0;36mopen\u001b[1;34m(path, mode, destpath, encoding, newline)\u001b[0m\n\u001b[0;32m    156\u001b[0m \u001b[38;5;250m\u001b[39m\u001b[38;5;124;03m\"\"\"\u001b[39;00m\n\u001b[0;32m    157\u001b[0m \u001b[38;5;124;03mOpen `path` with `mode` and return the file object.\u001b[39;00m\n\u001b[0;32m    158\u001b[0m \n\u001b[1;32m   (...)\u001b[0m\n\u001b[0;32m    189\u001b[0m \n\u001b[0;32m    190\u001b[0m \u001b[38;5;124;03m\"\"\"\u001b[39;00m\n\u001b[0;32m    192\u001b[0m ds \u001b[38;5;241m=\u001b[39m DataSource(destpath)\n\u001b[1;32m--> 193\u001b[0m \u001b[38;5;28;01mreturn\u001b[39;00m \u001b[43mds\u001b[49m\u001b[38;5;241;43m.\u001b[39;49m\u001b[43mopen\u001b[49m\u001b[43m(\u001b[49m\u001b[43mpath\u001b[49m\u001b[43m,\u001b[49m\u001b[43m \u001b[49m\u001b[43mmode\u001b[49m\u001b[43m,\u001b[49m\u001b[43m \u001b[49m\u001b[43mencoding\u001b[49m\u001b[38;5;241;43m=\u001b[39;49m\u001b[43mencoding\u001b[49m\u001b[43m,\u001b[49m\u001b[43m \u001b[49m\u001b[43mnewline\u001b[49m\u001b[38;5;241;43m=\u001b[39;49m\u001b[43mnewline\u001b[49m\u001b[43m)\u001b[49m\n",
      "File \u001b[1;32md:\\ProgramData\\anaconda3\\Lib\\site-packages\\numpy\\lib\\_datasource.py:533\u001b[0m, in \u001b[0;36mDataSource.open\u001b[1;34m(self, path, mode, encoding, newline)\u001b[0m\n\u001b[0;32m    530\u001b[0m     \u001b[38;5;28;01mreturn\u001b[39;00m _file_openers[ext](found, mode\u001b[38;5;241m=\u001b[39mmode,\n\u001b[0;32m    531\u001b[0m                               encoding\u001b[38;5;241m=\u001b[39mencoding, newline\u001b[38;5;241m=\u001b[39mnewline)\n\u001b[0;32m    532\u001b[0m \u001b[38;5;28;01melse\u001b[39;00m:\n\u001b[1;32m--> 533\u001b[0m     \u001b[38;5;28;01mraise\u001b[39;00m \u001b[38;5;167;01mFileNotFoundError\u001b[39;00m(\u001b[38;5;124mf\u001b[39m\u001b[38;5;124m\"\u001b[39m\u001b[38;5;132;01m{\u001b[39;00mpath\u001b[38;5;132;01m}\u001b[39;00m\u001b[38;5;124m not found.\u001b[39m\u001b[38;5;124m\"\u001b[39m)\n",
      "\u001b[1;31mFileNotFoundError\u001b[0m: data.txt not found."
     ]
    }
   ],
   "source": [
    "import numpy as np\n",
    "\n",
    "# Read the file with np.genfromtxt, treating missing values as NaN\n",
    "data = np.genfromtxt('data.txt', delimiter=',', filling_values=np.nan)\n",
    "\n",
    "print(\"Data read from the file:\")\n",
    "print(data)\n",
    "\n"
   ]
  },
  {
   "cell_type": "markdown",
   "id": "c23bd80d",
   "metadata": {},
   "source": [
    "#### 55. What is the equivalent of enumerate for numpy arrays? (★★☆)"
   ]
  },
  {
   "cell_type": "code",
   "execution_count": 73,
   "id": "d95d9578",
   "metadata": {},
   "outputs": [
    {
     "name": "stdout",
     "output_type": "stream",
     "text": [
      "Index: (0,), Value: 10\n",
      "Index: (1,), Value: 20\n",
      "Index: (2,), Value: 30\n",
      "Index: (3,), Value: 40\n",
      "Index: (4,), Value: 50\n"
     ]
    }
   ],
   "source": [
    "import numpy as np\n",
    "\n",
    "# Create a numpy array\n",
    "arr = np.array([10, 20, 30, 40, 50])\n",
    "\n",
    "# Equivalent of enumerate using np.ndindex()\n",
    "for idx in np.ndindex(arr.shape):\n",
    "    print(f\"Index: {idx}, Value: {arr[idx]}\")\n"
   ]
  },
  {
   "cell_type": "markdown",
   "id": "2153a5ec",
   "metadata": {},
   "source": [
    "#### 56. Generate a generic 2D Gaussian-like array (★★☆)"
   ]
  },
  {
   "cell_type": "code",
   "execution_count": 74,
   "id": "61122d1e",
   "metadata": {},
   "outputs": [
    {
     "data": {
      "image/png": "[encoded data removed]",
      "text/plain": [
       "<Figure size 640x480 with 2 Axes>"
      ]
     },
     "metadata": {},
     "output_type": "display_data"
    }
   ],
   "source": [
    "import numpy as np\n",
    "import matplotlib.pyplot as plt\n",
    "\n",
    "# Set the dimensions of the array\n",
    "rows, cols = 100, 100\n",
    "\n",
    "# Mean and standard deviation for the Gaussian distribution\n",
    "mean = 0\n",
    "std_dev = 1\n",
    "\n",
    "# Generate a 2D Gaussian-like array using np.random.normal\n",
    "gaussian_array = np.random.normal(loc=mean, scale=std_dev, size=(rows, cols))\n",
    "\n",
    "# Display the generated 2D array as an image\n",
    "plt.imshow(gaussian_array, cmap='viridis', interpolation='nearest')\n",
    "plt.colorbar()\n",
    "plt.title(\"2D Gaussian-like Array\")\n",
    "plt.show()\n"
   ]
  },
  {
   "cell_type": "markdown",
   "id": "2e76d589",
   "metadata": {},
   "source": [
    "#### 57. How to randomly place p elements in a 2D array? (★★☆)"
   ]
  },
  {
   "cell_type": "code",
   "execution_count": 75,
   "id": "0c2e4fcc",
   "metadata": {},
   "outputs": [
    {
     "name": "stdout",
     "output_type": "stream",
     "text": [
      "[[1. 0. 0. 0. 0.]\n",
      " [0. 0. 0. 0. 0.]\n",
      " [0. 0. 0. 0. 1.]\n",
      " [0. 0. 1. 0. 0.]\n",
      " [1. 1. 0. 0. 0.]]\n"
     ]
    }
   ],
   "source": [
    "import numpy as np\n",
    "\n",
    "# Parameters\n",
    "rows, cols = 5, 5  # Size of the 2D array\n",
    "p = 5  # Number of elements to place randomly\n",
    "\n",
    "# Create a 2D array with zeros (or any placeholder)\n",
    "array = np.zeros((rows, cols))\n",
    "\n",
    "# Get random indices to place the p elements\n",
    "indices = np.random.choice(array.size, p, replace=False)\n",
    "\n",
    "# Convert the flat indices to row, col index pairs\n",
    "row_indices, col_indices = np.unravel_index(indices, (rows, cols))\n",
    "\n",
    "# Place the elements (e.g., 1) at the random positions\n",
    "array[row_indices, col_indices] = 1\n",
    "\n",
    "print(array)\n"
   ]
  },
  {
   "cell_type": "markdown",
   "id": "8b3933eb",
   "metadata": {},
   "source": [
    "#### 58. Subtract the mean of each row of a matrix (★★☆)"
   ]
  },
  {
   "cell_type": "code",
   "execution_count": 76,
   "id": "a306c9ef",
   "metadata": {},
   "outputs": [
    {
     "name": "stdout",
     "output_type": "stream",
     "text": [
      "Original Matrix:\n",
      "[[0.28327084 0.87383745 0.06904732 0.32432496 0.75156425]\n",
      " [0.21802485 0.02760605 0.40081084 0.16752682 0.90054065]\n",
      " [0.17482319 0.989826   0.25309405 0.92415726 0.16905461]\n",
      " [0.43328244 0.09919212 0.90029568 0.81712701 0.2105208 ]]\n",
      "\n",
      "Matrix after subtracting row means:\n",
      "[[-0.17713813  0.41342848 -0.39136164 -0.136084    0.29115529]\n",
      " [-0.12487699 -0.31529579  0.05790899 -0.17537502  0.55763881]\n",
      " [-0.32736783  0.48763498 -0.24909697  0.42196624 -0.33313641]\n",
      " [-0.05880117 -0.39289149  0.40821207  0.3250434  -0.28156281]]\n"
     ]
    }
   ],
   "source": [
    "import numpy as np\n",
    "\n",
    "# Create a random 2D matrix (e.g., 4x5 matrix)\n",
    "matrix = np.random.rand(4, 5)\n",
    "\n",
    "# Subtract the mean of each row\n",
    "row_means = matrix.mean(axis=1, keepdims=True)  # Calculate the mean of each row\n",
    "normalized_matrix = matrix - row_means  # Subtract the row mean from each element\n",
    "\n",
    "print(\"Original Matrix:\")\n",
    "print(matrix)\n",
    "print(\"\\nMatrix after subtracting row means:\")\n",
    "print(normalized_matrix)\n"
   ]
  },
  {
   "cell_type": "markdown",
   "id": "ea8807c0",
   "metadata": {},
   "source": [
    "#### 59. How to sort an array by the nth column? (★★☆)"
   ]
  },
  {
   "cell_type": "code",
   "execution_count": 77,
   "id": "cc89a699",
   "metadata": {},
   "outputs": [
    {
     "name": "stdout",
     "output_type": "stream",
     "text": [
      "Original Array:\n",
      "[[3 7 4 9]\n",
      " [8 8 1 5]\n",
      " [4 6 4 7]\n",
      " [3 4 8 6]\n",
      " [9 1 4 8]]\n",
      "\n",
      "Sorted Array by the 2nd column:\n",
      "[[9 1 4 8]\n",
      " [3 4 8 6]\n",
      " [4 6 4 7]\n",
      " [3 7 4 9]\n",
      " [8 8 1 5]]\n"
     ]
    }
   ],
   "source": [
    "import numpy as np\n",
    "\n",
    "# Create a random 2D array (for example, 5x4 matrix)\n",
    "array = np.random.randint(1, 10, size=(5, 4))\n",
    "\n",
    "# Sort by the 2nd column (index 1)\n",
    "n = 1  # Index of the column to sort by\n",
    "sorted_array = array[array[:, n].argsort()]\n",
    "\n",
    "print(\"Original Array:\")\n",
    "print(array)\n",
    "\n",
    "print(\"\\nSorted Array by the 2nd column:\")\n",
    "print(sorted_array)\n"
   ]
  },
  {
   "cell_type": "markdown",
   "id": "00fa00a1",
   "metadata": {},
   "source": [
    "#### 60. How to tell if a given 2D array has null columns? (★★☆)"
   ]
  },
  {
   "cell_type": "code",
   "execution_count": 78,
   "id": "3436e165",
   "metadata": {},
   "outputs": [
    {
     "name": "stdout",
     "output_type": "stream",
     "text": [
      "Original Array:\n",
      "[[7 8 4 9]\n",
      " [1 8 9 4]\n",
      " [3 9 6 9]\n",
      " [7 5 2 5]\n",
      " [8 3 7 9]]\n",
      "\n",
      "Sorted Array by the 2nd column:\n",
      "[[8 3 7 9]\n",
      " [7 5 2 5]\n",
      " [7 8 4 9]\n",
      " [1 8 9 4]\n",
      " [3 9 6 9]]\n"
     ]
    }
   ],
   "source": [
    "import numpy as np\n",
    "\n",
    "# Create a random 2D array (for example, 5x4 matrix)\n",
    "array = np.random.randint(1, 10, size=(5, 4))\n",
    "\n",
    "# Sort by the 2nd column (index 1)\n",
    "n = 1  # Index of the column to sort by\n",
    "sorted_array = array[array[:, n].argsort()]\n",
    "\n",
    "print(\"Original Array:\")\n",
    "print(array)\n",
    "\n",
    "print(\"\\nSorted Array by the 2nd column:\")\n",
    "print(sorted_array)\n"
   ]
  },
  {
   "cell_type": "markdown",
   "id": "5a65c7a2",
   "metadata": {},
   "source": [
    "#### 61. Find the nearest value from a given value in an array (★★☆)"
   ]
  },
  {
   "cell_type": "code",
   "execution_count": 79,
   "id": "73f149d6",
   "metadata": {},
   "outputs": [
    {
     "name": "stdout",
     "output_type": "stream",
     "text": [
      "Original Array: [ 1  3  5  9 12 18 21]\n",
      "Given Value: 7\n",
      "Nearest Value: 5\n"
     ]
    }
   ],
   "source": [
    "import numpy as np\n",
    "\n",
    "# Create a random array\n",
    "array = np.array([1, 3, 5, 9, 12, 18, 21])\n",
    "\n",
    "# Given value\n",
    "value = 7\n",
    "\n",
    "# Compute the absolute difference between each element and the given value\n",
    "differences = np.abs(array - value)\n",
    "\n",
    "# Find the index of the minimum difference\n",
    "nearest_index = differences.argmin()\n",
    "\n",
    "# Get the nearest value\n",
    "nearest_value = array[nearest_index]\n",
    "\n",
    "print(\"Original Array:\", array)\n",
    "print(\"Given Value:\", value)\n",
    "print(\"Nearest Value:\", nearest_value)\n"
   ]
  },
  {
   "cell_type": "markdown",
   "id": "dd83e8af",
   "metadata": {},
   "source": [
    "#### 62. Considering two arrays with shape (1,3) and (3,1), how to compute their sum using an iterator? (★★☆)"
   ]
  },
  {
   "cell_type": "code",
   "execution_count": 80,
   "id": "29a709a1",
   "metadata": {},
   "outputs": [
    {
     "name": "stdout",
     "output_type": "stream",
     "text": [
      "Sum using iterator: 12\n"
     ]
    }
   ],
   "source": [
    "import numpy as np\n",
    "\n",
    "# Create the arrays\n",
    "array1 = np.array([[1, 2, 3]])  # Shape (1, 3)\n",
    "array2 = np.array([[1], [2], [3]])  # Shape (3, 1)\n",
    "\n",
    "# Use an iterator to compute the sum\n",
    "sum_result = 0\n",
    "for a, b in zip(array1.flatten(), array2.flatten()):\n",
    "    sum_result += a + b\n",
    "\n",
    "print(\"Sum using iterator:\", sum_result)\n"
   ]
  },
  {
   "cell_type": "markdown",
   "id": "6c042efa",
   "metadata": {},
   "source": [
    "#### 63. Create an array class that has a name attribute (★★☆)"
   ]
  },
  {
   "cell_type": "code",
   "execution_count": 81,
   "id": "45b3d2e0",
   "metadata": {},
   "outputs": [
    {
     "name": "stdout",
     "output_type": "stream",
     "text": [
      "Array: [1 2 3 4]\n",
      "Array Name: MyArray\n"
     ]
    }
   ],
   "source": [
    "import numpy as np\n",
    "\n",
    "# Define the custom array class\n",
    "class NamedArray(np.ndarray):\n",
    "    def __new__(cls, input_array, name='Unnamed'):\n",
    "        # Create a new instance of the array\n",
    "        obj = np.asarray(input_array).view(cls)\n",
    "        \n",
    "        # Add the name attribute to the object\n",
    "        obj.name = name\n",
    "        return obj\n",
    "\n",
    "# Create an instance of the NamedArray class\n",
    "arr = NamedArray([1, 2, 3, 4], name=\"MyArray\")\n",
    "\n",
    "# Access the array and the name attribute\n",
    "print(\"Array:\", arr)\n",
    "print(\"Array Name:\", arr.name)\n"
   ]
  },
  {
   "cell_type": "markdown",
   "id": "0a075c3d",
   "metadata": {},
   "source": [
    "#### 64. Consider a given vector, how to add 1 to each element indexed by a second vector (be careful with repeated indices)? (★★★)"
   ]
  },
  {
   "cell_type": "code",
   "execution_count": 82,
   "id": "36c50470",
   "metadata": {},
   "outputs": [
    {
     "name": "stdout",
     "output_type": "stream",
     "text": [
      "Updated Vector: [1 1 4 3 5]\n"
     ]
    }
   ],
   "source": [
    "import numpy as np\n",
    "\n",
    "# Define the first vector\n",
    "vector1 = np.array([0, 1, 2, 3, 4])\n",
    "\n",
    "# Define the second vector of indices (can have repeated indices)\n",
    "indices = np.array([0, 2, 2, 4])\n",
    "\n",
    "# Add 1 to each element in vector1 indexed by the elements in indices\n",
    "np.add.at(vector1, indices, 1)\n",
    "\n",
    "print(\"Updated Vector:\", vector1)\n"
   ]
  },
  {
   "cell_type": "markdown",
   "id": "0fb2f0c5",
   "metadata": {},
   "source": [
    "#### 65. How to accumulate elements of a vector (X) to an array (F) based on an index list (I)? (★★★)"
   ]
  },
  {
   "cell_type": "code",
   "execution_count": 83,
   "id": "58aa5f82",
   "metadata": {},
   "outputs": [
    {
     "name": "stdout",
     "output_type": "stream",
     "text": [
      "Accumulated Array F: [10. 50. 40. 50.  0.]\n"
     ]
    }
   ],
   "source": [
    "import numpy as np\n",
    "\n",
    "# Define the vector X (values to be accumulated)\n",
    "X = np.array([10, 20, 30, 40, 50])\n",
    "\n",
    "# Define the index list I (where values of X should be accumulated in F)\n",
    "I = np.array([0, 1, 1, 2, 3])\n",
    "\n",
    "# Define the array F (initial values, often zeros)\n",
    "F = np.zeros(5)\n",
    "\n",
    "# Accumulate the elements of X into F based on indices I\n",
    "np.add.at(F, I, X)\n",
    "\n",
    "print(\"Accumulated Array F:\", F)\n"
   ]
  },
  {
   "cell_type": "markdown",
   "id": "d89dc506",
   "metadata": {},
   "source": [
    "#### 66. Considering a (w,h,3) image of (dtype=ubyte), compute the number of unique colors (★★☆)"
   ]
  },
  {
   "cell_type": "code",
   "execution_count": 84,
   "id": "8fb43a49",
   "metadata": {},
   "outputs": [
    {
     "name": "stdout",
     "output_type": "stream",
     "text": [
      "Image:\n",
      " [[[122 223  83]\n",
      "  [133   2 153]\n",
      "  [132 146  95]\n",
      "  [249  25 213]]\n",
      "\n",
      " [[ 91  16  76]\n",
      "  [ 67  48  96]\n",
      "  [  3   7  13]\n",
      "  [165 247 126]]\n",
      "\n",
      " [[ 14  34 129]\n",
      "  [ 56   5 149]\n",
      "  [210 240 228]\n",
      "  [232 226 149]]\n",
      "\n",
      " [[107 251 196]\n",
      "  [209 136  98]\n",
      "  [ 39 193  67]\n",
      "  [207 169 138]]]\n",
      "\n",
      "Unique Colors: [[  3   7  13]\n",
      " [ 14  34 129]\n",
      " [ 39 193  67]\n",
      " [ 56   5 149]\n",
      " [ 67  48  96]\n",
      " [ 91  16  76]\n",
      " [107 251 196]\n",
      " [122 223  83]\n",
      " [132 146  95]\n",
      " [133   2 153]\n",
      " [165 247 126]\n",
      " [207 169 138]\n",
      " [209 136  98]\n",
      " [210 240 228]\n",
      " [232 226 149]\n",
      " [249  25 213]]\n",
      "\n",
      "Number of Unique Colors: 16\n"
     ]
    }
   ],
   "source": [
    "import numpy as np\n",
    "\n",
    "# Create a sample image of shape (w, h, 3) with dtype ubyte\n",
    "# For this example, we create a 4x4 image with random RGB values\n",
    "image = np.random.randint(0, 256, (4, 4, 3), dtype=np.uint8)\n",
    "\n",
    "# Reshape the image into a 2D array (w*h, 3)\n",
    "reshaped_image = image.reshape(-1, 3)\n",
    "\n",
    "# Find the unique rows (colors)\n",
    "unique_colors = np.unique(reshaped_image, axis=0)\n",
    "\n",
    "# Get the number of unique colors\n",
    "num_unique_colors = unique_colors.shape[0]\n",
    "\n",
    "print(\"Image:\\n\", image)\n",
    "print(\"\\nUnique Colors:\", unique_colors)\n",
    "print(\"\\nNumber of Unique Colors:\", num_unique_colors)\n"
   ]
  },
  {
   "cell_type": "markdown",
   "id": "535a5d81",
   "metadata": {},
   "source": [
    "#### 67. Considering a four dimensions array, how to get sum over the last two axis at once? (★★★)"
   ]
  },
  {
   "cell_type": "code",
   "execution_count": 85,
   "id": "f954ab9d",
   "metadata": {},
   "outputs": [
    {
     "name": "stdout",
     "output_type": "stream",
     "text": [
      "Original Array Shape: (2, 3, 4, 5)\n",
      "Summed Array Shape: (2, 3)\n",
      "Summed Array:\n",
      " [[ 90 103  89]\n",
      " [109 110 110]]\n"
     ]
    }
   ],
   "source": [
    "import numpy as np\n",
    "\n",
    "# Create a random 4D array with shape (a, b, c, d)\n",
    "array = np.random.randint(1, 10, (2, 3, 4, 5))  # Example shape (2, 3, 4, 5)\n",
    "\n",
    "# Sum over the last two axes (axis 2 and 3)\n",
    "sum_result = np.sum(array, axis=(-2, -1))\n",
    "\n",
    "print(\"Original Array Shape:\", array.shape)\n",
    "print(\"Summed Array Shape:\", sum_result.shape)\n",
    "print(\"Summed Array:\\n\", sum_result)\n"
   ]
  },
  {
   "cell_type": "markdown",
   "id": "eee66d3c",
   "metadata": {},
   "source": [
    "#### 68. Considering a one-dimensional vector D, how to compute means of subsets of D using a vector S of same size describing subset  indices? (★★★)"
   ]
  },
  {
   "cell_type": "code",
   "execution_count": 86,
   "id": "8929773a",
   "metadata": {},
   "outputs": [
    {
     "name": "stdout",
     "output_type": "stream",
     "text": [
      "Subset Means: [20. 30. 55.]\n"
     ]
    }
   ],
   "source": [
    "import numpy as np\n",
    "\n",
    "# Example data vector D\n",
    "D = np.array([10, 20, 30, 40, 50, 60])\n",
    "\n",
    "# Example subset indices vector S\n",
    "S = np.array([0, 1, 0, 1, 2, 2])\n",
    "\n",
    "# Compute the sum of elements in D for each subset in S\n",
    "subset_sum = np.zeros(np.max(S) + 1)  # Create an array to store sum for each subset\n",
    "np.add.at(subset_sum, S, D)  # Accumulate sums for each subset based on indices in S\n",
    "\n",
    "# Compute the count of elements in each subset\n",
    "subset_count = np.bincount(S)\n",
    "\n",
    "# Compute the mean of each subset\n",
    "subset_mean = subset_sum / subset_count\n",
    "\n",
    "print(\"Subset Means:\", subset_mean)\n"
   ]
  },
  {
   "cell_type": "markdown",
   "id": "f90d4c40",
   "metadata": {},
   "source": [
    "#### 69. How to get the diagonal of a dot product? (★★★)"
   ]
  },
  {
   "cell_type": "code",
   "execution_count": 87,
   "id": "b47d392d",
   "metadata": {},
   "outputs": [
    {
     "name": "stdout",
     "output_type": "stream",
     "text": [
      "Dot Product:\n",
      " [[ 25  28]\n",
      " [ 57  64]\n",
      " [ 89 100]]\n",
      "\n",
      "Diagonal of the Dot Product: [25 64]\n"
     ]
    }
   ],
   "source": [
    "import numpy as np\n",
    "\n",
    "# Example matrices\n",
    "A = np.array([[1, 2], [3, 4], [5, 6]])\n",
    "B = np.array([[7, 8], [9, 10]])\n",
    "\n",
    "# Compute the dot product\n",
    "dot_product = np.dot(A, B)\n",
    "\n",
    "# Get the diagonal of the dot product matrix\n",
    "diagonal = np.diagonal(dot_product)\n",
    "\n",
    "print(\"Dot Product:\\n\", dot_product)\n",
    "print(\"\\nDiagonal of the Dot Product:\", diagonal)\n"
   ]
  },
  {
   "cell_type": "markdown",
   "id": "a8a97e7d",
   "metadata": {},
   "source": [
    "#### 70. Consider the vector [1, 2, 3, 4, 5], how to build a new vector with 3 consecutive zeros interleaved between each value? (★★★)"
   ]
  },
  {
   "cell_type": "code",
   "execution_count": 88,
   "id": "ee6c6c37",
   "metadata": {},
   "outputs": [
    {
     "name": "stdout",
     "output_type": "stream",
     "text": [
      "New Vector: [1 0 0 0 2 0 0 0 3 0 0 0 4 0 0 0 5]\n"
     ]
    }
   ],
   "source": [
    "import numpy as np\n",
    "\n",
    "# Original vector\n",
    "original_vector = np.array([1, 2, 3, 4, 5])\n",
    "\n",
    "# Calculate the size of the new vector\n",
    "new_size = len(original_vector) * 4 - 3  # Original length times 4 minus 3\n",
    "\n",
    "# Create a new array filled with zeros\n",
    "new_vector = np.zeros(new_size, dtype=int)\n",
    "\n",
    "# Fill in the original values with 3 zeros in between\n",
    "new_vector[::4] = original_vector\n",
    "\n",
    "print(\"New Vector:\", new_vector)\n"
   ]
  },
  {
   "cell_type": "markdown",
   "id": "d6a30d60",
   "metadata": {},
   "source": [
    "#### 71. Consider an array of dimension (5,5,3), how to mulitply it by an array with dimensions (5,5)? (★★★)"
   ]
  },
  {
   "cell_type": "code",
   "execution_count": 89,
   "id": "e9703f2e",
   "metadata": {},
   "outputs": [
    {
     "name": "stdout",
     "output_type": "stream",
     "text": [
      "Array1 Shape: (5, 5, 3)\n",
      "Array2 Shape: (5, 5)\n",
      "Result Shape: (5, 5, 3)\n",
      "Result Array:\n",
      " [[[56 56  8]\n",
      "  [36 12 48]\n",
      "  [45 20 45]\n",
      "  [54 63 72]\n",
      "  [21 24 15]]\n",
      "\n",
      " [[ 8 64 48]\n",
      "  [ 2  6  2]\n",
      "  [15  3 18]\n",
      "  [36 81  9]\n",
      "  [12 54  6]]\n",
      "\n",
      " [[21 21 49]\n",
      "  [18 48 30]\n",
      "  [16 40 32]\n",
      "  [28 32 16]\n",
      "  [56 72 64]]\n",
      "\n",
      " [[15  9 15]\n",
      "  [48 24 18]\n",
      "  [18 18  9]\n",
      "  [25 20 45]\n",
      "  [ 5  5 30]]\n",
      "\n",
      " [[63 27 81]\n",
      "  [ 6  6 14]\n",
      "  [48 18 30]\n",
      "  [12 20 24]\n",
      "  [ 6 12 18]]]\n"
     ]
    }
   ],
   "source": [
    "import numpy as np\n",
    "\n",
    "# Create an array of shape (5, 5, 3)\n",
    "array1 = np.random.randint(1, 10, (5, 5, 3))\n",
    "\n",
    "# Create an array of shape (5, 5)\n",
    "array2 = np.random.randint(1, 10, (5, 5))\n",
    "\n",
    "# Multiply the two arrays using broadcasting\n",
    "result = array1 * array2[:, :, np.newaxis]\n",
    "\n",
    "print(\"Array1 Shape:\", array1.shape)\n",
    "print(\"Array2 Shape:\", array2.shape)\n",
    "print(\"Result Shape:\", result.shape)\n",
    "print(\"Result Array:\\n\", result)\n"
   ]
  },
  {
   "cell_type": "markdown",
   "id": "bac359a9",
   "metadata": {},
   "source": [
    "#### 72. How to swap two rows of an array? (★★★)"
   ]
  },
  {
   "cell_type": "code",
   "execution_count": 90,
   "id": "f1b432b1",
   "metadata": {},
   "outputs": [
    {
     "name": "stdout",
     "output_type": "stream",
     "text": [
      "Original Array:\n",
      "[[ 1  2  3  4  5]\n",
      " [ 6  7  8  9 10]\n",
      " [11 12 13 14 15]\n",
      " [16 17 18 19 20]\n",
      " [21 22 23 24 25]]\n",
      "\n",
      "Array after swapping rows 1 and 3:\n",
      "[[11 12 13 14 15]\n",
      " [ 6  7  8  9 10]\n",
      " [ 1  2  3  4  5]\n",
      " [16 17 18 19 20]\n",
      " [21 22 23 24 25]]\n"
     ]
    }
   ],
   "source": [
    "import numpy as np\n",
    "\n",
    "# Create a 2D array (5x5 for example)\n",
    "array = np.array([[1, 2, 3, 4, 5],\n",
    "                  [6, 7, 8, 9, 10],\n",
    "                  [11, 12, 13, 14, 15],\n",
    "                  [16, 17, 18, 19, 20],\n",
    "                  [21, 22, 23, 24, 25]])\n",
    "\n",
    "# Print original array\n",
    "print(\"Original Array:\")\n",
    "print(array)\n",
    "\n",
    "# Swap row 1 (index 0) with row 3 (index 2)\n",
    "array[[0, 2]] = array[[2, 0]]\n",
    "\n",
    "# Print the modified array\n",
    "print(\"\\nArray after swapping rows 1 and 3:\")\n",
    "print(array)\n"
   ]
  },
  {
   "cell_type": "markdown",
   "id": "620c9f83",
   "metadata": {},
   "source": [
    "#### 73. Consider a set of 10 triplets describing 10 triangles (with shared vertices), find the set of unique line segments composing all the  triangles (★★★)"
   ]
  },
  {
   "cell_type": "code",
   "execution_count": 91,
   "id": "4e595ffc",
   "metadata": {},
   "outputs": [
    {
     "name": "stdout",
     "output_type": "stream",
     "text": [
      "Unique Line Segments: [(0, 1), (2, 4), (1, 2), (0, 4), (3, 4), (1, 5), (0, 3), (1, 4), (2, 3), (0, 2), (4, 5), (0, 5), (2, 5), (1, 3), (3, 5)]\n"
     ]
    }
   ],
   "source": [
    "import numpy as np\n",
    "\n",
    "# Example set of 10 triangles (each defined by 3 vertices)\n",
    "triangles = [\n",
    "    (0, 1, 2), (1, 2, 3), (2, 3, 4),\n",
    "    (0, 2, 3), (1, 3, 4), (0, 1, 4),\n",
    "    (2, 4, 5), (3, 4, 5), (0, 3, 5),\n",
    "    (1, 2, 5)\n",
    "]\n",
    "\n",
    "# Initialize an empty set to store unique line segments\n",
    "unique_segments = set()\n",
    "\n",
    "# Iterate over each triangle\n",
    "for triangle in triangles:\n",
    "    # Generate edges (each triangle has 3 edges)\n",
    "    edges = [(triangle[0], triangle[1]), (triangle[1], triangle[2]), (triangle[0], triangle[2])]\n",
    "    \n",
    "    # Normalize edges: ensure each edge is in sorted order\n",
    "    for edge in edges:\n",
    "        sorted_edge = tuple(sorted(edge))  # Sort the vertices to avoid duplicates like (v1, v2) and (v2, v1)\n",
    "        unique_segments.add(sorted_edge)\n",
    "\n",
    "# Convert the set to a list for display\n",
    "unique_segments = list(unique_segments)\n",
    "\n",
    "# Display the unique segments\n",
    "print(\"Unique Line Segments:\", unique_segments)\n"
   ]
  },
  {
   "cell_type": "markdown",
   "id": "a76c55a2",
   "metadata": {},
   "source": [
    "#### 74. Given a sorted array C that corresponds to a bincount, how to produce an array A such that np.bincount(A) == C? (★★★)"
   ]
  },
  {
   "cell_type": "code",
   "execution_count": 92,
   "id": "2d2ae65a",
   "metadata": {},
   "outputs": [
    {
     "name": "stdout",
     "output_type": "stream",
     "text": [
      "Array A: [0 0 0 1 1 3 3 3 3 4]\n",
      "Bincount of A: [3 2 0 4 1]\n"
     ]
    }
   ],
   "source": [
    "import numpy as np\n",
    "\n",
    "# Given bincount array C\n",
    "C = np.array([3, 2, 0, 4, 1])  # Example bincount, means:\n",
    "# 0 appears 3 times, 1 appears 2 times, 2 appears 0 times, 3 appears 4 times, 4 appears 1 time\n",
    "\n",
    "# Generate the array A such that np.bincount(A) == C\n",
    "A = np.hstack([np.full(c, i) for i, c in enumerate(C)])\n",
    "\n",
    "# Print results\n",
    "print(\"Array A:\", A)\n",
    "print(\"Bincount of A:\", np.bincount(A))\n"
   ]
  },
  {
   "cell_type": "markdown",
   "id": "d550c8e2",
   "metadata": {},
   "source": [
    "#### 75. How to compute averages using a sliding window over an array? (★★★)"
   ]
  },
  {
   "cell_type": "code",
   "execution_count": 93,
   "id": "841c457c",
   "metadata": {},
   "outputs": [
    {
     "name": "stdout",
     "output_type": "stream",
     "text": [
      "[2. 3. 4. 5. 6. 7. 8.]\n"
     ]
    }
   ],
   "source": [
    "import numpy as np\n",
    "\n",
    "def sliding_window_avg(arr, window_size):\n",
    "    # Compute the cumulative sum of the array\n",
    "    cumsum = np.cumsum(arr)\n",
    "    \n",
    "    # For windows starting at the beginning, fill with 0s before the window\n",
    "    avg = (cumsum[window_size - 1:] - np.concatenate(([0], cumsum[:-window_size]))) / window_size\n",
    "    \n",
    "    return avg\n",
    "\n",
    "# Example usage:\n",
    "arr = np.array([1, 2, 3, 4, 5, 6, 7, 8, 9])\n",
    "window_size = 3\n",
    "\n",
    "averages = sliding_window_avg(arr, window_size)\n",
    "print(averages)\n"
   ]
  },
  {
   "cell_type": "markdown",
   "id": "6b170b00",
   "metadata": {},
   "source": [
    "#### 76. Consider a one-dimensional array Z, build a two-dimensional array whose first row is (Z[0],Z[1],Z[2]) and each subsequent row is  shifted by 1 (last row should be (Z[-3],Z[-2],Z[-1]) (★★★)"
   ]
  },
  {
   "cell_type": "code",
   "execution_count": 94,
   "id": "d9a0cf4e",
   "metadata": {},
   "outputs": [
    {
     "name": "stdout",
     "output_type": "stream",
     "text": [
      "[[1 2 3]\n",
      " [2 3 4]\n",
      " [3 4 5]\n",
      " [4 5 6]\n",
      " [5 6 7]\n",
      " [6 7 8]\n",
      " [7 8 9]]\n"
     ]
    }
   ],
   "source": [
    "import numpy as np\n",
    "\n",
    "# Given one-dimensional array Z\n",
    "Z = np.array([1, 2, 3, 4, 5, 6, 7, 8, 9])\n",
    "\n",
    "# Number of rows in the resulting 2D array\n",
    "n_rows = len(Z) - 2  # This ensures there are 3 elements per row\n",
    "\n",
    "# Create the 2D array with shifted rows\n",
    "result = np.array([Z[i:i+3] for i in range(n_rows)])\n",
    "\n",
    "# Print the result\n",
    "print(result)\n"
   ]
  },
  {
   "cell_type": "markdown",
   "id": "e94a5c1d",
   "metadata": {},
   "source": [
    "#### 77. How to negate a boolean, or to change the sign of a float inplace? (★★★)"
   ]
  },
  {
   "cell_type": "code",
   "execution_count": 95,
   "id": "c0f9504f",
   "metadata": {},
   "outputs": [
    {
     "name": "stdout",
     "output_type": "stream",
     "text": [
      "[False  True False  True]\n"
     ]
    }
   ],
   "source": [
    "import numpy as np\n",
    "\n",
    "# Boolean array\n",
    "arr = np.array([True, False, True, False])\n",
    "\n",
    "# Negate the boolean values in place using `~`\n",
    "arr = ~arr\n",
    "\n",
    "print(arr)\n"
   ]
  },
  {
   "cell_type": "markdown",
   "id": "4eb8b5c1",
   "metadata": {},
   "source": [
    "#### 78. Consider 2 sets of points P0,P1 describing lines (2d) and a point p, how to compute distance from p to each line i (P0[i],P1[i])? (★★★)"
   ]
  },
  {
   "cell_type": "code",
   "execution_count": 96,
   "id": "487f47ec",
   "metadata": {},
   "outputs": [
    {
     "name": "stdout",
     "output_type": "stream",
     "text": [
      "[3.         0.70710678 0.83205029]\n"
     ]
    }
   ],
   "source": [
    "import numpy as np\n",
    "\n",
    "def distance_point_to_line(P0, P1, p):\n",
    "    # Coordinates of the points\n",
    "    x0, y0 = P0\n",
    "    x1, y1 = P1\n",
    "    x, y = p\n",
    "\n",
    "    # Distance formula\n",
    "    num = abs((x1 - x0) * (y0 - y) - (x0 - x) * (y1 - y0))\n",
    "    denom = np.sqrt((x1 - x0)**2 + (y1 - y0)**2)\n",
    "    return num / denom\n",
    "\n",
    "# Example usage:\n",
    "P0 = np.array([[1, 1], [2, 2], [3, 3]])  # 3 lines' start points\n",
    "P1 = np.array([[4, 1], [5, 5], [6, 1]])  # 3 lines' end points\n",
    "p = np.array([3, 4])  # Point to calculate distance to\n",
    "\n",
    "# Compute distances from point p to each line\n",
    "distances = np.array([distance_point_to_line(P0[i], P1[i], p) for i in range(len(P0))])\n",
    "\n",
    "print(distances)\n"
   ]
  },
  {
   "cell_type": "markdown",
   "id": "3df99948",
   "metadata": {},
   "source": [
    "#### 79. Consider 2 sets of points P0,P1 describing lines (2d) and a set of points P, how to compute distance from each point j (P[j]) to each line i (P0[i],P1[i])? (★★★)"
   ]
  },
  {
   "cell_type": "code",
   "execution_count": 97,
   "id": "dc2df37b",
   "metadata": {},
   "outputs": [
    {
     "name": "stdout",
     "output_type": "stream",
     "text": [
      "[[3.         0.70710678 0.83205029]\n",
      " [2.         0.70710678 0.5547002 ]\n",
      " [5.         0.70710678 3.60555128]]\n"
     ]
    }
   ],
   "source": [
    "import numpy as np\n",
    "\n",
    "# Function to calculate distance from point p to line defined by P0 and P1\n",
    "def distance_point_to_line(P0, P1, p):\n",
    "    x0, y0 = P0\n",
    "    x1, y1 = P1\n",
    "    x, y = p\n",
    "    \n",
    "    # Distance formula\n",
    "    num = abs((x1 - x0) * (y0 - y) - (x0 - x) * (y1 - y0))\n",
    "    denom = np.sqrt((x1 - x0)**2 + (y1 - y0)**2)\n",
    "    return num / denom\n",
    "\n",
    "# Example usage:\n",
    "P0 = np.array([[1, 1], [2, 2], [3, 3]])  # 3 lines' start points\n",
    "P1 = np.array([[4, 1], [5, 5], [6, 1]])  # 3 lines' end points\n",
    "P = np.array([[3, 4], [2, 3], [5, 6]])   # 3 points for distance calculation\n",
    "\n",
    "# Compute distances from each point P[j] to each line P0[i], P1[i]\n",
    "distances = np.array([[distance_point_to_line(P0[i], P1[i], P[j]) for i in range(len(P0))] for j in range(len(P))])\n",
    "\n",
    "print(distances)\n"
   ]
  },
  {
   "cell_type": "markdown",
   "id": "11e972c2",
   "metadata": {},
   "source": [
    "#### 80. Consider an arbitrary array, write a function that extract a subpart with a fixed shape and centered on a given element (pad with a `fill` value when necessary) (★★★)"
   ]
  },
  {
   "cell_type": "code",
   "execution_count": 98,
   "id": "0291247f",
   "metadata": {},
   "outputs": [
    {
     "name": "stdout",
     "output_type": "stream",
     "text": [
      "[[ 7  8  9]\n",
      " [12 13 14]\n",
      " [17 18 19]]\n"
     ]
    }
   ],
   "source": [
    "import numpy as np\n",
    "\n",
    "def extract_subarray(array, center, shape, fill=0):\n",
    "    \"\"\"\n",
    "    Extract a subarray centered at `center` with the specified `shape`, \n",
    "    padding with the `fill` value where necessary.\n",
    "    \"\"\"\n",
    "    # Create a copy of the array to handle padding\n",
    "    padded_array = np.full(array.shape, fill, dtype=array.dtype)\n",
    "    \n",
    "    # Calculate the slicing indices for the padded array\n",
    "    start_indices = [max(0, c - s//2) for c, s in zip(center, shape)]\n",
    "    end_indices = [min(dim_size, c + (s - s % 2)//2 + 1) for c, s, dim_size in zip(center, shape, array.shape)]\n",
    "    \n",
    "    # Place the original array values in the padded array\n",
    "    slices = tuple(slice(start, end) for start, end in zip(start_indices, end_indices))\n",
    "    padded_array[slices] = array[slices]\n",
    "    \n",
    "    # Now extract the subarray centered at `center` with the given shape\n",
    "    subarray_slices = tuple(slice(center[i] - shape[i] // 2, center[i] + shape[i] // 2 + 1) for i in range(len(shape)))\n",
    "    subarray = padded_array[subarray_slices]\n",
    "    \n",
    "    return subarray\n",
    "\n",
    "# Example usage\n",
    "array = np.array([[1, 2, 3, 4, 5],\n",
    "                  [6, 7, 8, 9, 10],\n",
    "                  [11, 12, 13, 14, 15],\n",
    "                  [16, 17, 18, 19, 20],\n",
    "                  [21, 22, 23, 24, 25]])\n",
    "\n",
    "center = (2, 2)  # Center of the subarray\n",
    "shape = (3, 3)   # Shape of the subarray (3x3)\n",
    "fill = 0         # Padding value\n",
    "\n",
    "subarray = extract_subarray(array, center, shape, fill)\n",
    "print(subarray)\n"
   ]
  },
  {
   "cell_type": "markdown",
   "id": "93cfeab3",
   "metadata": {},
   "source": [
    "#### 81. Consider an array Z = [1,2,3,4,5,6,7,8,9,10,11,12,13,14], how to generate an array R = [[1,2,3,4], [2,3,4,5], [3,4,5,6], ..., [11,12,13,14]]? (★★★)"
   ]
  },
  {
   "cell_type": "code",
   "execution_count": 99,
   "id": "360de791",
   "metadata": {},
   "outputs": [
    {
     "name": "stdout",
     "output_type": "stream",
     "text": [
      "[[ 1  2  3  4]\n",
      " [ 2  3  4  5]\n",
      " [ 3  4  5  6]\n",
      " [ 4  5  6  7]\n",
      " [ 5  6  7  8]\n",
      " [ 6  7  8  9]\n",
      " [ 7  8  9 10]\n",
      " [ 8  9 10 11]\n",
      " [ 9 10 11 12]\n",
      " [10 11 12 13]\n",
      " [11 12 13 14]]\n"
     ]
    }
   ],
   "source": [
    "import numpy as np\n",
    "\n",
    "# Input array\n",
    "Z = np.array([1, 2, 3, 4, 5, 6, 7, 8, 9, 10, 11, 12, 13, 14])\n",
    "\n",
    "# Length of subarrays\n",
    "window_size = 4\n",
    "\n",
    "# Generate the subarrays using slicing\n",
    "R = np.array([Z[i:i + window_size] for i in range(len(Z) - window_size + 1)])\n",
    "\n",
    "print(R)\n"
   ]
  },
  {
   "cell_type": "markdown",
   "id": "4c15ceff",
   "metadata": {},
   "source": [
    "#### 82. Compute a matrix rank (★★★)"
   ]
  },
  {
   "cell_type": "code",
   "execution_count": 100,
   "id": "9a4272d2",
   "metadata": {},
   "outputs": [
    {
     "name": "stdout",
     "output_type": "stream",
     "text": [
      "Rank of the matrix A: 2\n"
     ]
    }
   ],
   "source": [
    "import numpy as np\n",
    "\n",
    "# Example matrix\n",
    "A = np.array([[1, 2, 3],\n",
    "              [4, 5, 6],\n",
    "              [7, 8, 9]])\n",
    "\n",
    "# Compute the rank of the matrix\n",
    "rank_A = np.linalg.matrix_rank(A)\n",
    "\n",
    "print(\"Rank of the matrix A:\", rank_A)\n"
   ]
  },
  {
   "cell_type": "markdown",
   "id": "1171cb84",
   "metadata": {},
   "source": [
    "#### 83. How to find the most frequent value in an array?"
   ]
  },
  {
   "cell_type": "code",
   "execution_count": 101,
   "id": "33e951c8",
   "metadata": {},
   "outputs": [
    {
     "ename": "IndexError",
     "evalue": "invalid index to scalar variable.",
     "output_type": "error",
     "traceback": [
      "\u001b[1;31m---------------------------------------------------------------------------\u001b[0m",
      "\u001b[1;31mIndexError\u001b[0m                                Traceback (most recent call last)",
      "Cell \u001b[1;32mIn[101], line 10\u001b[0m\n\u001b[0;32m      7\u001b[0m \u001b[38;5;66;03m# Find the most frequent value\u001b[39;00m\n\u001b[0;32m      8\u001b[0m mode_value, count \u001b[38;5;241m=\u001b[39m stats\u001b[38;5;241m.\u001b[39mmode(arr)\n\u001b[1;32m---> 10\u001b[0m \u001b[38;5;28mprint\u001b[39m(\u001b[38;5;124mf\u001b[39m\u001b[38;5;124m\"\u001b[39m\u001b[38;5;124mMost frequent value: \u001b[39m\u001b[38;5;132;01m{\u001b[39;00m\u001b[43mmode_value\u001b[49m\u001b[43m[\u001b[49m\u001b[38;5;241;43m0\u001b[39;49m\u001b[43m]\u001b[49m\u001b[38;5;132;01m}\u001b[39;00m\u001b[38;5;124m, Frequency: \u001b[39m\u001b[38;5;132;01m{\u001b[39;00mcount[\u001b[38;5;241m0\u001b[39m]\u001b[38;5;132;01m}\u001b[39;00m\u001b[38;5;124m\"\u001b[39m)\n",
      "\u001b[1;31mIndexError\u001b[0m: invalid index to scalar variable."
     ]
    }
   ],
   "source": [
    "import numpy as np\n",
    "from scipy import stats\n",
    "\n",
    "# Example array\n",
    "arr = np.array([1, 2, 3, 4, 1, 2, 1, 1, 3, 4, 5])\n",
    "\n",
    "# Find the most frequent value\n",
    "mode_value, count = stats.mode(arr)\n",
    "\n",
    "print(f\"Most frequent value: {mode_value[0]}, Frequency: {count[0]}\")\n"
   ]
  },
  {
   "cell_type": "markdown",
   "id": "04f472aa",
   "metadata": {},
   "source": [
    "#### 84. Extract all the contiguous 3x3 blocks from a random 10x10 matrix (★★★)"
   ]
  },
  {
   "cell_type": "code",
   "execution_count": 102,
   "id": "7aade14a",
   "metadata": {},
   "outputs": [
    {
     "name": "stdout",
     "output_type": "stream",
     "text": [
      "Random 10x10 Matrix:\n",
      "[[8 7 6 7 5 4 2 1 5 6]\n",
      " [3 9 2 5 7 6 1 8 1 3]\n",
      " [8 2 9 5 8 3 4 6 9 4]\n",
      " [3 2 6 2 2 5 1 2 6 5]\n",
      " [3 1 3 8 6 2 4 2 1 2]\n",
      " [1 8 8 3 7 1 1 2 9 7]\n",
      " [4 5 3 4 4 2 4 3 5 2]\n",
      " [8 4 4 5 7 9 7 2 6 7]\n",
      " [2 8 8 5 1 7 9 2 4 9]\n",
      " [2 9 2 3 5 3 9 9 3 4]]\n",
      "\n",
      "Contiguous 3x3 Blocks:\n",
      "[[[8 7 6]\n",
      "  [3 9 2]\n",
      "  [8 2 9]]\n",
      "\n",
      " [[7 6 7]\n",
      "  [9 2 5]\n",
      "  [2 9 5]]\n",
      "\n",
      " [[6 7 5]\n",
      "  [2 5 7]\n",
      "  [9 5 8]]\n",
      "\n",
      " [[7 5 4]\n",
      "  [5 7 6]\n",
      "  [5 8 3]]\n",
      "\n",
      " [[5 4 2]\n",
      "  [7 6 1]\n",
      "  [8 3 4]]\n",
      "\n",
      " [[4 2 1]\n",
      "  [6 1 8]\n",
      "  [3 4 6]]\n",
      "\n",
      " [[2 1 5]\n",
      "  [1 8 1]\n",
      "  [4 6 9]]\n",
      "\n",
      " [[1 5 6]\n",
      "  [8 1 3]\n",
      "  [6 9 4]]\n",
      "\n",
      " [[3 9 2]\n",
      "  [8 2 9]\n",
      "  [3 2 6]]\n",
      "\n",
      " [[9 2 5]\n",
      "  [2 9 5]\n",
      "  [2 6 2]]\n",
      "\n",
      " [[2 5 7]\n",
      "  [9 5 8]\n",
      "  [6 2 2]]\n",
      "\n",
      " [[5 7 6]\n",
      "  [5 8 3]\n",
      "  [2 2 5]]\n",
      "\n",
      " [[7 6 1]\n",
      "  [8 3 4]\n",
      "  [2 5 1]]\n",
      "\n",
      " [[6 1 8]\n",
      "  [3 4 6]\n",
      "  [5 1 2]]\n",
      "\n",
      " [[1 8 1]\n",
      "  [4 6 9]\n",
      "  [1 2 6]]\n",
      "\n",
      " [[8 1 3]\n",
      "  [6 9 4]\n",
      "  [2 6 5]]\n",
      "\n",
      " [[8 2 9]\n",
      "  [3 2 6]\n",
      "  [3 1 3]]\n",
      "\n",
      " [[2 9 5]\n",
      "  [2 6 2]\n",
      "  [1 3 8]]\n",
      "\n",
      " [[9 5 8]\n",
      "  [6 2 2]\n",
      "  [3 8 6]]\n",
      "\n",
      " [[5 8 3]\n",
      "  [2 2 5]\n",
      "  [8 6 2]]\n",
      "\n",
      " [[8 3 4]\n",
      "  [2 5 1]\n",
      "  [6 2 4]]\n",
      "\n",
      " [[3 4 6]\n",
      "  [5 1 2]\n",
      "  [2 4 2]]\n",
      "\n",
      " [[4 6 9]\n",
      "  [1 2 6]\n",
      "  [4 2 1]]\n",
      "\n",
      " [[6 9 4]\n",
      "  [2 6 5]\n",
      "  [2 1 2]]\n",
      "\n",
      " [[3 2 6]\n",
      "  [3 1 3]\n",
      "  [1 8 8]]\n",
      "\n",
      " [[2 6 2]\n",
      "  [1 3 8]\n",
      "  [8 8 3]]\n",
      "\n",
      " [[6 2 2]\n",
      "  [3 8 6]\n",
      "  [8 3 7]]\n",
      "\n",
      " [[2 2 5]\n",
      "  [8 6 2]\n",
      "  [3 7 1]]\n",
      "\n",
      " [[2 5 1]\n",
      "  [6 2 4]\n",
      "  [7 1 1]]\n",
      "\n",
      " [[5 1 2]\n",
      "  [2 4 2]\n",
      "  [1 1 2]]\n",
      "\n",
      " [[1 2 6]\n",
      "  [4 2 1]\n",
      "  [1 2 9]]\n",
      "\n",
      " [[2 6 5]\n",
      "  [2 1 2]\n",
      "  [2 9 7]]\n",
      "\n",
      " [[3 1 3]\n",
      "  [1 8 8]\n",
      "  [4 5 3]]\n",
      "\n",
      " [[1 3 8]\n",
      "  [8 8 3]\n",
      "  [5 3 4]]\n",
      "\n",
      " [[3 8 6]\n",
      "  [8 3 7]\n",
      "  [3 4 4]]\n",
      "\n",
      " [[8 6 2]\n",
      "  [3 7 1]\n",
      "  [4 4 2]]\n",
      "\n",
      " [[6 2 4]\n",
      "  [7 1 1]\n",
      "  [4 2 4]]\n",
      "\n",
      " [[2 4 2]\n",
      "  [1 1 2]\n",
      "  [2 4 3]]\n",
      "\n",
      " [[4 2 1]\n",
      "  [1 2 9]\n",
      "  [4 3 5]]\n",
      "\n",
      " [[2 1 2]\n",
      "  [2 9 7]\n",
      "  [3 5 2]]\n",
      "\n",
      " [[1 8 8]\n",
      "  [4 5 3]\n",
      "  [8 4 4]]\n",
      "\n",
      " [[8 8 3]\n",
      "  [5 3 4]\n",
      "  [4 4 5]]\n",
      "\n",
      " [[8 3 7]\n",
      "  [3 4 4]\n",
      "  [4 5 7]]\n",
      "\n",
      " [[3 7 1]\n",
      "  [4 4 2]\n",
      "  [5 7 9]]\n",
      "\n",
      " [[7 1 1]\n",
      "  [4 2 4]\n",
      "  [7 9 7]]\n",
      "\n",
      " [[1 1 2]\n",
      "  [2 4 3]\n",
      "  [9 7 2]]\n",
      "\n",
      " [[1 2 9]\n",
      "  [4 3 5]\n",
      "  [7 2 6]]\n",
      "\n",
      " [[2 9 7]\n",
      "  [3 5 2]\n",
      "  [2 6 7]]\n",
      "\n",
      " [[4 5 3]\n",
      "  [8 4 4]\n",
      "  [2 8 8]]\n",
      "\n",
      " [[5 3 4]\n",
      "  [4 4 5]\n",
      "  [8 8 5]]\n",
      "\n",
      " [[3 4 4]\n",
      "  [4 5 7]\n",
      "  [8 5 1]]\n",
      "\n",
      " [[4 4 2]\n",
      "  [5 7 9]\n",
      "  [5 1 7]]\n",
      "\n",
      " [[4 2 4]\n",
      "  [7 9 7]\n",
      "  [1 7 9]]\n",
      "\n",
      " [[2 4 3]\n",
      "  [9 7 2]\n",
      "  [7 9 2]]\n",
      "\n",
      " [[4 3 5]\n",
      "  [7 2 6]\n",
      "  [9 2 4]]\n",
      "\n",
      " [[3 5 2]\n",
      "  [2 6 7]\n",
      "  [2 4 9]]\n",
      "\n",
      " [[8 4 4]\n",
      "  [2 8 8]\n",
      "  [2 9 2]]\n",
      "\n",
      " [[4 4 5]\n",
      "  [8 8 5]\n",
      "  [9 2 3]]\n",
      "\n",
      " [[4 5 7]\n",
      "  [8 5 1]\n",
      "  [2 3 5]]\n",
      "\n",
      " [[5 7 9]\n",
      "  [5 1 7]\n",
      "  [3 5 3]]\n",
      "\n",
      " [[7 9 7]\n",
      "  [1 7 9]\n",
      "  [5 3 9]]\n",
      "\n",
      " [[9 7 2]\n",
      "  [7 9 2]\n",
      "  [3 9 9]]\n",
      "\n",
      " [[7 2 6]\n",
      "  [9 2 4]\n",
      "  [9 9 3]]\n",
      "\n",
      " [[2 6 7]\n",
      "  [2 4 9]\n",
      "  [9 3 4]]]\n"
     ]
    }
   ],
   "source": [
    "import numpy as np\n",
    "\n",
    "# Create a random 10x10 matrix\n",
    "matrix = np.random.randint(1, 10, (10, 10))\n",
    "\n",
    "# Extract all 3x3 blocks from the 10x10 matrix\n",
    "blocks = []\n",
    "\n",
    "# Loop over the matrix to extract 3x3 blocks\n",
    "for i in range(matrix.shape[0] - 2):  # 10 - 2 = 8, so we loop from 0 to 7\n",
    "    for j in range(matrix.shape[1] - 2):  # Same for columns, loop from 0 to 7\n",
    "        block = matrix[i:i+3, j:j+3]  # Slice to get the 3x3 block\n",
    "        blocks.append(block)\n",
    "\n",
    "# Convert the list of blocks into a numpy array\n",
    "blocks_array = np.array(blocks)\n",
    "\n",
    "# Print the result\n",
    "print(\"Random 10x10 Matrix:\")\n",
    "print(matrix)\n",
    "print(\"\\nContiguous 3x3 Blocks:\")\n",
    "print(blocks_array)\n"
   ]
  },
  {
   "cell_type": "markdown",
   "id": "52836346",
   "metadata": {},
   "source": [
    "#### 85. Create a 2D array subclass such that Z[i,j] == Z[j,i] (★★★)"
   ]
  },
  {
   "cell_type": "code",
   "execution_count": 103,
   "id": "4df70318",
   "metadata": {},
   "outputs": [
    {
     "ename": "RecursionError",
     "evalue": "maximum recursion depth exceeded",
     "output_type": "error",
     "traceback": [
      "\u001b[1;31m---------------------------------------------------------------------------\u001b[0m",
      "\u001b[1;31mRecursionError\u001b[0m                            Traceback (most recent call last)",
      "Cell \u001b[1;32mIn[103], line 34\u001b[0m\n\u001b[0;32m     31\u001b[0m Z[\u001b[38;5;241m1\u001b[39m, \u001b[38;5;241m0\u001b[39m] \u001b[38;5;241m=\u001b[39m \u001b[38;5;241m20\u001b[39m  \u001b[38;5;66;03m# This will update Z[0,1] to be 20 due to symmetry\u001b[39;00m\n\u001b[0;32m     33\u001b[0m \u001b[38;5;66;03m# Print the array\u001b[39;00m\n\u001b[1;32m---> 34\u001b[0m \u001b[38;5;28;43mprint\u001b[39;49m\u001b[43m(\u001b[49m\u001b[43mZ\u001b[49m\u001b[43m)\u001b[49m\n",
      "File \u001b[1;32md:\\ProgramData\\anaconda3\\Lib\\site-packages\\numpy\\core\\arrayprint.py:1612\u001b[0m, in \u001b[0;36m_array_str_implementation\u001b[1;34m(a, max_line_width, precision, suppress_small, array2string)\u001b[0m\n\u001b[0;32m   1606\u001b[0m \u001b[38;5;28;01mif\u001b[39;00m a\u001b[38;5;241m.\u001b[39mshape \u001b[38;5;241m==\u001b[39m ():\n\u001b[0;32m   1607\u001b[0m     \u001b[38;5;66;03m# obtain a scalar and call str on it, avoiding problems for subclasses\u001b[39;00m\n\u001b[0;32m   1608\u001b[0m     \u001b[38;5;66;03m# for which indexing with () returns a 0d instead of a scalar by using\u001b[39;00m\n\u001b[0;32m   1609\u001b[0m     \u001b[38;5;66;03m# ndarray's getindex. Also guard against recursive 0d object arrays.\u001b[39;00m\n\u001b[0;32m   1610\u001b[0m     \u001b[38;5;28;01mreturn\u001b[39;00m _guarded_repr_or_str(np\u001b[38;5;241m.\u001b[39mndarray\u001b[38;5;241m.\u001b[39m\u001b[38;5;21m__getitem__\u001b[39m(a, ()))\n\u001b[1;32m-> 1612\u001b[0m \u001b[38;5;28;01mreturn\u001b[39;00m \u001b[43marray2string\u001b[49m\u001b[43m(\u001b[49m\u001b[43ma\u001b[49m\u001b[43m,\u001b[49m\u001b[43m \u001b[49m\u001b[43mmax_line_width\u001b[49m\u001b[43m,\u001b[49m\u001b[43m \u001b[49m\u001b[43mprecision\u001b[49m\u001b[43m,\u001b[49m\u001b[43m \u001b[49m\u001b[43msuppress_small\u001b[49m\u001b[43m,\u001b[49m\u001b[43m \u001b[49m\u001b[38;5;124;43m'\u001b[39;49m\u001b[38;5;124;43m \u001b[39;49m\u001b[38;5;124;43m'\u001b[39;49m\u001b[43m,\u001b[49m\u001b[43m \u001b[49m\u001b[38;5;124;43m\"\u001b[39;49m\u001b[38;5;124;43m\"\u001b[39;49m\u001b[43m)\u001b[49m\n",
      "File \u001b[1;32md:\\ProgramData\\anaconda3\\Lib\\site-packages\\numpy\\core\\arrayprint.py:736\u001b[0m, in \u001b[0;36marray2string\u001b[1;34m(a, max_line_width, precision, suppress_small, separator, prefix, style, formatter, threshold, edgeitems, sign, floatmode, suffix, legacy)\u001b[0m\n\u001b[0;32m    733\u001b[0m \u001b[38;5;28;01mif\u001b[39;00m a\u001b[38;5;241m.\u001b[39msize \u001b[38;5;241m==\u001b[39m \u001b[38;5;241m0\u001b[39m:\n\u001b[0;32m    734\u001b[0m     \u001b[38;5;28;01mreturn\u001b[39;00m \u001b[38;5;124m\"\u001b[39m\u001b[38;5;124m[]\u001b[39m\u001b[38;5;124m\"\u001b[39m\n\u001b[1;32m--> 736\u001b[0m \u001b[38;5;28;01mreturn\u001b[39;00m \u001b[43m_array2string\u001b[49m\u001b[43m(\u001b[49m\u001b[43ma\u001b[49m\u001b[43m,\u001b[49m\u001b[43m \u001b[49m\u001b[43moptions\u001b[49m\u001b[43m,\u001b[49m\u001b[43m \u001b[49m\u001b[43mseparator\u001b[49m\u001b[43m,\u001b[49m\u001b[43m \u001b[49m\u001b[43mprefix\u001b[49m\u001b[43m)\u001b[49m\n",
      "File \u001b[1;32md:\\ProgramData\\anaconda3\\Lib\\site-packages\\numpy\\core\\arrayprint.py:513\u001b[0m, in \u001b[0;36m_recursive_guard.<locals>.decorating_function.<locals>.wrapper\u001b[1;34m(self, *args, **kwargs)\u001b[0m\n\u001b[0;32m    511\u001b[0m repr_running\u001b[38;5;241m.\u001b[39madd(key)\n\u001b[0;32m    512\u001b[0m \u001b[38;5;28;01mtry\u001b[39;00m:\n\u001b[1;32m--> 513\u001b[0m     \u001b[38;5;28;01mreturn\u001b[39;00m \u001b[43mf\u001b[49m\u001b[43m(\u001b[49m\u001b[38;5;28;43mself\u001b[39;49m\u001b[43m,\u001b[49m\u001b[43m \u001b[49m\u001b[38;5;241;43m*\u001b[39;49m\u001b[43margs\u001b[49m\u001b[43m,\u001b[49m\u001b[43m \u001b[49m\u001b[38;5;241;43m*\u001b[39;49m\u001b[38;5;241;43m*\u001b[39;49m\u001b[43mkwargs\u001b[49m\u001b[43m)\u001b[49m\n\u001b[0;32m    514\u001b[0m \u001b[38;5;28;01mfinally\u001b[39;00m:\n\u001b[0;32m    515\u001b[0m     repr_running\u001b[38;5;241m.\u001b[39mdiscard(key)\n",
      "File \u001b[1;32md:\\ProgramData\\anaconda3\\Lib\\site-packages\\numpy\\core\\arrayprint.py:546\u001b[0m, in \u001b[0;36m_array2string\u001b[1;34m(a, options, separator, prefix)\u001b[0m\n\u001b[0;32m    543\u001b[0m \u001b[38;5;66;03m# skip over array(\u001b[39;00m\n\u001b[0;32m    544\u001b[0m next_line_prefix \u001b[38;5;241m+\u001b[39m\u001b[38;5;241m=\u001b[39m \u001b[38;5;124m\"\u001b[39m\u001b[38;5;124m \u001b[39m\u001b[38;5;124m\"\u001b[39m\u001b[38;5;241m*\u001b[39m\u001b[38;5;28mlen\u001b[39m(prefix)\n\u001b[1;32m--> 546\u001b[0m lst \u001b[38;5;241m=\u001b[39m \u001b[43m_formatArray\u001b[49m\u001b[43m(\u001b[49m\u001b[43ma\u001b[49m\u001b[43m,\u001b[49m\u001b[43m \u001b[49m\u001b[43mformat_function\u001b[49m\u001b[43m,\u001b[49m\u001b[43m \u001b[49m\u001b[43moptions\u001b[49m\u001b[43m[\u001b[49m\u001b[38;5;124;43m'\u001b[39;49m\u001b[38;5;124;43mlinewidth\u001b[39;49m\u001b[38;5;124;43m'\u001b[39;49m\u001b[43m]\u001b[49m\u001b[43m,\u001b[49m\n\u001b[0;32m    547\u001b[0m \u001b[43m                   \u001b[49m\u001b[43mnext_line_prefix\u001b[49m\u001b[43m,\u001b[49m\u001b[43m \u001b[49m\u001b[43mseparator\u001b[49m\u001b[43m,\u001b[49m\u001b[43m \u001b[49m\u001b[43moptions\u001b[49m\u001b[43m[\u001b[49m\u001b[38;5;124;43m'\u001b[39;49m\u001b[38;5;124;43medgeitems\u001b[39;49m\u001b[38;5;124;43m'\u001b[39;49m\u001b[43m]\u001b[49m\u001b[43m,\u001b[49m\n\u001b[0;32m    548\u001b[0m \u001b[43m                   \u001b[49m\u001b[43msummary_insert\u001b[49m\u001b[43m,\u001b[49m\u001b[43m \u001b[49m\u001b[43moptions\u001b[49m\u001b[43m[\u001b[49m\u001b[38;5;124;43m'\u001b[39;49m\u001b[38;5;124;43mlegacy\u001b[39;49m\u001b[38;5;124;43m'\u001b[39;49m\u001b[43m]\u001b[49m\u001b[43m)\u001b[49m\n\u001b[0;32m    549\u001b[0m \u001b[38;5;28;01mreturn\u001b[39;00m lst\n",
      "File \u001b[1;32md:\\ProgramData\\anaconda3\\Lib\\site-packages\\numpy\\core\\arrayprint.py:889\u001b[0m, in \u001b[0;36m_formatArray\u001b[1;34m(a, format_function, line_width, next_line_prefix, separator, edge_items, summary_insert, legacy)\u001b[0m\n\u001b[0;32m    885\u001b[0m     \u001b[38;5;28;01mreturn\u001b[39;00m s\n\u001b[0;32m    887\u001b[0m \u001b[38;5;28;01mtry\u001b[39;00m:\n\u001b[0;32m    888\u001b[0m     \u001b[38;5;66;03m# invoke the recursive part with an initial index and prefix\u001b[39;00m\n\u001b[1;32m--> 889\u001b[0m     \u001b[38;5;28;01mreturn\u001b[39;00m \u001b[43mrecurser\u001b[49m\u001b[43m(\u001b[49m\u001b[43mindex\u001b[49m\u001b[38;5;241;43m=\u001b[39;49m\u001b[43m(\u001b[49m\u001b[43m)\u001b[49m\u001b[43m,\u001b[49m\n\u001b[0;32m    890\u001b[0m \u001b[43m                    \u001b[49m\u001b[43mhanging_indent\u001b[49m\u001b[38;5;241;43m=\u001b[39;49m\u001b[43mnext_line_prefix\u001b[49m\u001b[43m,\u001b[49m\n\u001b[0;32m    891\u001b[0m \u001b[43m                    \u001b[49m\u001b[43mcurr_width\u001b[49m\u001b[38;5;241;43m=\u001b[39;49m\u001b[43mline_width\u001b[49m\u001b[43m)\u001b[49m\n\u001b[0;32m    892\u001b[0m \u001b[38;5;28;01mfinally\u001b[39;00m:\n\u001b[0;32m    893\u001b[0m     \u001b[38;5;66;03m# recursive closures have a cyclic reference to themselves, which\u001b[39;00m\n\u001b[0;32m    894\u001b[0m     \u001b[38;5;66;03m# requires gc to collect (gh-10620). To avoid this problem, for\u001b[39;00m\n\u001b[0;32m    895\u001b[0m     \u001b[38;5;66;03m# performance and PyPy friendliness, we break the cycle:\u001b[39;00m\n\u001b[0;32m    896\u001b[0m     recurser \u001b[38;5;241m=\u001b[39m \u001b[38;5;28;01mNone\u001b[39;00m\n",
      "File \u001b[1;32md:\\ProgramData\\anaconda3\\Lib\\site-packages\\numpy\\core\\arrayprint.py:876\u001b[0m, in \u001b[0;36m_formatArray.<locals>.recurser\u001b[1;34m(index, hanging_indent, curr_width)\u001b[0m\n\u001b[0;32m    873\u001b[0m         s \u001b[38;5;241m+\u001b[39m\u001b[38;5;241m=\u001b[39m hanging_indent \u001b[38;5;241m+\u001b[39m summary_insert \u001b[38;5;241m+\u001b[39m line_sep\n\u001b[0;32m    875\u001b[0m \u001b[38;5;28;01mfor\u001b[39;00m i \u001b[38;5;129;01min\u001b[39;00m \u001b[38;5;28mrange\u001b[39m(trailing_items, \u001b[38;5;241m1\u001b[39m, \u001b[38;5;241m-\u001b[39m\u001b[38;5;241m1\u001b[39m):\n\u001b[1;32m--> 876\u001b[0m     nested \u001b[38;5;241m=\u001b[39m \u001b[43mrecurser\u001b[49m\u001b[43m(\u001b[49m\u001b[43mindex\u001b[49m\u001b[43m \u001b[49m\u001b[38;5;241;43m+\u001b[39;49m\u001b[43m \u001b[49m\u001b[43m(\u001b[49m\u001b[38;5;241;43m-\u001b[39;49m\u001b[43mi\u001b[49m\u001b[43m,\u001b[49m\u001b[43m)\u001b[49m\u001b[43m,\u001b[49m\u001b[43m \u001b[49m\u001b[43mnext_hanging_indent\u001b[49m\u001b[43m,\u001b[49m\n\u001b[0;32m    877\u001b[0m \u001b[43m                      \u001b[49m\u001b[43mnext_width\u001b[49m\u001b[43m)\u001b[49m\n\u001b[0;32m    878\u001b[0m     s \u001b[38;5;241m+\u001b[39m\u001b[38;5;241m=\u001b[39m hanging_indent \u001b[38;5;241m+\u001b[39m nested \u001b[38;5;241m+\u001b[39m line_sep\n\u001b[0;32m    880\u001b[0m nested \u001b[38;5;241m=\u001b[39m recurser(index \u001b[38;5;241m+\u001b[39m (\u001b[38;5;241m-\u001b[39m\u001b[38;5;241m1\u001b[39m,), next_hanging_indent, next_width)\n",
      "File \u001b[1;32md:\\ProgramData\\anaconda3\\Lib\\site-packages\\numpy\\core\\arrayprint.py:845\u001b[0m, in \u001b[0;36m_formatArray.<locals>.recurser\u001b[1;34m(index, hanging_indent, curr_width)\u001b[0m\n\u001b[0;32m    842\u001b[0m         line \u001b[38;5;241m+\u001b[39m\u001b[38;5;241m=\u001b[39m separator\n\u001b[0;32m    844\u001b[0m \u001b[38;5;28;01mfor\u001b[39;00m i \u001b[38;5;129;01min\u001b[39;00m \u001b[38;5;28mrange\u001b[39m(trailing_items, \u001b[38;5;241m1\u001b[39m, \u001b[38;5;241m-\u001b[39m\u001b[38;5;241m1\u001b[39m):\n\u001b[1;32m--> 845\u001b[0m     word \u001b[38;5;241m=\u001b[39m \u001b[43mrecurser\u001b[49m\u001b[43m(\u001b[49m\u001b[43mindex\u001b[49m\u001b[43m \u001b[49m\u001b[38;5;241;43m+\u001b[39;49m\u001b[43m \u001b[49m\u001b[43m(\u001b[49m\u001b[38;5;241;43m-\u001b[39;49m\u001b[43mi\u001b[49m\u001b[43m,\u001b[49m\u001b[43m)\u001b[49m\u001b[43m,\u001b[49m\u001b[43m \u001b[49m\u001b[43mnext_hanging_indent\u001b[49m\u001b[43m,\u001b[49m\u001b[43m \u001b[49m\u001b[43mnext_width\u001b[49m\u001b[43m)\u001b[49m\n\u001b[0;32m    846\u001b[0m     s, line \u001b[38;5;241m=\u001b[39m _extendLine_pretty(\n\u001b[0;32m    847\u001b[0m         s, line, word, elem_width, hanging_indent, legacy)\n\u001b[0;32m    848\u001b[0m     line \u001b[38;5;241m+\u001b[39m\u001b[38;5;241m=\u001b[39m separator\n",
      "File \u001b[1;32md:\\ProgramData\\anaconda3\\Lib\\site-packages\\numpy\\core\\arrayprint.py:799\u001b[0m, in \u001b[0;36m_formatArray.<locals>.recurser\u001b[1;34m(index, hanging_indent, curr_width)\u001b[0m\n\u001b[0;32m    796\u001b[0m axes_left \u001b[38;5;241m=\u001b[39m a\u001b[38;5;241m.\u001b[39mndim \u001b[38;5;241m-\u001b[39m axis\n\u001b[0;32m    798\u001b[0m \u001b[38;5;28;01mif\u001b[39;00m axes_left \u001b[38;5;241m==\u001b[39m \u001b[38;5;241m0\u001b[39m:\n\u001b[1;32m--> 799\u001b[0m     \u001b[38;5;28;01mreturn\u001b[39;00m format_function(\u001b[43ma\u001b[49m\u001b[43m[\u001b[49m\u001b[43mindex\u001b[49m\u001b[43m]\u001b[49m)\n\u001b[0;32m    801\u001b[0m \u001b[38;5;66;03m# when recursing, add a space to align with the [ added, and reduce the\u001b[39;00m\n\u001b[0;32m    802\u001b[0m \u001b[38;5;66;03m# length of the line by 1\u001b[39;00m\n\u001b[0;32m    803\u001b[0m next_hanging_indent \u001b[38;5;241m=\u001b[39m hanging_indent \u001b[38;5;241m+\u001b[39m \u001b[38;5;124m'\u001b[39m\u001b[38;5;124m \u001b[39m\u001b[38;5;124m'\u001b[39m\n",
      "Cell \u001b[1;32mIn[103], line 13\u001b[0m, in \u001b[0;36mSymmetricMatrix.__getitem__\u001b[1;34m(self, idx)\u001b[0m\n\u001b[0;32m     10\u001b[0m i, j \u001b[38;5;241m=\u001b[39m idx\n\u001b[0;32m     11\u001b[0m \u001b[38;5;28;01mif\u001b[39;00m i \u001b[38;5;241m!=\u001b[39m j:\n\u001b[0;32m     12\u001b[0m     \u001b[38;5;66;03m# Enforce symmetry: Z[i,j] == Z[j,i]\u001b[39;00m\n\u001b[1;32m---> 13\u001b[0m     \u001b[38;5;28;01mreturn\u001b[39;00m \u001b[38;5;28;43mself\u001b[39;49m\u001b[43m[\u001b[49m\u001b[43mj\u001b[49m\u001b[43m,\u001b[49m\u001b[43m \u001b[49m\u001b[43mi\u001b[49m\u001b[43m]\u001b[49m\n\u001b[0;32m     14\u001b[0m \u001b[38;5;28;01melse\u001b[39;00m:\n\u001b[0;32m     15\u001b[0m     \u001b[38;5;66;03m# Return the diagonal elements as usual\u001b[39;00m\n\u001b[0;32m     16\u001b[0m     \u001b[38;5;28;01mreturn\u001b[39;00m \u001b[38;5;28msuper\u001b[39m()\u001b[38;5;241m.\u001b[39m\u001b[38;5;21m__getitem__\u001b[39m(idx)\n",
      "Cell \u001b[1;32mIn[103], line 13\u001b[0m, in \u001b[0;36mSymmetricMatrix.__getitem__\u001b[1;34m(self, idx)\u001b[0m\n\u001b[0;32m     10\u001b[0m i, j \u001b[38;5;241m=\u001b[39m idx\n\u001b[0;32m     11\u001b[0m \u001b[38;5;28;01mif\u001b[39;00m i \u001b[38;5;241m!=\u001b[39m j:\n\u001b[0;32m     12\u001b[0m     \u001b[38;5;66;03m# Enforce symmetry: Z[i,j] == Z[j,i]\u001b[39;00m\n\u001b[1;32m---> 13\u001b[0m     \u001b[38;5;28;01mreturn\u001b[39;00m \u001b[38;5;28;43mself\u001b[39;49m\u001b[43m[\u001b[49m\u001b[43mj\u001b[49m\u001b[43m,\u001b[49m\u001b[43m \u001b[49m\u001b[43mi\u001b[49m\u001b[43m]\u001b[49m\n\u001b[0;32m     14\u001b[0m \u001b[38;5;28;01melse\u001b[39;00m:\n\u001b[0;32m     15\u001b[0m     \u001b[38;5;66;03m# Return the diagonal elements as usual\u001b[39;00m\n\u001b[0;32m     16\u001b[0m     \u001b[38;5;28;01mreturn\u001b[39;00m \u001b[38;5;28msuper\u001b[39m()\u001b[38;5;241m.\u001b[39m\u001b[38;5;21m__getitem__\u001b[39m(idx)\n",
      "    \u001b[1;31m[... skipping similar frames: SymmetricMatrix.__getitem__ at line 13 (2966 times)]\u001b[0m\n",
      "Cell \u001b[1;32mIn[103], line 13\u001b[0m, in \u001b[0;36mSymmetricMatrix.__getitem__\u001b[1;34m(self, idx)\u001b[0m\n\u001b[0;32m     10\u001b[0m i, j \u001b[38;5;241m=\u001b[39m idx\n\u001b[0;32m     11\u001b[0m \u001b[38;5;28;01mif\u001b[39;00m i \u001b[38;5;241m!=\u001b[39m j:\n\u001b[0;32m     12\u001b[0m     \u001b[38;5;66;03m# Enforce symmetry: Z[i,j] == Z[j,i]\u001b[39;00m\n\u001b[1;32m---> 13\u001b[0m     \u001b[38;5;28;01mreturn\u001b[39;00m \u001b[38;5;28;43mself\u001b[39;49m\u001b[43m[\u001b[49m\u001b[43mj\u001b[49m\u001b[43m,\u001b[49m\u001b[43m \u001b[49m\u001b[43mi\u001b[49m\u001b[43m]\u001b[49m\n\u001b[0;32m     14\u001b[0m \u001b[38;5;28;01melse\u001b[39;00m:\n\u001b[0;32m     15\u001b[0m     \u001b[38;5;66;03m# Return the diagonal elements as usual\u001b[39;00m\n\u001b[0;32m     16\u001b[0m     \u001b[38;5;28;01mreturn\u001b[39;00m \u001b[38;5;28msuper\u001b[39m()\u001b[38;5;241m.\u001b[39m\u001b[38;5;21m__getitem__\u001b[39m(idx)\n",
      "\u001b[1;31mRecursionError\u001b[0m: maximum recursion depth exceeded"
     ]
    }
   ],
   "source": [
    "import numpy as np\n",
    "\n",
    "class SymmetricMatrix(np.ndarray):\n",
    "    def __new__(cls, shape, dtype=float):\n",
    "        # Create the array with the given shape and dtype\n",
    "        obj = np.empty(shape, dtype=dtype).view(cls)\n",
    "        return obj\n",
    "    \n",
    "    def __getitem__(self, idx):\n",
    "        i, j = idx\n",
    "        if i != j:\n",
    "            # Enforce symmetry: Z[i,j] == Z[j,i]\n",
    "            return self[j, i]\n",
    "        else:\n",
    "            # Return the diagonal elements as usual\n",
    "            return super().__getitem__(idx)\n",
    "    \n",
    "    def __setitem__(self, idx, value):\n",
    "        i, j = idx\n",
    "        if i != j:\n",
    "            # Enforce symmetry: Z[i,j] == Z[j,i]\n",
    "            super().__setitem__((j, i), value)\n",
    "        super().__setitem__(idx, value)\n",
    "\n",
    "# Example usage\n",
    "shape = (5, 5)\n",
    "Z = SymmetricMatrix(shape)\n",
    "\n",
    "# Set some values\n",
    "Z[0, 1] = 10\n",
    "Z[1, 0] = 20  # This will update Z[0,1] to be 20 due to symmetry\n",
    "\n",
    "# Print the array\n",
    "print(Z)\n"
   ]
  },
  {
   "cell_type": "markdown",
   "id": "78c43ee5",
   "metadata": {},
   "source": [
    "#### 86. Consider a set of p matrices with shape (n,n) and a set of p vectors with shape (n,1). How to compute the sum of of the p matrix products at once? (result has shape (n,1)) (★★★)"
   ]
  },
  {
   "cell_type": "code",
   "execution_count": 104,
   "id": "32fd2c3b",
   "metadata": {},
   "outputs": [
    {
     "name": "stdout",
     "output_type": "stream",
     "text": [
      "[[2.35451545]\n",
      " [3.70318077]\n",
      " [4.40326493]\n",
      " [4.57488088]]\n"
     ]
    }
   ],
   "source": [
    "import numpy as np\n",
    "\n",
    "# Example dimensions\n",
    "p = 3  # number of matrices and vectors\n",
    "n = 4  # size of each matrix and vector\n",
    "\n",
    "# Random matrices and vectors\n",
    "matrices = np.random.rand(p, n, n)  # shape (p, n, n)\n",
    "vectors = np.random.rand(p, n, 1)  # shape (p, n, 1)\n",
    "\n",
    "# Compute the sum of matrix-vector products\n",
    "result = np.sum(matrices @ vectors, axis=0)\n",
    "\n",
    "# Output result\n",
    "print(result)\n"
   ]
  },
  {
   "cell_type": "markdown",
   "id": "158f9945",
   "metadata": {},
   "source": [
    "#### 87. Consider a 16x16 array, how to get the block-sum (block size is 4x4)? (★★★)"
   ]
  },
  {
   "cell_type": "code",
   "execution_count": 105,
   "id": "5a9b808f",
   "metadata": {},
   "outputs": [
    {
     "name": "stdout",
     "output_type": "stream",
     "text": [
      "Original array:\n",
      " [[7 1 6 1 1 3 6 3 5 3 1 5 3 4 1 8]\n",
      " [2 9 5 7 6 8 3 3 9 5 8 1 5 3 5 5]\n",
      " [6 2 8 9 3 4 6 9 1 9 1 7 6 9 3 5]\n",
      " [6 2 2 3 2 9 6 1 9 8 4 5 9 5 9 4]\n",
      " [2 1 4 9 7 7 5 9 4 2 5 9 8 5 2 2]\n",
      " [5 2 9 1 1 8 7 9 5 9 3 5 9 4 1 6]\n",
      " [9 3 2 1 9 7 1 5 3 7 3 9 3 3 7 2]\n",
      " [4 9 3 9 1 1 1 4 5 4 9 2 2 4 7 7]\n",
      " [5 6 1 5 7 1 7 6 7 8 7 3 9 5 9 2]\n",
      " [3 7 7 9 8 8 9 1 2 6 1 8 2 7 1 9]\n",
      " [5 5 3 3 1 7 1 2 7 9 7 1 5 4 5 9]\n",
      " [7 5 2 3 2 5 2 9 1 7 3 3 5 8 6 5]\n",
      " [8 1 4 7 2 7 6 9 9 2 8 2 4 1 1 8]\n",
      " [4 2 8 7 7 3 4 5 1 8 6 3 5 6 1 9]\n",
      " [1 9 3 4 3 8 9 6 5 2 6 5 5 9 5 8]\n",
      " [7 2 3 1 1 9 8 9 1 8 1 8 7 7 6 4]]\n",
      "Block sum (4x4 blocks):\n",
      " [[58 84 88 84]\n",
      " [81 84 74 72]\n",
      " [88 88 74 73]\n",
      " [79 79 88 82]]\n"
     ]
    }
   ],
   "source": [
    "import numpy as np\n",
    "\n",
    "# Create a random 16x16 array\n",
    "array = np.random.randint(1, 10, size=(16, 16))\n",
    "\n",
    "# Reshape the array to a shape of (4, 4, 4, 4)\n",
    "reshaped_array = array.reshape(4, 4, 4, 4)\n",
    "\n",
    "# Compute the sum along the last two axes (each 4x4 block)\n",
    "block_sum = reshaped_array.sum(axis=(2, 3))\n",
    "\n",
    "# Output the block sum\n",
    "print(\"Original array:\\n\", array)\n",
    "print(\"Block sum (4x4 blocks):\\n\", block_sum)\n"
   ]
  },
  {
   "cell_type": "markdown",
   "id": "2e0ad860",
   "metadata": {},
   "source": [
    "#### 88. How to implement the Game of Life using numpy arrays? (★★★)"
   ]
  },
  {
   "cell_type": "code",
   "execution_count": 106,
   "id": "574acff5",
   "metadata": {},
   "outputs": [
    {
     "data": {
      "image/png": "[encoded data removed]",
      "text/plain": [
       "<Figure size 640x480 with 1 Axes>"
      ]
     },
     "metadata": {},
     "output_type": "display_data"
    },
    {
     "data": {
      "image/png": "[encoded data removed]",
      "text/plain": [
       "<Figure size 640x480 with 1 Axes>"
      ]
     },
     "metadata": {},
     "output_type": "display_data"
    },
    {
     "data": {
      "image/png": "[encoded data removed]",
      "text/plain": [
       "<Figure size 640x480 with 1 Axes>"
      ]
     },
     "metadata": {},
     "output_type": "display_data"
    },
    {
     "data": {
      "image/png": "[encoded data removed]",
      "text/plain": [
       "<Figure size 640x480 with 1 Axes>"
      ]
     },
     "metadata": {},
     "output_type": "display_data"
    },
    {
     "data": {
      "image/png": "[encoded data removed]",
      "text/plain": [
       "<Figure size 640x480 with 1 Axes>"
      ]
     },
     "metadata": {},
     "output_type": "display_data"
    },
    {
     "data": {
      "image/png": "[encoded data removed]",
      "text/plain": [
       "<Figure size 640x480 with 1 Axes>"
      ]
     },
     "metadata": {},
     "output_type": "display_data"
    },
    {
     "data": {
      "image/png": "[encoded data removed]",
      "text/plain": [
       "<Figure size 640x480 with 1 Axes>"
      ]
     },
     "metadata": {},
     "output_type": "display_data"
    },
    {
     "data": {
      "image/png": "[encoded data removed]",
      "text/plain": [
       "<Figure size 640x480 with 1 Axes>"
      ]
     },
     "metadata": {},
     "output_type": "display_data"
    },
    {
     "data": {
      "image/png": "[encoded data removed]",
      "text/plain": [
       "<Figure size 640x480 with 1 Axes>"
      ]
     },
     "metadata": {},
     "output_type": "display_data"
    },
    {
     "data": {
      "image/png": "[encoded data removed]",
      "text/plain": [
       "<Figure size 640x480 with 1 Axes>"
      ]
     },
     "metadata": {},
     "output_type": "display_data"
    },
    {
     "data": {
      "image/png": "[encoded data removed]",
      "text/plain": [
       "<Figure size 640x480 with 1 Axes>"
      ]
     },
     "metadata": {},
     "output_type": "display_data"
    },
    {
     "data": {
      "image/png": "[encoded data removed]",
      "text/plain": [
       "<Figure size 640x480 with 1 Axes>"
      ]
     },
     "metadata": {},
     "output_type": "display_data"
    },
    {
     "data": {
      "image/png": "[encoded data removed]",
      "text/plain": [
       "<Figure size 640x480 with 1 Axes>"
      ]
     },
     "metadata": {},
     "output_type": "display_data"
    },
    {
     "data": {
      "image/png": "[encoded data removed]",
      "text/plain": [
       "<Figure size 640x480 with 1 Axes>"
      ]
     },
     "metadata": {},
     "output_type": "display_data"
    },
    {
     "data": {
      "image/png": "[encoded data removed]",
      "text/plain": [
       "<Figure size 640x480 with 1 Axes>"
      ]
     },
     "metadata": {},
     "output_type": "display_data"
    },
    {
     "data": {
      "image/png": "[encoded data removed]",
      "text/plain": [
       "<Figure size 640x480 with 1 Axes>"
      ]
     },
     "metadata": {},
     "output_type": "display_data"
    },
    {
     "data": {
      "image/png": "[encoded data removed]",
      "text/plain": [
       "<Figure size 640x480 with 1 Axes>"
      ]
     },
     "metadata": {},
     "output_type": "display_data"
    },
    {
     "data": {
      "image/png": "[encoded data removed]",
      "text/plain": [
       "<Figure size 640x480 with 1 Axes>"
      ]
     },
     "metadata": {},
     "output_type": "display_data"
    },
    {
     "data": {
      "image/png": "[encoded data removed]",
      "text/plain": [
       "<Figure size 640x480 with 1 Axes>"
      ]
     },
     "metadata": {},
     "output_type": "display_data"
    },
    {
     "data": {
      "image/png": "[encoded data removed]",
      "text/plain": [
       "<Figure size 640x480 with 1 Axes>"
      ]
     },
     "metadata": {},
     "output_type": "display_data"
    },
    {
     "data": {
      "image/png": "[encoded data removed]",
      "text/plain": [
       "<Figure size 640x480 with 1 Axes>"
      ]
     },
     "metadata": {},
     "output_type": "display_data"
    },
    {
     "data": {
      "image/png": "[encoded data removed]",
      "text/plain": [
       "<Figure size 640x480 with 1 Axes>"
      ]
     },
     "metadata": {},
     "output_type": "display_data"
    },
    {
     "data": {
      "image/png": "[encoded data removed]",
      "text/plain": [
       "<Figure size 640x480 with 1 Axes>"
      ]
     },
     "metadata": {},
     "output_type": "display_data"
    },
    {
     "data": {
      "image/png": "[encoded data removed]",
      "text/plain": [
       "<Figure size 640x480 with 1 Axes>"
      ]
     },
     "metadata": {},
     "output_type": "display_data"
    },
    {
     "data": {
      "image/png": "[encoded data removed]",
      "text/plain": [
       "<Figure size 640x480 with 1 Axes>"
      ]
     },
     "metadata": {},
     "output_type": "display_data"
    },
    {
     "data": {
      "image/png": "[encoded data removed]",
      "text/plain": [
       "<Figure size 640x480 with 1 Axes>"
      ]
     },
     "metadata": {},
     "output_type": "display_data"
    },
    {
     "data": {
      "image/png": "[encoded data removed]",
      "text/plain": [
       "<Figure size 640x480 with 1 Axes>"
      ]
     },
     "metadata": {},
     "output_type": "display_data"
    },
    {
     "data": {
      "image/png": "[encoded data removed]",
      "text/plain": [
       "<Figure size 640x480 with 1 Axes>"
      ]
     },
     "metadata": {},
     "output_type": "display_data"
    },
    {
     "data": {
      "image/png": "[encoded data removed]",
      "text/plain": [
       "<Figure size 640x480 with 1 Axes>"
      ]
     },
     "metadata": {},
     "output_type": "display_data"
    },
    {
     "data": {
      "image/png": "[encoded data removed]",
      "text/plain": [
       "<Figure size 640x480 with 1 Axes>"
      ]
     },
     "metadata": {},
     "output_type": "display_data"
    },
    {
     "data": {
      "image/png": "[encoded data removed]",
      "text/plain": [
       "<Figure size 640x480 with 1 Axes>"
      ]
     },
     "metadata": {},
     "output_type": "display_data"
    },
    {
     "data": {
      "image/png": "[encoded data removed]",
      "text/plain": [
       "<Figure size 640x480 with 1 Axes>"
      ]
     },
     "metadata": {},
     "output_type": "display_data"
    },
    {
     "data": {
      "image/png": "[encoded data removed]",
      "text/plain": [
       "<Figure size 640x480 with 1 Axes>"
      ]
     },
     "metadata": {},
     "output_type": "display_data"
    },
    {
     "data": {
      "image/png": "[encoded data removed]",
      "text/plain": [
       "<Figure size 640x480 with 1 Axes>"
      ]
     },
     "metadata": {},
     "output_type": "display_data"
    },
    {
     "data": {
      "image/png": "[encoded data removed]",
      "text/plain": [
       "<Figure size 640x480 with 1 Axes>"
      ]
     },
     "metadata": {},
     "output_type": "display_data"
    },
    {
     "data": {
      "image/png": "[encoded data removed]",
      "text/plain": [
       "<Figure size 640x480 with 1 Axes>"
      ]
     },
     "metadata": {},
     "output_type": "display_data"
    },
    {
     "data": {
      "image/png": "[encoded data removed]",
      "text/plain": [
       "<Figure size 640x480 with 1 Axes>"
      ]
     },
     "metadata": {},
     "output_type": "display_data"
    },
    {
     "data": {
      "image/png": "[encoded data removed]",
      "text/plain": [
       "<Figure size 640x480 with 1 Axes>"
      ]
     },
     "metadata": {},
     "output_type": "display_data"
    },
    {
     "data": {
      "image/png": "[encoded data removed]",
      "text/plain": [
       "<Figure size 640x480 with 1 Axes>"
      ]
     },
     "metadata": {},
     "output_type": "display_data"
    },
    {
     "data": {
      "image/png": "[encoded data removed]",
      "text/plain": [
       "<Figure size 640x480 with 1 Axes>"
      ]
     },
     "metadata": {},
     "output_type": "display_data"
    },
    {
     "data": {
      "image/png": "[encoded data removed]",
      "text/plain": [
       "<Figure size 640x480 with 1 Axes>"
      ]
     },
     "metadata": {},
     "output_type": "display_data"
    },
    {
     "data": {
      "image/png": "[encoded data removed]",
      "text/plain": [
       "<Figure size 640x480 with 1 Axes>"
      ]
     },
     "metadata": {},
     "output_type": "display_data"
    },
    {
     "data": {
      "image/png": "[encoded data removed]",
      "text/plain": [
       "<Figure size 640x480 with 1 Axes>"
      ]
     },
     "metadata": {},
     "output_type": "display_data"
    },
    {
     "data": {
      "image/png": "[encoded data removed]",
      "text/plain": [
       "<Figure size 640x480 with 1 Axes>"
      ]
     },
     "metadata": {},
     "output_type": "display_data"
    },
    {
     "data": {
      "image/png": "[encoded data removed]",
      "text/plain": [
       "<Figure size 640x480 with 1 Axes>"
      ]
     },
     "metadata": {},
     "output_type": "display_data"
    },
    {
     "data": {
      "image/png": "[encoded data removed]",
      "text/plain": [
       "<Figure size 640x480 with 1 Axes>"
      ]
     },
     "metadata": {},
     "output_type": "display_data"
    },
    {
     "data": {
      "image/png": "[encoded data removed]",
      "text/plain": [
       "<Figure size 640x480 with 1 Axes>"
      ]
     },
     "metadata": {},
     "output_type": "display_data"
    },
    {
     "data": {
      "image/png": "[encoded data removed]",
      "text/plain": [
       "<Figure size 640x480 with 1 Axes>"
      ]
     },
     "metadata": {},
     "output_type": "display_data"
    },
    {
     "data": {
      "image/png": "[encoded data removed]",
      "text/plain": [
       "<Figure size 640x480 with 1 Axes>"
      ]
     },
     "metadata": {},
     "output_type": "display_data"
    },
    {
     "data": {
      "image/png": "[encoded data removed]",
      "text/plain": [
       "<Figure size 640x480 with 1 Axes>"
      ]
     },
     "metadata": {},
     "output_type": "display_data"
    },
    {
     "data": {
      "image/png": "[encoded data removed]",
      "text/plain": [
       "<Figure size 640x480 with 1 Axes>"
      ]
     },
     "metadata": {},
     "output_type": "display_data"
    },
    {
     "data": {
      "image/png": "[encoded data removed]",
      "text/plain": [
       "<Figure size 640x480 with 1 Axes>"
      ]
     },
     "metadata": {},
     "output_type": "display_data"
    },
    {
     "data": {
      "image/png": "[encoded data removed]",
      "text/plain": [
       "<Figure size 640x480 with 1 Axes>"
      ]
     },
     "metadata": {},
     "output_type": "display_data"
    },
    {
     "data": {
      "image/png": "[encoded data removed]",
      "text/plain": [
       "<Figure size 640x480 with 1 Axes>"
      ]
     },
     "metadata": {},
     "output_type": "display_data"
    },
    {
     "data": {
      "image/png": "[encoded data removed]",
      "text/plain": [
       "<Figure size 640x480 with 1 Axes>"
      ]
     },
     "metadata": {},
     "output_type": "display_data"
    },
    {
     "data": {
      "image/png": "[encoded data removed]",
      "text/plain": [
       "<Figure size 640x480 with 1 Axes>"
      ]
     },
     "metadata": {},
     "output_type": "display_data"
    },
    {
     "data": {
      "image/png": "[encoded data removed]",
      "text/plain": [
       "<Figure size 640x480 with 1 Axes>"
      ]
     },
     "metadata": {},
     "output_type": "display_data"
    },
    {
     "data": {
      "image/png": "[encoded data removed]",
      "text/plain": [
       "<Figure size 640x480 with 1 Axes>"
      ]
     },
     "metadata": {},
     "output_type": "display_data"
    },
    {
     "data": {
      "image/png": "[encoded data removed]",
      "text/plain": [
       "<Figure size 640x480 with 1 Axes>"
      ]
     },
     "metadata": {},
     "output_type": "display_data"
    },
    {
     "data": {
      "image/png": "[encoded data removed]",
      "text/plain": [
       "<Figure size 640x480 with 1 Axes>"
      ]
     },
     "metadata": {},
     "output_type": "display_data"
    },
    {
     "data": {
      "image/png": "[encoded data removed]",
      "text/plain": [
       "<Figure size 640x480 with 1 Axes>"
      ]
     },
     "metadata": {},
     "output_type": "display_data"
    },
    {
     "data": {
      "image/png": "[encoded data removed]",
      "text/plain": [
       "<Figure size 640x480 with 1 Axes>"
      ]
     },
     "metadata": {},
     "output_type": "display_data"
    },
    {
     "data": {
      "image/png": "[encoded data removed]",
      "text/plain": [
       "<Figure size 640x480 with 1 Axes>"
      ]
     },
     "metadata": {},
     "output_type": "display_data"
    },
    {
     "data": {
      "image/png": "[encoded data removed]",
      "text/plain": [
       "<Figure size 640x480 with 1 Axes>"
      ]
     },
     "metadata": {},
     "output_type": "display_data"
    },
    {
     "data": {
      "image/png": "[encoded data removed]",
      "text/plain": [
       "<Figure size 640x480 with 1 Axes>"
      ]
     },
     "metadata": {},
     "output_type": "display_data"
    },
    {
     "data": {
      "image/png": "[encoded data removed]",
      "text/plain": [
       "<Figure size 640x480 with 1 Axes>"
      ]
     },
     "metadata": {},
     "output_type": "display_data"
    },
    {
     "data": {
      "image/png": "[encoded data removed]",
      "text/plain": [
       "<Figure size 640x480 with 1 Axes>"
      ]
     },
     "metadata": {},
     "output_type": "display_data"
    },
    {
     "data": {
      "image/png": "[encoded data removed]",
      "text/plain": [
       "<Figure size 640x480 with 1 Axes>"
      ]
     },
     "metadata": {},
     "output_type": "display_data"
    },
    {
     "data": {
      "image/png": "[encoded data removed]",
      "text/plain": [
       "<Figure size 640x480 with 1 Axes>"
      ]
     },
     "metadata": {},
     "output_type": "display_data"
    },
    {
     "data": {
      "image/png": "[encoded data removed]",
      "text/plain": [
       "<Figure size 640x480 with 1 Axes>"
      ]
     },
     "metadata": {},
     "output_type": "display_data"
    },
    {
     "data": {
      "image/png": "[encoded data removed]",
      "text/plain": [
       "<Figure size 640x480 with 1 Axes>"
      ]
     },
     "metadata": {},
     "output_type": "display_data"
    },
    {
     "data": {
      "image/png": "[encoded data removed]",
      "text/plain": [
       "<Figure size 640x480 with 1 Axes>"
      ]
     },
     "metadata": {},
     "output_type": "display_data"
    },
    {
     "data": {
      "image/png": "[encoded data removed]",
      "text/plain": [
       "<Figure size 640x480 with 1 Axes>"
      ]
     },
     "metadata": {},
     "output_type": "display_data"
    },
    {
     "data": {
      "image/png": "[encoded data removed]",
      "text/plain": [
       "<Figure size 640x480 with 1 Axes>"
      ]
     },
     "metadata": {},
     "output_type": "display_data"
    },
    {
     "data": {
      "image/png": "[encoded data removed]",
      "text/plain": [
       "<Figure size 640x480 with 1 Axes>"
      ]
     },
     "metadata": {},
     "output_type": "display_data"
    },
    {
     "data": {
      "image/png": "[encoded data removed]",
      "text/plain": [
       "<Figure size 640x480 with 1 Axes>"
      ]
     },
     "metadata": {},
     "output_type": "display_data"
    },
    {
     "data": {
      "image/png": "[encoded data removed]",
      "text/plain": [
       "<Figure size 640x480 with 1 Axes>"
      ]
     },
     "metadata": {},
     "output_type": "display_data"
    },
    {
     "data": {
      "image/png": "[encoded data removed]",
      "text/plain": [
       "<Figure size 640x480 with 1 Axes>"
      ]
     },
     "metadata": {},
     "output_type": "display_data"
    },
    {
     "data": {
      "image/png": "[encoded data removed]",
      "text/plain": [
       "<Figure size 640x480 with 1 Axes>"
      ]
     },
     "metadata": {},
     "output_type": "display_data"
    },
    {
     "data": {
      "image/png": "[encoded data removed]",
      "text/plain": [
       "<Figure size 640x480 with 1 Axes>"
      ]
     },
     "metadata": {},
     "output_type": "display_data"
    },
    {
     "data": {
      "image/png": "[encoded data removed]",
      "text/plain": [
       "<Figure size 640x480 with 1 Axes>"
      ]
     },
     "metadata": {},
     "output_type": "display_data"
    },
    {
     "data": {
      "image/png": "[encoded data removed]",
      "text/plain": [
       "<Figure size 640x480 with 1 Axes>"
      ]
     },
     "metadata": {},
     "output_type": "display_data"
    },
    {
     "data": {
      "image/png": "[encoded data removed]",
      "text/plain": [
       "<Figure size 640x480 with 1 Axes>"
      ]
     },
     "metadata": {},
     "output_type": "display_data"
    },
    {
     "data": {
      "image/png": "[encoded data removed]",
      "text/plain": [
       "<Figure size 640x480 with 1 Axes>"
      ]
     },
     "metadata": {},
     "output_type": "display_data"
    },
    {
     "data": {
      "image/png": "[encoded data removed]",
      "text/plain": [
       "<Figure size 640x480 with 1 Axes>"
      ]
     },
     "metadata": {},
     "output_type": "display_data"
    },
    {
     "data": {
      "image/png": "[encoded data removed]",
      "text/plain": [
       "<Figure size 640x480 with 1 Axes>"
      ]
     },
     "metadata": {},
     "output_type": "display_data"
    },
    {
     "data": {
      "image/png": "[encoded data removed]",
      "text/plain": [
       "<Figure size 640x480 with 1 Axes>"
      ]
     },
     "metadata": {},
     "output_type": "display_data"
    },
    {
     "data": {
      "image/png": "[encoded data removed]",
      "text/plain": [
       "<Figure size 640x480 with 1 Axes>"
      ]
     },
     "metadata": {},
     "output_type": "display_data"
    },
    {
     "data": {
      "image/png": "[encoded data removed]",
      "text/plain": [
       "<Figure size 640x480 with 1 Axes>"
      ]
     },
     "metadata": {},
     "output_type": "display_data"
    },
    {
     "data": {
      "image/png": "[encoded data removed]",
      "text/plain": [
       "<Figure size 640x480 with 1 Axes>"
      ]
     },
     "metadata": {},
     "output_type": "display_data"
    },
    {
     "data": {
      "image/png": "[encoded data removed]",
      "text/plain": [
       "<Figure size 640x480 with 1 Axes>"
      ]
     },
     "metadata": {},
     "output_type": "display_data"
    },
    {
     "data": {
      "image/png": "[encoded data removed]",
      "text/plain": [
       "<Figure size 640x480 with 1 Axes>"
      ]
     },
     "metadata": {},
     "output_type": "display_data"
    },
    {
     "data": {
      "image/png": "[encoded data removed]",
      "text/plain": [
       "<Figure size 640x480 with 1 Axes>"
      ]
     },
     "metadata": {},
     "output_type": "display_data"
    },
    {
     "data": {
      "image/png": "[encoded data removed]",
      "text/plain": [
       "<Figure size 640x480 with 1 Axes>"
      ]
     },
     "metadata": {},
     "output_type": "display_data"
    },
    {
     "data": {
      "image/png": "[encoded data removed]",
      "text/plain": [
       "<Figure size 640x480 with 1 Axes>"
      ]
     },
     "metadata": {},
     "output_type": "display_data"
    },
    {
     "data": {
      "image/png": "[encoded data removed]",
      "text/plain": [
       "<Figure size 640x480 with 1 Axes>"
      ]
     },
     "metadata": {},
     "output_type": "display_data"
    },
    {
     "data": {
      "image/png": "[encoded data removed]",
      "text/plain": [
       "<Figure size 640x480 with 1 Axes>"
      ]
     },
     "metadata": {},
     "output_type": "display_data"
    },
    {
     "data": {
      "image/png": "[encoded data removed]",
      "text/plain": [
       "<Figure size 640x480 with 1 Axes>"
      ]
     },
     "metadata": {},
     "output_type": "display_data"
    },
    {
     "data": {
      "image/png": "[encoded data removed]",
      "text/plain": [
       "<Figure size 640x480 with 1 Axes>"
      ]
     },
     "metadata": {},
     "output_type": "display_data"
    },
    {
     "data": {
      "image/png": "[encoded data removed]",
      "text/plain": [
       "<Figure size 640x480 with 1 Axes>"
      ]
     },
     "metadata": {},
     "output_type": "display_data"
    }
   ],
   "source": [
    "import numpy as np\n",
    "import matplotlib.pyplot as plt\n",
    "import time\n",
    "\n",
    "# Function to initialize the grid with random values (0 for dead, 1 for alive)\n",
    "def initialize_grid(size):\n",
    "    return np.random.choice([0, 1], size=size)\n",
    "\n",
    "# Function to compute the number of neighbors for each cell\n",
    "def count_neighbors(grid):\n",
    "    neighbors = np.zeros_like(grid)\n",
    "    for i in range(-1, 2):  # Iterate through all neighbors (3x3 block)\n",
    "        for j in range(-1, 2):\n",
    "            if i == 0 and j == 0:\n",
    "                continue\n",
    "            neighbors += np.roll(np.roll(grid, i, axis=0), j, axis=1)\n",
    "    return neighbors\n",
    "\n",
    "# Function to apply the Game of Life rules\n",
    "def game_of_life_step(grid):\n",
    "    neighbors = count_neighbors(grid)\n",
    "    # Apply the Game of Life rules\n",
    "    new_grid = ((grid == 1) & ((neighbors == 2) | (neighbors == 3))) | ((grid == 0) & (neighbors == 3))\n",
    "    return new_grid.astype(int)\n",
    "\n",
    "# Function to visualize the grid\n",
    "def visualize(grid):\n",
    "    plt.imshow(grid, cmap='binary')\n",
    "    plt.axis('off')\n",
    "    plt.show()\n",
    "\n",
    "# Main function to run the Game of Life\n",
    "def run_game_of_life(size=(50, 50), generations=100, interval=0.1):\n",
    "    # Initialize the grid\n",
    "    grid = initialize_grid(size)\n",
    "    \n",
    "    # Run the simulation for the given number of generations\n",
    "    for gen in range(generations):\n",
    "        # Display the current grid\n",
    "        visualize(grid)\n",
    "        \n",
    "        # Compute the next state\n",
    "        grid = game_of_life_step(grid)\n",
    "        \n",
    "        # Pause for a brief moment to create an animation effect\n",
    "        time.sleep(interval)\n",
    "\n",
    "# Run the Game of Life for a 50x50 grid, 100 generations\n",
    "run_game_of_life(size=(50, 50), generations=100, interval=0.1)\n"
   ]
  },
  {
   "cell_type": "markdown",
   "id": "69a892fa",
   "metadata": {},
   "source": [
    "#### 89. How to get the n largest values of an array (★★★)"
   ]
  },
  {
   "cell_type": "code",
   "execution_count": 107,
   "id": "21b2bd48",
   "metadata": {},
   "outputs": [
    {
     "name": "stdout",
     "output_type": "stream",
     "text": [
      "Array: [76 76 44 70 14 36 18  4 98 30]\n",
      "3 largest values: [76 76 98]\n"
     ]
    }
   ],
   "source": [
    "import numpy as np\n",
    "\n",
    "# Create a random array\n",
    "arr = np.random.randint(1, 100, size=10)\n",
    "\n",
    "# Get the n largest values (let's say n = 3)\n",
    "n = 3\n",
    "largest_values = arr[np.argsort(arr)[-n:]]\n",
    "\n",
    "print(\"Array:\", arr)\n",
    "print(f\"{n} largest values:\", largest_values)\n"
   ]
  },
  {
   "cell_type": "markdown",
   "id": "b55ccacc",
   "metadata": {},
   "source": [
    "#### 90. Given an arbitrary number of vectors, build the cartesian product (every combinations of every item) (★★★)"
   ]
  },
  {
   "cell_type": "code",
   "execution_count": 108,
   "id": "4b645da4",
   "metadata": {},
   "outputs": [
    {
     "name": "stdout",
     "output_type": "stream",
     "text": [
      "Array: [17  1 16 30 93 22 98 28 98 96]\n",
      "3 largest values: [96 98 98]\n"
     ]
    }
   ],
   "source": [
    "import numpy as np\n",
    "\n",
    "# Create a random array\n",
    "arr = np.random.randint(1, 100, size=10)\n",
    "\n",
    "# Get the n largest values (let's say n = 3)\n",
    "n = 3\n",
    "largest_values = arr[np.argsort(arr)[-n:]]\n",
    "\n",
    "print(\"Array:\", arr)\n",
    "print(f\"{n} largest values:\", largest_values)\n"
   ]
  },
  {
   "cell_type": "markdown",
   "id": "89187a23",
   "metadata": {},
   "source": [
    "#### 91. How to create a record array from a regular array? (★★★)"
   ]
  },
  {
   "cell_type": "code",
   "execution_count": 109,
   "id": "da94c71a",
   "metadata": {},
   "outputs": [
    {
     "name": "stdout",
     "output_type": "stream",
     "text": [
      "[('1', 'Alice', '25') ('2', 'Bob', '30') ('3', 'Charlie', '35')]\n",
      "ID of first record: ['1' '2' '3']\n",
      "Name of second record: ['Alice' 'Bob' 'Charlie']\n"
     ]
    }
   ],
   "source": [
    "import numpy as np\n",
    "\n",
    "# Regular array\n",
    "data = np.array([[1, 'Alice', 25],\n",
    "                 [2, 'Bob', 30],\n",
    "                 [3, 'Charlie', 35]])\n",
    "\n",
    "# Define the field names\n",
    "names = ['ID', 'Name', 'Age']\n",
    "\n",
    "# Create a record array from the regular array\n",
    "record_array = np.core.records.fromarrays(data.T, names=names)\n",
    "\n",
    "# Accessing the fields as attributes\n",
    "print(record_array)\n",
    "print(\"ID of first record:\", record_array.ID)\n",
    "print(\"Name of second record:\", record_array.Name)\n",
    "\n"
   ]
  },
  {
   "cell_type": "markdown",
   "id": "aa70d4ca",
   "metadata": {},
   "source": [
    "#### 92. Consider a large vector Z, compute Z to the power of 3 using 3 different methods (★★★)"
   ]
  },
  {
   "cell_type": "code",
   "execution_count": 110,
   "id": "7cff1bf5",
   "metadata": {},
   "outputs": [
    {
     "name": "stdout",
     "output_type": "stream",
     "text": [
      "[9.83322423e-01 5.79746775e-02 6.15824172e-02 1.68924551e-01\n",
      " 2.12110305e-02 3.51727779e-01 3.16290089e-01 6.86768745e-02\n",
      " 6.31177834e-01 5.23571857e-01 6.44009567e-03 6.79319220e-05\n",
      " 2.36927786e-03 4.68240742e-02 6.88954565e-01 5.90313505e-02\n",
      " 6.41016106e-02 1.07687636e-04 2.52896282e-01 1.45172736e-02\n",
      " 3.69161612e-02 5.86666930e-01 2.38640017e-01 4.30879482e-01\n",
      " 2.30985516e-01 8.10588830e-02 7.56856969e-01 4.61189067e-02\n",
      " 4.00434813e-01 8.67950795e-02 1.62602902e-04 5.41889348e-01\n",
      " 8.26232052e-06 5.58817104e-01 1.73949750e-02 4.27520330e-02\n",
      " 6.47431879e-02 2.89357055e-01 3.28817517e-01 1.42910127e-03\n",
      " 6.63759166e-03 6.40000337e-02 2.67269923e-01 1.61217216e-01\n",
      " 3.02793106e-01 9.10319102e-01 8.77526595e-01 1.40527218e-03\n",
      " 6.16379554e-02 8.01752085e-01 1.66766704e-04 5.04058539e-02\n",
      " 2.89192182e-01 2.68288393e-03 5.73270983e-01 1.35202442e-01\n",
      " 9.25390285e-03 8.84801023e-01 1.43937552e-01 2.28821930e-01\n",
      " 2.08939021e-02 1.43156388e-01 4.18013682e-02 7.33005327e-01\n",
      " 4.03291683e-01 1.02029959e-05 5.37573591e-01 7.90264930e-02\n",
      " 1.12163746e-02 9.94690456e-01 2.22407454e-01 2.22913045e-01\n",
      " 2.33568387e-01 2.90453130e-01 2.46149134e-01 8.35395711e-01\n",
      " 3.33681005e-01 9.95671396e-01 5.72663426e-01 1.22777116e-04\n",
      " 2.43532396e-02 4.57724976e-02 2.77984325e-03 3.90326938e-01\n",
      " 1.08037756e-02 3.75922694e-01 5.42619240e-01 3.48250397e-02\n",
      " 7.70507603e-01 2.71572716e-01 1.38678177e-03 4.23740898e-01\n",
      " 4.50947829e-01 5.24403755e-02 2.00524023e-05 1.35341684e-01\n",
      " 6.45332778e-01 1.53827922e-01 3.06016031e-01 2.28368078e-04\n",
      " 1.60110927e-03 1.97404606e-01 9.29779809e-01 7.94046349e-02\n",
      " 3.72995579e-03 2.96735764e-03 1.94340789e-02 1.05391728e-01\n",
      " 7.04874718e-02 3.92883869e-01 1.38555829e-03 7.86992102e-02\n",
      " 2.52150295e-02 5.93709978e-01 8.14988934e-01 1.09780248e-03\n",
      " 9.54946358e-02 1.34781707e-02 2.31273173e-03 8.94609815e-01\n",
      " 7.70366287e-03 4.08568755e-01 5.78574834e-02 1.12841835e-01\n",
      " 1.38081077e-02 4.64487566e-02 8.26814420e-03 1.74876245e-03\n",
      " 7.49978456e-01 5.49150902e-01 6.46970387e-02 1.41673050e-02\n",
      " 4.17459905e-01 2.59742557e-01 9.33270799e-01 4.81396596e-08\n",
      " 1.47823605e-02 3.00104312e-01 3.40406734e-03 4.37434930e-01\n",
      " 8.16129733e-01 4.55308739e-01 2.87470797e-01 8.26983177e-05\n",
      " 2.18812308e-02 6.22104241e-02 6.87448975e-01 7.94017123e-01\n",
      " 2.21559119e-01 3.89528173e-01 1.56337903e-02 6.44589650e-02\n",
      " 4.85817308e-02 3.03630873e-01 1.88239030e-03 2.32090168e-01\n",
      " 2.11562670e-01 7.68017715e-04 6.89286366e-02 2.76869372e-02\n",
      " 2.63661290e-03 5.82766144e-02 6.37132144e-01 8.10010168e-05\n",
      " 1.95106870e-01 7.15036531e-02 2.84949647e-01 6.94832494e-01\n",
      " 4.50683519e-04 3.47905534e-01 2.99908467e-02 2.60620196e-01\n",
      " 3.85177983e-01 2.22696174e-01 3.38947493e-01 4.62705539e-03\n",
      " 5.61351084e-01 1.51899974e-02 9.53326646e-01 2.65083783e-02\n",
      " 2.25570678e-01 1.37355098e-02 9.09087947e-01 1.60591772e-01\n",
      " 8.52980807e-02 9.10426344e-03 8.61919639e-04 2.00542928e-02\n",
      " 6.87219285e-01 7.92159696e-01 2.12894042e-02 3.47620728e-06\n",
      " 9.16362238e-02 3.12023818e-01 2.77056082e-01 7.87800633e-01\n",
      " 6.33931927e-01 2.09172281e-02 4.05997694e-01 7.80273149e-01\n",
      " 5.47570581e-01 1.65311107e-01 1.40068321e-02 1.80297940e-02\n",
      " 2.01806300e-01 2.14455685e-01 9.58947711e-02 4.37639258e-02\n",
      " 5.15500407e-03 1.98535808e-01 9.13450801e-01 5.03381302e-01\n",
      " 1.05327047e-06 1.54918511e-01 1.77218773e-02 5.09266549e-02\n",
      " 3.22049727e-03 1.77364477e-07 3.07116869e-01 4.52000419e-02\n",
      " 4.66628762e-02 3.47575008e-05 8.34103448e-01 9.23238069e-01\n",
      " 4.34249828e-01 6.34725608e-04 9.21945940e-02 1.60169787e-01\n",
      " 1.19882606e-01 2.44842576e-01 9.55092403e-01 2.17824999e-01\n",
      " 3.90206078e-01 7.96550047e-02 9.22143807e-01 9.73471247e-02\n",
      " 5.44072091e-01 5.38677750e-03 3.47431165e-01 7.30101218e-03\n",
      " 7.51703945e-02 7.01974487e-02 9.05203987e-02 7.04471989e-04\n",
      " 2.74279492e-01 7.52652466e-01 9.14498564e-02 5.13291576e-02\n",
      " 4.29350981e-01 1.93223122e-01 6.42452943e-01 4.54564579e-03\n",
      " 4.57431334e-01 1.64531970e-02 8.40741404e-03 3.92731249e-01\n",
      " 6.88040896e-03 1.42811419e-01 6.78093231e-01 6.71076158e-01\n",
      " 1.22079564e-04 1.37953513e-02 5.01370795e-01 2.29498856e-01\n",
      " 9.02843369e-01 7.76596325e-01 3.65263818e-01 6.78832249e-01\n",
      " 1.71994684e-01 1.78969145e-04 3.64977935e-03 9.00133749e-02\n",
      " 2.21631453e-01 5.55330810e-01 4.03819835e-01 7.08413652e-02\n",
      " 1.82403741e-01 8.74145712e-02 5.13295996e-08 5.44793360e-02\n",
      " 5.63940578e-03 9.61113215e-05 4.00300775e-01 5.15506236e-02\n",
      " 4.80141732e-01 4.06737503e-01 1.06955982e-03 9.74895645e-01\n",
      " 3.29932129e-01 7.66896308e-02 1.74598800e-01 1.90266961e-01\n",
      " 8.87183559e-01 1.10418269e-02 6.02410771e-04 9.97017116e-01\n",
      " 1.60700551e-02 2.52870851e-01 1.27358114e-02 3.04661992e-04\n",
      " 4.94093257e-01 7.41581364e-03 6.45157628e-02 4.61394596e-01\n",
      " 2.27617188e-02 4.94028023e-02 4.66308858e-01 7.33944131e-02\n",
      " 6.01175749e-02 2.39083005e-01 5.17952661e-04 6.77146014e-01\n",
      " 3.33524698e-02 4.94122870e-01 3.83618388e-02 6.53850860e-02\n",
      " 5.87309670e-02 1.44789822e-01 1.58511038e-04 1.32102925e-01\n",
      " 6.03848306e-01 4.69693341e-01 3.51227812e-01 1.31865961e-01\n",
      " 3.67424173e-03 3.11586635e-01 1.42673226e-01 8.16862956e-01\n",
      " 5.22859698e-03 5.95512206e-03 2.83341983e-03 5.32247811e-01\n",
      " 4.53597511e-02 7.37500015e-01 6.12585498e-03 2.63622075e-01\n",
      " 9.29189484e-01 4.29078871e-05 1.69743555e-01 6.16088765e-01\n",
      " 9.88246716e-01 1.30224708e-01 8.99158137e-02 2.50552308e-01\n",
      " 6.74159023e-02 7.81084142e-01 3.81884297e-02 1.31777691e-02\n",
      " 1.76618065e-01 1.13225509e-02 1.97848721e-01 6.44519984e-01\n",
      " 1.57440677e-04 1.34000638e-01 3.74427133e-01 4.81643795e-01\n",
      " 4.27882921e-01 7.77354259e-04 7.41019465e-03 1.14095730e-01\n",
      " 3.46189307e-02 2.30123276e-01 4.51506181e-02 6.46408699e-05\n",
      " 2.81242382e-02 4.96766746e-04 5.65120009e-02 5.22277543e-01\n",
      " 3.53469256e-01 8.82819130e-02 1.56282281e-01 9.61350971e-01\n",
      " 2.61323315e-05 7.43177979e-01 6.54289086e-01 1.25747837e-01\n",
      " 9.37697227e-04 1.23158487e-05 2.12130590e-03 1.60639856e-05\n",
      " 9.39383688e-03 7.19358305e-01 1.38006013e-11 4.91191953e-02\n",
      " 6.47764270e-02 8.04155492e-02 2.80971909e-01 6.89437476e-01\n",
      " 7.22875778e-01 8.47584393e-01 9.28664482e-01 8.69568449e-02\n",
      " 1.25100506e-02 1.45088747e-03 3.34139742e-01 2.88342038e-01\n",
      " 5.23584123e-01 1.45529935e-01 6.95350831e-01 9.52764072e-02\n",
      " 5.25040388e-01 9.68250528e-02 4.70015518e-02 5.27927353e-01\n",
      " 9.02420443e-01 7.84172254e-01 1.19002717e-02 2.03775786e-02\n",
      " 5.58712809e-02 9.55930293e-02 1.45075371e-02 5.97740307e-01\n",
      " 8.32889274e-02 2.25150241e-04 1.72526437e-01 2.84482784e-01\n",
      " 4.83945540e-02 1.84636403e-01 9.05746691e-02 8.71011497e-04\n",
      " 6.34648037e-03 1.99513420e-01 2.42813484e-02 4.51543019e-01\n",
      " 2.38353775e-01 1.37207144e-05 4.24566411e-01 7.59954724e-02\n",
      " 1.87229524e-03 2.17000998e-03 2.12536695e-02 8.06078311e-02\n",
      " 1.98869539e-01 8.09459405e-01 1.81974386e-02 4.03572999e-03\n",
      " 6.84293683e-01 4.04399051e-01 3.21869635e-02 2.06913272e-02\n",
      " 3.02767562e-02 6.78889159e-03 2.01705948e-01 4.34523334e-02\n",
      " 6.82154783e-04 9.91763665e-04 2.69330863e-02 1.51742581e-02\n",
      " 2.47105289e-03 2.59134651e-02 3.25092296e-03 4.33832336e-02\n",
      " 2.53017900e-01 8.08482640e-04 4.17401470e-01 1.51615909e-01\n",
      " 7.12302190e-01 6.36243151e-03 7.44880355e-01 5.88655229e-01\n",
      " 2.53341593e-02 3.13381580e-01 3.15069808e-01 4.24114701e-01\n",
      " 3.83346329e-02 3.56249244e-01 1.31693262e-01 3.75483633e-02\n",
      " 2.16799761e-01 1.46377106e-01 3.19180145e-03 5.85923787e-01\n",
      " 5.94969598e-03 3.52863301e-01 1.72963394e-01 3.12446246e-01\n",
      " 4.38831430e-01 8.45793410e-01 1.11458890e-01 2.44891806e-02\n",
      " 7.43624046e-01 7.31395983e-01 5.33148041e-01 7.62149233e-01\n",
      " 3.01077290e-02 4.13064668e-01 4.44999989e-02 1.21571463e-02\n",
      " 1.34820190e-01 1.00582161e-02 2.33626511e-04 3.50466904e-05\n",
      " 5.48000396e-01 5.84743868e-01 1.26958339e-01 2.56262438e-01\n",
      " 2.42235926e-01 1.31683680e-05 1.46884916e-01 8.69938297e-03\n",
      " 1.24538254e-01 2.16784157e-01 3.00225528e-02 6.76385778e-02\n",
      " 5.57437635e-02 2.14953380e-02 3.55854722e-02 2.27257265e-02\n",
      " 5.19573737e-04 9.93698254e-01 1.61104085e-01 1.79073598e-01\n",
      " 1.56218303e-08 2.60356084e-01 2.99394043e-02 8.18106662e-01\n",
      " 1.32674498e-01 1.36349274e-02 1.71667628e-03 1.11796900e-05\n",
      " 5.51086871e-05 3.35932500e-01 8.25134631e-01 3.08028995e-02\n",
      " 1.95252022e-01 4.25507150e-04 6.06850111e-02 6.39072778e-03\n",
      " 5.86974174e-01 5.58530678e-01 4.10984818e-01 6.98689038e-01\n",
      " 5.19572324e-02 4.23406495e-02 8.99934999e-01 1.46724507e-02\n",
      " 4.38862087e-02 6.38005322e-02 5.16606528e-03 2.27261752e-01\n",
      " 1.16208436e-03 8.34794849e-01 9.14494500e-02 5.19196961e-01\n",
      " 2.70902310e-02 1.52063994e-01 4.22208910e-04 3.55624579e-02\n",
      " 7.18045542e-03 6.26634160e-02 1.17222035e-01 5.32724438e-01\n",
      " 7.59295367e-01 4.47040706e-01 4.89900593e-02 1.71214241e-03\n",
      " 4.49153783e-01 7.27322695e-01 2.41373608e-03 2.02888061e-02\n",
      " 7.11721817e-01 1.03406352e-01 1.56208876e-02 3.80960398e-02\n",
      " 3.70694163e-02 2.29384643e-02 1.65882547e-01 2.27970902e-01\n",
      " 1.65877758e-02 8.57302874e-03 1.27993957e-02 9.04876949e-01\n",
      " 1.95946857e-01 8.28757015e-01 4.98896114e-01 5.21223292e-04\n",
      " 2.29294358e-02 3.11225999e-06 6.52926650e-04 7.89367838e-01\n",
      " 4.46241482e-02 3.45378079e-04 2.25226224e-01 1.87041489e-02\n",
      " 9.85361678e-01 4.54887661e-02 9.37447345e-03 5.86259185e-04\n",
      " 4.74208090e-02 1.34973340e-02 1.08812725e-01 5.35682058e-01\n",
      " 4.30344268e-01 1.11660630e-01 9.24120724e-03 2.16950927e-01\n",
      " 8.56863248e-03 8.60898882e-01 3.42987176e-02 4.07567654e-01\n",
      " 3.54697977e-01 6.35919839e-01 2.35432741e-01 2.54473289e-01\n",
      " 5.39774971e-04 2.35001180e-02 3.29328221e-01 1.65961416e-02\n",
      " 2.90557969e-02 4.10014540e-01 1.64871739e-01 8.15987500e-04\n",
      " 5.70116328e-01 2.57547872e-03 9.79680190e-04 8.47332714e-02\n",
      " 3.58583104e-04 3.87792294e-01 6.35302288e-01 1.88010280e-02\n",
      " 4.14640910e-01 9.79669117e-01 3.95136819e-01 5.68629244e-02\n",
      " 1.76645850e-01 6.31465112e-01 4.02142331e-01 4.09805326e-01\n",
      " 2.90387347e-01 3.42903510e-01 2.21118739e-04 1.41561689e-01\n",
      " 5.48141135e-01 1.84005050e-01 2.47165175e-02 1.72349831e-01\n",
      " 1.79733019e-02 1.16329454e-16 5.77795741e-01 4.29662567e-01\n",
      " 7.06717074e-04 2.02311443e-01 4.14728391e-01 4.08402821e-02\n",
      " 4.40440333e-01 6.62123035e-01 4.23827882e-01 7.18019968e-02\n",
      " 4.48882022e-01 1.64101553e-02 4.26233271e-06 9.98648474e-01\n",
      " 3.80823350e-01 3.00575856e-01 1.27811256e-03 6.18636430e-01\n",
      " 3.65021059e-02 4.80349578e-01 3.58103814e-03 2.18801121e-01\n",
      " 5.25563752e-02 8.13252235e-01 2.83892547e-01 9.99082297e-02\n",
      " 5.09546820e-01 3.81828128e-03 1.94537951e-04 2.46623320e-04\n",
      " 1.88889524e-02 2.30848851e-01 3.22507051e-01 6.49991869e-03\n",
      " 1.00591218e-01 8.77179741e-01 1.72859562e-02 5.70983836e-01\n",
      " 1.03456256e-02 9.16771342e-01 2.83586137e-02 3.91682840e-01\n",
      " 6.65436002e-01 9.73932359e-02 7.89178520e-03 1.29524420e-02\n",
      " 5.72689877e-01 7.01670372e-01 1.82043904e-01 3.02314545e-01\n",
      " 5.05408902e-01 5.56042893e-01 7.71304977e-06 1.90515002e-01\n",
      " 8.97878022e-02 4.72144537e-02 8.54961891e-01 6.50954676e-03\n",
      " 2.88948459e-02 1.49191841e-01 1.14899701e-01 7.77900918e-01\n",
      " 4.58049742e-01 5.22755869e-03 3.18699660e-03 1.13490249e-06\n",
      " 1.21735557e-02 6.61487155e-01 5.39865386e-01 1.17087615e-04\n",
      " 9.13686539e-01 2.69234005e-07 7.64480089e-01 1.96712443e-01\n",
      " 2.14529127e-04 3.36292616e-01 1.16859889e-02 2.77280540e-01\n",
      " 4.43091975e-01 7.47520752e-07 1.28225475e-03 2.73603717e-02\n",
      " 4.05456266e-02 2.84092381e-01 1.72936873e-01 9.02972109e-04\n",
      " 1.75061165e-01 2.82343966e-02 2.38805816e-03 4.08282127e-01\n",
      " 5.78851167e-02 1.14002542e-02 5.57365994e-01 5.79945687e-01\n",
      " 8.97664075e-01 1.96760216e-02 2.07775434e-02 9.75824277e-01\n",
      " 5.11384635e-01 1.10294634e-02 7.21412973e-02 1.73041542e-01\n",
      " 8.14611913e-01 5.24247234e-01 2.88837224e-01 7.34949313e-02\n",
      " 2.25693999e-01 3.44144732e-01 7.65933523e-02 4.42599110e-03\n",
      " 4.09183497e-01 4.76036374e-01 5.02381181e-01 5.40806563e-03\n",
      " 1.56524347e-02 4.61833753e-01 3.76361456e-02 2.90083762e-01\n",
      " 6.61631089e-03 3.20499002e-02 2.27477268e-05 1.88418054e-01\n",
      " 2.38006545e-01 6.44497772e-01 8.54025624e-03 1.98130622e-02\n",
      " 9.25535282e-02 2.45095956e-02 2.31380391e-02 9.56660948e-03\n",
      " 4.43415761e-01 5.12867358e-02 4.11456379e-04 1.61029305e-01\n",
      " 1.02734134e-02 6.44610458e-01 3.02926926e-01 4.33739449e-02\n",
      " 6.27810552e-02 8.04319701e-02 4.14858604e-01 8.11096346e-04\n",
      " 8.47837620e-02 6.86203546e-01 1.30840361e-01 8.33116476e-02\n",
      " 9.46657051e-02 4.81666698e-02 7.48322181e-01 2.83493541e-01\n",
      " 1.12957540e-01 2.60911038e-02 8.32888168e-05 1.17903545e-01\n",
      " 1.07339994e-01 4.33292409e-01 2.49963448e-02 1.33864362e-01\n",
      " 8.22576189e-01 2.23858955e-01 9.92698796e-05 9.09019644e-01\n",
      " 9.61775822e-07 1.07880502e-01 2.30233343e-01 1.74559683e-01\n",
      " 4.01061780e-02 1.45891485e-04 3.34889061e-02 4.80125832e-01\n",
      " 4.48256600e-01 1.83585224e-01 1.00095011e-01 3.59348878e-04\n",
      " 3.83233393e-01 3.90746505e-01 2.37871993e-01 5.32504759e-01\n",
      " 9.38572004e-01 4.95340578e-01 2.80984975e-01 2.83940325e-02\n",
      " 4.11979726e-03 4.45092687e-02 3.17658291e-01 2.99972709e-01\n",
      " 1.29830653e-01 7.00741922e-10 6.76411740e-01 7.26097112e-01\n",
      " 3.40077044e-01 2.73609674e-01 9.16100167e-01 1.54769758e-01\n",
      " 9.83561476e-01 1.57680163e-03 5.13197723e-01 9.60428864e-01\n",
      " 1.82423672e-01 9.92513599e-02 6.40868630e-01 6.77566891e-01\n",
      " 4.08382465e-01 8.11847831e-01 6.39061359e-02 3.64698401e-02\n",
      " 3.46853798e-02 3.31997703e-03 3.71791761e-04 8.10811287e-02\n",
      " 1.30445320e-01 7.33846825e-03 8.64522346e-02 1.62648247e-01\n",
      " 8.18215210e-01 1.20374113e-01 2.54854790e-03 4.20939271e-01\n",
      " 1.01352391e-01 9.80152416e-01 5.44729938e-01 7.54266739e-04\n",
      " 1.52357098e-01 2.23237132e-01 1.72614706e-04 1.47402687e-01\n",
      " 8.82807540e-04 2.80302692e-01 2.36346612e-04 8.55994433e-01\n",
      " 8.01525860e-02 9.99339619e-01 7.58064560e-01 9.80416349e-01\n",
      " 3.69481312e-03 1.21295398e-01 7.32511464e-02 4.86451554e-01\n",
      " 1.66053834e-03 9.06291590e-02 4.31225462e-01 1.52733450e-01\n",
      " 3.58300961e-03 2.30975306e-01 7.87085483e-04 1.72294588e-04\n",
      " 2.44523524e-02 4.48035203e-01 1.08927286e-01 4.68104139e-01\n",
      " 9.51552722e-02 1.71684564e-02 1.78257471e-01 2.05290889e-01\n",
      " 1.28981432e-01 2.11009208e-01 1.21745692e-01 8.63317132e-03\n",
      " 1.66366943e-01 2.08848229e-01 3.27168888e-01 4.42368604e-01\n",
      " 2.15659177e-01 5.93813047e-08 3.06206303e-01 8.66926736e-01\n",
      " 2.77309595e-02 6.01719615e-02 8.59903763e-03 8.58009001e-02\n",
      " 2.50946575e-01 1.61672439e-03 8.41895355e-01 8.15781552e-01\n",
      " 5.82723936e-04 3.59788924e-01 7.65708842e-02 6.07549918e-04\n",
      " 2.63896140e-01 4.44339644e-03 7.35825278e-02 2.17252073e-05\n",
      " 6.05251704e-02 9.35139985e-03 9.19040135e-01 8.11385213e-01\n",
      " 3.66089175e-03 5.54631579e-01 9.65235072e-02 2.10912673e-02\n",
      " 4.32425198e-01 9.28396557e-05 5.63513697e-01 1.77859060e-01\n",
      " 4.42780974e-01 2.76288284e-01 1.46395949e-03 2.54483120e-01\n",
      " 5.49341043e-01 4.50785852e-05 4.87082824e-01 7.92718198e-01\n",
      " 5.64135755e-01 1.52959230e-04 4.32155292e-01 9.13118464e-01\n",
      " 5.68678912e-01 6.90015993e-07 1.81086315e-01 1.56557535e-01\n",
      " 9.28299585e-03 5.38160253e-01 1.35458194e-01 1.25691464e-01\n",
      " 6.03319905e-05 8.14109554e-02 1.58924273e-01 3.81033951e-01\n",
      " 6.92532517e-01 1.32414801e-04 7.93084665e-01 7.63209616e-02\n",
      " 2.95490251e-01 5.33262599e-01 3.99412888e-01 1.65807346e-01\n",
      " 8.86527388e-01 1.20698587e-03 1.26628272e-01 1.21977557e-02\n",
      " 9.53135650e-04 6.40749323e-01 6.27375737e-01 8.03017514e-01\n",
      " 2.36916206e-01 2.03811779e-01 4.32963690e-04 6.30321755e-03\n",
      " 2.17217079e-02 4.12533996e-01 7.28538682e-02 8.90230562e-03\n",
      " 4.87135453e-02 2.13027322e-02 1.47612855e-02 7.87056595e-01\n",
      " 8.00312151e-01 9.06467654e-01 1.62173587e-02 2.63258735e-01\n",
      " 2.21095434e-01 1.06856689e-01 6.17076283e-02 4.94385675e-04\n",
      " 4.70517720e-02 4.38979814e-01 4.01563272e-02 9.17490616e-01\n",
      " 9.37055585e-04 4.06851546e-08 2.48119692e-01 4.94925249e-02]\n"
     ]
    }
   ],
   "source": [
    "import numpy as np\n",
    "\n",
    "# Create a large vector Z\n",
    "Z = np.random.rand(1000)\n",
    "\n",
    "# Compute Z^3 using the ** operator\n",
    "Z_cubed_1 = Z ** 3\n",
    "\n",
    "print(Z_cubed_1)\n"
   ]
  },
  {
   "cell_type": "markdown",
   "id": "5f79dd00",
   "metadata": {},
   "source": [
    "#### 93. Consider two arrays A and B of shape (8,3) and (2,2). How to find rows of A that contain elements of each row of B regardless of the order of the elements in B? (★★★)"
   ]
  },
  {
   "cell_type": "code",
   "execution_count": 111,
   "id": "20c105b2",
   "metadata": {},
   "outputs": [
    {
     "name": "stdout",
     "output_type": "stream",
     "text": [
      "Matching rows in A:\n",
      "[[1 2 3]\n",
      " [3 2 1]\n",
      " [7 8 9]\n",
      " [9 8 7]]\n"
     ]
    }
   ],
   "source": [
    "import numpy as np\n",
    "\n",
    "# Define the arrays A and B\n",
    "A = np.array([[1, 2, 3],\n",
    "              [4, 5, 6],\n",
    "              [7, 8, 9],\n",
    "              [3, 2, 1],\n",
    "              [5, 6, 4],\n",
    "              [9, 8, 7],\n",
    "              [10, 11, 12],\n",
    "              [13, 14, 15]])\n",
    "\n",
    "B = np.array([[3, 2],\n",
    "              [9, 7]])\n",
    "\n",
    "# Initialize an empty list to store the matching rows of A\n",
    "matching_rows = []\n",
    "\n",
    "# Loop through each row in B\n",
    "for b_row in B:\n",
    "    # Check if any row in A contains all the elements of the current row of B\n",
    "    for a_row in A:\n",
    "        if set(b_row).issubset(set(a_row)):\n",
    "            matching_rows.append(a_row)\n",
    "\n",
    "# Convert the matching rows into a numpy array\n",
    "matching_rows = np.array(matching_rows)\n",
    "\n",
    "print(\"Matching rows in A:\")\n",
    "print(matching_rows)\n"
   ]
  },
  {
   "cell_type": "markdown",
   "id": "a80570cd",
   "metadata": {},
   "source": [
    "#### 94. Considering a 10x3 matrix, extract rows with unequal values (e.g. [2,2,3]) (★★★)"
   ]
  },
  {
   "cell_type": "code",
   "execution_count": 112,
   "id": "84db8de1",
   "metadata": {},
   "outputs": [
    {
     "name": "stdout",
     "output_type": "stream",
     "text": [
      "Rows with unequal values:\n",
      "[[ 2  2  3]\n",
      " [ 1  2  3]\n",
      " [ 5  6  7]\n",
      " [ 8  9 10]\n",
      " [11 12 13]]\n"
     ]
    }
   ],
   "source": [
    "import numpy as np\n",
    "\n",
    "# Create a random 10x3 matrix (you can modify the values as needed)\n",
    "matrix = np.array([[2, 2, 3],\n",
    "                   [4, 4, 4],\n",
    "                   [1, 2, 3],\n",
    "                   [7, 7, 7],\n",
    "                   [5, 6, 7],\n",
    "                   [9, 9, 9],\n",
    "                   [8, 9, 10],\n",
    "                   [3, 3, 3],\n",
    "                   [11, 12, 13],\n",
    "                   [5, 5, 5]])\n",
    "\n",
    "# Find rows where all elements are not equal\n",
    "unequal_rows = matrix[~np.all(matrix == matrix[:, [0]], axis=1)]\n",
    "\n",
    "print(\"Rows with unequal values:\")\n",
    "print(unequal_rows)\n"
   ]
  },
  {
   "cell_type": "markdown",
   "id": "ba154f43",
   "metadata": {},
   "source": [
    "#### 95. Convert a vector of ints into a matrix binary representation (★★★)"
   ]
  },
  {
   "cell_type": "code",
   "execution_count": 113,
   "id": "cfa96e1b",
   "metadata": {},
   "outputs": [
    {
     "ename": "AttributeError",
     "evalue": "'numpy.int32' object has no attribute 'bit_length'",
     "output_type": "error",
     "traceback": [
      "\u001b[1;31m---------------------------------------------------------------------------\u001b[0m",
      "\u001b[1;31mAttributeError\u001b[0m                            Traceback (most recent call last)",
      "Cell \u001b[1;32mIn[113], line 7\u001b[0m\n\u001b[0;32m      4\u001b[0m vector \u001b[38;5;241m=\u001b[39m np\u001b[38;5;241m.\u001b[39marray([\u001b[38;5;241m3\u001b[39m, \u001b[38;5;241m5\u001b[39m, \u001b[38;5;241m7\u001b[39m, \u001b[38;5;241m10\u001b[39m, \u001b[38;5;241m15\u001b[39m])\n\u001b[0;32m      6\u001b[0m \u001b[38;5;66;03m# Define the number of bits to represent each number (e.g., 4 bits for numbers up to 15)\u001b[39;00m\n\u001b[1;32m----> 7\u001b[0m num_bits \u001b[38;5;241m=\u001b[39m \u001b[38;5;28;43mmax\u001b[39;49m\u001b[43m(\u001b[49m\u001b[43mvector\u001b[49m\u001b[43m)\u001b[49m\u001b[38;5;241;43m.\u001b[39;49m\u001b[43mbit_length\u001b[49m()  \u001b[38;5;66;03m# Get the number of bits for the largest number\u001b[39;00m\n\u001b[0;32m      9\u001b[0m \u001b[38;5;66;03m# Convert each integer into its binary representation and pad with leading zeros if necessary\u001b[39;00m\n\u001b[0;32m     10\u001b[0m binary_matrix \u001b[38;5;241m=\u001b[39m np\u001b[38;5;241m.\u001b[39marray([\u001b[38;5;28mlist\u001b[39m(\u001b[38;5;124mf\u001b[39m\u001b[38;5;124m'\u001b[39m\u001b[38;5;132;01m{\u001b[39;00mnum\u001b[38;5;132;01m:\u001b[39;00m\u001b[38;5;124m0\u001b[39m\u001b[38;5;132;01m{\u001b[39;00mnum_bits\u001b[38;5;132;01m}\u001b[39;00m\u001b[38;5;124mb\u001b[39m\u001b[38;5;132;01m}\u001b[39;00m\u001b[38;5;124m'\u001b[39m) \u001b[38;5;28;01mfor\u001b[39;00m num \u001b[38;5;129;01min\u001b[39;00m vector], dtype\u001b[38;5;241m=\u001b[39m\u001b[38;5;28mint\u001b[39m)\n",
      "\u001b[1;31mAttributeError\u001b[0m: 'numpy.int32' object has no attribute 'bit_length'"
     ]
    }
   ],
   "source": [
    "import numpy as np\n",
    "\n",
    "# Create a vector of integers\n",
    "vector = np.array([3, 5, 7, 10, 15])\n",
    "\n",
    "# Define the number of bits to represent each number (e.g., 4 bits for numbers up to 15)\n",
    "num_bits = max(vector).bit_length()  # Get the number of bits for the largest number\n",
    "\n",
    "# Convert each integer into its binary representation and pad with leading zeros if necessary\n",
    "binary_matrix = np.array([list(f'{num:0{num_bits}b}') for num in vector], dtype=int)\n",
    "\n",
    "print(\"Binary Matrix Representation:\")\n",
    "print(binary_matrix)\n"
   ]
  },
  {
   "cell_type": "markdown",
   "id": "420e2343",
   "metadata": {},
   "source": [
    "#### 96. Given a two dimensional array, how to extract unique rows? (★★★)"
   ]
  },
  {
   "cell_type": "code",
   "execution_count": 114,
   "id": "4680dfd0",
   "metadata": {},
   "outputs": [
    {
     "name": "stdout",
     "output_type": "stream",
     "text": [
      "Unique Rows:\n",
      "[[1 2 3]\n",
      " [4 5 6]\n",
      " [7 8 9]]\n"
     ]
    }
   ],
   "source": [
    "import numpy as np\n",
    "\n",
    "# Example 2D array\n",
    "array = np.array([[1, 2, 3],\n",
    "                  [4, 5, 6],\n",
    "                  [1, 2, 3],\n",
    "                  [7, 8, 9]])\n",
    "\n",
    "# Extract unique rows\n",
    "unique_rows = np.unique(array, axis=0)\n",
    "\n",
    "print(\"Unique Rows:\")\n",
    "print(unique_rows)\n"
   ]
  },
  {
   "cell_type": "markdown",
   "id": "89fef2f3",
   "metadata": {},
   "source": [
    "#### 97. Considering 2 vectors A & B, write the einsum equivalent of inner, outer, sum, and mul function (★★★)"
   ]
  },
  {
   "cell_type": "code",
   "execution_count": 115,
   "id": "bb9c14b2",
   "metadata": {},
   "outputs": [
    {
     "name": "stdout",
     "output_type": "stream",
     "text": [
      "Inner Product: 32\n"
     ]
    }
   ],
   "source": [
    "import numpy as np\n",
    "\n",
    "A = np.array([1, 2, 3])\n",
    "B = np.array([4, 5, 6])\n",
    "\n",
    "# Using np.einsum for inner product (dot product)\n",
    "inner_product = np.einsum('i,i', A, B)\n",
    "\n",
    "print(\"Inner Product:\", inner_product)\n"
   ]
  },
  {
   "cell_type": "markdown",
   "id": "7ad5cc5f",
   "metadata": {},
   "source": [
    "#### 98. Considering a path described by two vectors (X,Y), how to sample it using equidistant samples (★★★)?"
   ]
  },
  {
   "cell_type": "code",
   "execution_count": 116,
   "id": "0899d1d5",
   "metadata": {},
   "outputs": [],
   "source": [
    "import numpy as np\n",
    "import matplotlib.pyplot as plt\n",
    "\n",
    "def sample_path(X, Y, num_samples):\n",
    "    # Compute the differences between consecutive points\n",
    "    dx = np.diff(X)\n",
    "    dy = np.diff(Y)\n",
    "    \n",
    "    # Compute the cumulative distance along the path\n",
    "    distances = np.sqrt(dx**2 + dy**2)\n",
    "    cumulative_distances = np.cumsum(distances)\n",
    "    \n",
    "    # Append the total distance as the last value to represent the end of the path\n",
    "    cumulative_distances = np.insert(cumulative_distances, 0, 0)\n",
    "    \n",
    "    # Total length of the path\n",
    "    total_length = cumulative_distances[-1]\n",
    "    \n",
    "    # Generate equidistant positions along the path\n",
    "    sample_distances = np.linspace(0, total_length, num_samples)\n",
    "    \n",
    "    # Interpolate the points based on the sample distances\n",
    "    sampled_X = np.interp(sample_distances, cumulative_distances, X)\n",
    "    sampled_Y = np.interp(sample_distances, cumulative_distances, Y)\n",
    "   \n"
   ]
  },
  {
   "cell_type": "markdown",
   "id": "2b69272e",
   "metadata": {},
   "source": [
    "#### 99. Given an integer n and a 2D array X, select from X the rows which can be interpreted as draws from a multinomial distribution with n degrees, i.e., the rows which only contain integers and which sum to n. (★★★)"
   ]
  },
  {
   "cell_type": "code",
   "execution_count": 117,
   "id": "55c8b034",
   "metadata": {},
   "outputs": [
    {
     "name": "stdout",
     "output_type": "stream",
     "text": [
      "Valid rows: [[1. 1. 1. 1. 1.]\n",
      " [3. 1. 1. 0. 0.]]\n"
     ]
    }
   ],
   "source": [
    "import numpy as np\n",
    "\n",
    "def select_multinomial_rows(X, n):\n",
    "    # Check if each row contains only integers and the sum equals n\n",
    "    valid_rows = np.all(np.equal(X.astype(int), X), axis=1) & (X.sum(axis=1) == n)\n",
    "    \n",
    "    # Select and return the valid rows\n",
    "    return X[valid_rows]\n",
    "\n",
    "# Example usage:\n",
    "n = 5  # Degree of the multinomial distribution\n",
    "X = np.array([\n",
    "    [1, 1, 1, 1, 1],  # Valid row: sum is 5, all integers\n",
    "    [2, 2, 2, 2, 2],  # Invalid row: sum is 10, not equal to n\n",
    "    [3, 1, 1, 0, 0],  # Valid row: sum is 5, all integers\n",
    "    [1, 2, 3, 4, 5],  # Invalid row: sum is 15, not equal to n\n",
    "    [1.5, 2, 1, 1, 0]  # Invalid row: contains a float value\n",
    "])\n",
    "\n",
    "# Select rows that can be interpreted as draws from a multinomial distribution\n",
    "valid_rows = select_multinomial_rows(X, n)\n",
    "\n",
    "print(\"Valid rows:\", valid_rows)\n"
   ]
  },
  {
   "cell_type": "markdown",
   "id": "59ab5516",
   "metadata": {},
   "source": [
    "#### 100. Compute bootstrapped 95% confidence intervals for the mean of a 1D array X (i.e., resample the elements of an array with replacement N times, compute the mean of each sample, and then compute percentiles over the means). (★★★)"
   ]
  },
  {
   "cell_type": "code",
   "execution_count": 118,
   "id": "450877d8",
   "metadata": {},
   "outputs": [
    {
     "name": "stdout",
     "output_type": "stream",
     "text": [
      "95% confidence interval for the mean: (-0.22305936514997285, 0.14244626356901344)\n"
     ]
    }
   ],
   "source": [
    "import numpy as np\n",
    "\n",
    "def bootstrap_confidence_interval(X, N=1000, confidence=95):\n",
    "    # Generate bootstrap samples and compute their means\n",
    "    bootstrap_means = [np.mean(np.random.choice(X, size=len(X), replace=True)) for _ in range(N)]\n",
    "    \n",
    "    # Compute the lower and upper percentiles for the confidence interval\n",
    "    lower_bound = np.percentile(bootstrap_means, (100 - confidence) / 2)\n",
    "    upper_bound = np.percentile(bootstrap_means, 100 - (100 - confidence) / 2)\n",
    "    \n",
    "    return lower_bound, upper_bound\n",
    "\n",
    "# Example usage:\n",
    "X = np.random.randn(100)  # Random 1D array\n",
    "confidence_interval = bootstrap_confidence_interval(X, N=10000, confidence=95)\n",
    "\n",
    "print(f\"95% confidence interval for the mean: {confidence_interval}\")\n"
   ]
  }
 ],
 "metadata": {
  "kernelspec": {
   "display_name": "base",
   "language": "python",
   "name": "python3"
  },
  "language_info": {
   "codemirror_mode": {
    "name": "ipython",
    "version": 3
   },
   "file_extension": ".py",
   "mimetype": "text/x-python",
   "name": "python",
   "nbconvert_exporter": "python",
   "pygments_lexer": "ipython3",
   "version": "3.12.4"
  }
 },
 "nbformat": 4,
 "nbformat_minor": 5
}
